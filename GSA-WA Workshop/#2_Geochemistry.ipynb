{
 "cells": [
  {
   "cell_type": "markdown",
   "id": "4df95294",
   "metadata": {},
   "source": [
    "# Geochemistry\n",
    "\n",
    "We can harness the pandas capabilities of working with tabular data with the rest of the Python ecosystem. The library `pyrolite` developed by Morgan Williams (CSIRO) is very useful for working with geochemical data\n",
    "\n",
    "As with anything, examples will make it clearer"
   ]
  },
  {
   "cell_type": "code",
   "execution_count": null,
   "id": "4a3fef17",
   "metadata": {},
   "outputs": [],
   "source": [
    "# For data processing\n",
    "import pandas as pd\n",
    "import numpy as np\n",
    "from pyrolite.geochem.norm import all_reference_compositions,get_reference_composition\n",
    "\n",
    "# For visualization\n",
    "import seaborn as sns\n",
    "import pyrolite.plot\n",
    "import matplotlib.pyplot as plt\n",
    "import os\n"
   ]
  },
  {
   "cell_type": "markdown",
   "id": "ca325445",
   "metadata": {},
   "source": [
    "## Import and clean datasets\n",
    "We're working with data from the Antrim Volcanic Plateau in the NT"
   ]
  },
  {
   "cell_type": "code",
   "execution_count": null,
   "id": "2acb3719",
   "metadata": {},
   "outputs": [],
   "source": [
    "Litho = pd.read_excel(r\"https://raw.githubusercontent.com/pierosampaio/PythonWorkshop/refs/heads/main/GSA-WA%202025%20Data/AntrimData/Antrim%20DH%20geology.xls\")\n",
    "Maj = pd.read_excel(r\"https://raw.githubusercontent.com/pierosampaio/PythonWorkshop/refs/heads/main/GSA-WA%202025%20Data/AntrimData/ANT1&2%20original%20majors.xls\",\n",
    "                     header = 1)\n",
    "TE = pd.read_excel(r\"https://raw.githubusercontent.com/pierosampaio/PythonWorkshop/refs/heads/main/GSA-WA%202025%20Data/AntrimData/Ant1&2%20original%20traces.xls\")\n",
    "\n",
    "\n",
    "TE = TE.rename({\"ELEMENTS\":\"ID\"}, axis = 1)\n",
    "Maj_LOD = Maj.iloc[1,3:]\n",
    "TE_LOD = TE.iloc[1,3:]\n",
    "TE_Dup = TE.iloc[36:38,:]\n",
    "TE_Standards = TE.iloc[40:43]\n",
    "\n",
    "Maj = Maj.iloc[4:,:]\n",
    "TE = TE.iloc[5:34,:]\n",
    "Maj[\"CentrePoint\"] = Maj.Interval.str.split(\"-\").apply(lambda x: (float(x[0]) + float(x[1]))/2).round(2)\n",
    "TE[\"CentrePoint\"] = TE.Interval.str.split(\"-\").apply(lambda x: (float(x[0]) + float(x[1]))/2).round(2)\n",
    "Maj = Maj.rename({'AUSQUEST 22/11/02   251102':\"ID\"}, axis = 1)\n",
    "TraceElements = TE.pyrochem.list_elements\n",
    "\n",
    "\n",
    " "
   ]
  },
  {
   "cell_type": "code",
   "execution_count": null,
   "id": "ae42fca5",
   "metadata": {},
   "outputs": [],
   "source": [
    "Standards = pd.DataFrame(\n",
    "    [  \n",
    "        [\n",
    "            340.,122.,2.8,12,7,18.2,14.2,2.,14.,10.6,4.3,\n",
    "            58.,2.1,13.,57.,9.,15.,55.,12.7,1191.,0.9,2.6,\n",
    "            1.4,2.3,0.8,8.,119.,14.8,93.,517.\n",
    "        ]\n",
    "    ],\n",
    "    columns=TraceElements,\n",
    "    index=[\"SY-4\"]\n",
    ")\n",
    "Standards.index.name = \"ID\""
   ]
  },
  {
   "cell_type": "code",
   "execution_count": null,
   "id": "50fa442d",
   "metadata": {},
   "outputs": [],
   "source": [
    "def RSD(el1,el2):\n",
    "    return np.std([el1,el2])/np.mean([el1,el2]) * 100\n",
    "\n",
    "def check_duplicates(dataset, duplicates, columns, ID_column = \"ID\", plot = True):\n",
    "\n",
    "    Dup_IDs = duplicates[\"ID\"].values\n",
    "    Dup_checks = np.empty(shape = (len(Dup_IDs),len(columns)))\n",
    "    for i,idx in enumerate(Dup_IDs):\n",
    "        data = dataset.loc[dataset[\"ID\"]==idx,columns]\n",
    "        dups = duplicates.loc[duplicates[\"ID\"]==idx,columns]\n",
    "        Dup_checks[i] = list(map(RSD, data.values[0], dups.values[0]))\\\n",
    "        \n",
    "\n",
    "    if plot:\n",
    "        fig, ax = plt.subplots(figsize = (10,4))\n",
    "\n",
    "        for i in range(len(Dup_checks)):\n",
    "            ax.scatter(\n",
    "                np.arange(Dup_checks.shape[1]),\n",
    "                Dup_checks[i],\n",
    "                label = Dup_IDs[i]\n",
    "            )\n",
    "\n",
    "        ax.axhline(\n",
    "            5, ls = \"--\", color = \"black\"\n",
    "        )\n",
    "\n",
    "        ax.set_xticks(\n",
    "            np.arange(TE.loc[:,\"Ba\":\"Zr\"].values.shape[1]),\n",
    "            labels = TE.loc[:,\"Ba\":\"Zr\"].columns\n",
    "        );\n",
    "\n",
    "        ax.set(xlabel = \"Element\", ylabel = \"RSD (%)\");\n",
    "        ax.legend();\n",
    "\n",
    "def check_standards(Meas_standards, standards, columns, ID_column = \"ID\"):\n",
    "\n",
    "    Std_ids = standards.index\n",
    " \n",
    "    _, ax = plt.subplots()\n",
    "\n",
    "    for i, idx in enumerate(Std_ids):\n",
    "\n",
    "        ax.scatter(\n",
    "            Meas_standards.loc[Meas_standards[ID_column]==idx,columns].values[0],\n",
    "            standards.loc[standards.index==idx,columns].values[0],\n",
    "            label = Std_ids[i]\n",
    "        )\n",
    "    \n",
    "    ax.plot(\n",
    "        [0,max(Meas_standards.loc[Meas_standards[ID_column]==idx,columns].values[0].max(),\n",
    "               standards.loc[standards.index==idx,columns].values[0].max())],\n",
    "        [0,max(Meas_standards.loc[Meas_standards[ID_column]==idx,columns].values[0].max(),\n",
    "               standards.loc[standards.index==idx,columns].values[0].max())],\n",
    "        color = \"black\", ls = \":\"\n",
    "    )\n",
    "\n",
    "    ax.set(\n",
    "        xlabel = \"Measured\", ylabel = \"Reference\"\n",
    "    );\n",
    "    ax.legend();\n",
    "\n"
   ]
  },
  {
   "cell_type": "code",
   "execution_count": null,
   "id": "e704fc96",
   "metadata": {},
   "outputs": [],
   "source": [
    "check_duplicates(TE,TE_Dup,TraceElements)"
   ]
  },
  {
   "cell_type": "code",
   "execution_count": null,
   "id": "6bb4ac63",
   "metadata": {},
   "outputs": [],
   "source": [
    "check_standards(TE_Standards, Standards, TraceElements)"
   ]
  },
  {
   "cell_type": "markdown",
   "id": "69bd58d1",
   "metadata": {},
   "source": [
    "## Merging the major and trace element datasets"
   ]
  },
  {
   "cell_type": "code",
   "execution_count": null,
   "id": "2f7760d0",
   "metadata": {},
   "outputs": [],
   "source": [
    "df = Maj.merge(TE[[\"ID\",*TE.pyrochem.list_elements]], on = \"ID\")\n",
    "df"
   ]
  },
  {
   "cell_type": "code",
   "execution_count": null,
   "id": "4d1dabd4",
   "metadata": {},
   "outputs": [],
   "source": [
    "df.info()"
   ]
  },
  {
   "cell_type": "markdown",
   "id": "88d4771c",
   "metadata": {},
   "source": [
    "We can see the element columns are all classified as containing object types. That is basically a catch-all bag of mixed data types. We want the data to be numeric. The issue is the existence of values below LOD, denoted as \"<\", which python cannot interpret as a number. There are multiple ways to overcome this"
   ]
  },
  {
   "cell_type": "code",
   "execution_count": null,
   "id": "9931e25d",
   "metadata": {},
   "outputs": [],
   "source": []
  },
  {
   "cell_type": "code",
   "execution_count": null,
   "id": "fff9f925",
   "metadata": {},
   "outputs": [],
   "source": [
    "# Identifying data < LOD\n",
    "df = df.replace(\n",
    "    to_replace=[\n",
    "        x for x in df.values.flatten() if str(x).startswith(\"<\")\n",
    "    ],\n",
    "    value=np.nan\n",
    ") # we'll replace values < LOD for nans; that is an option. One could also choose to treat them as half the LOD, etc.\n",
    "# It is important to note that any choice will introduce some sort of bias to the data\n",
    "\n",
    "# We can then convert the column types to floating point numbers \n",
    "df.pyrochem.compositional = df.pyrochem.compositional.astype(\"float\")\n",
    "df.pyrochem.compositional.info()\n",
    "\n"
   ]
  },
  {
   "cell_type": "markdown",
   "id": "8fd66f29",
   "metadata": {},
   "source": [
    "## Now we can start plotting our data\n",
    "### Harker plot\n",
    "$MgO$ vs. major elements"
   ]
  },
  {
   "cell_type": "code",
   "execution_count": null,
   "id": "c9aabf2a",
   "metadata": {},
   "outputs": [],
   "source": [
    "fig, ax = plt.subplots()\n",
    "\n",
    "ax.scatter(\n",
    "    df[\"MgO\"], # x-variable\n",
    "    df[\"Al2O3\"], # y-variable\n",
    "    marker=\"o\",\n",
    "    color=\"blue\"\n",
    ")\n",
    "\n",
    "ax.set_xlabel(\"$MgO$ (wt%)\")\n",
    "ax.set_ylabel(\"$Al_{2}O_{3}$ (wt%)\")\n",
    "\n",
    "plt.show()"
   ]
  },
  {
   "cell_type": "code",
   "execution_count": null,
   "id": "0d622325",
   "metadata": {},
   "outputs": [],
   "source": [
    "def Harker(df, element, ax, **kwargs):  #kwargs are the style changes that will be passed on to the ax.scatter() call\n",
    "\n",
    "  x = df[\"MgO\"],\n",
    "  y = df[element],\n",
    "\n",
    "  ax.scatter(\n",
    "      x,y,\n",
    "      **kwargs\n",
    "  )\n",
    "  ax.set(xlabel=\"MgO\", ylabel=element)\n",
    "\n",
    "\n",
    "fig, ax = plt.subplots()\n",
    "Harker(df,\"Al2O3\",ax, color=\"red\") # color is a kwarg"
   ]
  },
  {
   "cell_type": "code",
   "execution_count": null,
   "id": "697fbc79",
   "metadata": {},
   "outputs": [],
   "source": [
    "# We will use 8 major elements, which we will split up in 2 rows and 4 columns\n",
    "fig, axes = plt.subplots(2, 4, figsize=(15, 6))\n",
    "\n",
    "\n",
    "elements = [\"Al2O3\", \"Fe2O3\", \"CaO\", \"SiO2\",\n",
    "            \"TiO2\", \"Na2O\", \"K2O\", \"P2O5\"]\n",
    "\n",
    "for ax, element in zip(axes.flatten(), elements):\n",
    "  Harker(df, element, ax)\n",
    "\n",
    "plt.tight_layout()"
   ]
  },
  {
   "cell_type": "markdown",
   "id": "818016c7",
   "metadata": {},
   "source": [
    "#### Optional questions\n",
    "- How can we use a different element as x-axis?\n",
    "- Is there a way to make the x-label appear only on the lower plots?"
   ]
  },
  {
   "cell_type": "markdown",
   "id": "cdc9391d",
   "metadata": {},
   "source": [
    "## Calculating new variables:\n",
    "With pandas we can not only visualize tabulat data, but also evaluate expressions and calculate new variables, among other things. For this example we will calculate Total Alkalis ($K_{2}O + Na_{2}O$) so we can later use this variable for classification in a TAS diagram. We can achieve this in multiple ways"
   ]
  },
  {
   "cell_type": "code",
   "execution_count": null,
   "id": "7e02f1de",
   "metadata": {},
   "outputs": [],
   "source": [
    "#df[\"Na2O + K2O\"] = df[\"Na2O\"] + df[\"K2O\"]\n",
    "#df[\"Na2O + K2O\"] = df.eval(\"Na2O + K2O\")\n",
    "df[\"Na2O + K2O\"] = df.apply(lambda x: x[\"K2O\"]+x[\"Na2O\"], axis=1)\n",
    "df[\"Na2O + K2O\"].head()"
   ]
  },
  {
   "cell_type": "code",
   "execution_count": null,
   "id": "84d6cda0",
   "metadata": {},
   "outputs": [],
   "source": [
    "REE = df.pyrochem.REE\n",
    "\n",
    "REE[\"La/Sm\"] = REE.eval(\"La/Sm\")\n",
    "# using the .eval() method to calculate a new ratio\n",
    "# REE[\"La/Sm\"] = REE[\"La\"].values/REE[\"Sm\"].values would also work\n",
    "\n",
    "\n",
    "REE[\"Nd/10\"] = REE[\"Nd\"].apply(lambda x: x/10)\n",
    "# using the .apply method and an anonymous function to calculate a new variable\n",
    "# REE[\"Nd/10\"] = REE.eval(\"Nd/10\") also works\n",
    "# REE[\"Nd/10\"] = REE[\"Nd\"].values/10 also works\n",
    "\n",
    "\n",
    "REE[\"Gd/Yb\"] = REE.eval(\"Gd/Yb\")"
   ]
  },
  {
   "cell_type": "markdown",
   "id": "61685f1f",
   "metadata": {},
   "source": [
    "Now we can use the TAS template provided by `pyrolite`"
   ]
  },
  {
   "cell_type": "code",
   "execution_count": null,
   "id": "fd86402f",
   "metadata": {},
   "outputs": [],
   "source": [
    "from pyrolite.plot.templates import TAS, pearceThNbYb, pearceTiNbYb"
   ]
  },
  {
   "cell_type": "code",
   "execution_count": null,
   "id": "67af2282",
   "metadata": {},
   "outputs": [],
   "source": [
    "ax = TAS(linewidth = 0.5, add_labels = True)\n",
    "\n",
    "ax.scatter(\n",
    "    df[\"SiO2\"],\n",
    "    df[\"Na2O + K2O\"]\n",
    ")\n",
    "\n",
    "plt.show()"
   ]
  },
  {
   "cell_type": "code",
   "execution_count": null,
   "id": "082114b4",
   "metadata": {},
   "outputs": [],
   "source": [
    "## other templates\n",
    "fig, (ax1, ax2) = plt.subplots(2,1, figsize = (6,8))\n",
    "\n",
    "pearceThNbYb(ax1)\n",
    "pearceTiNbYb(ax2)"
   ]
  },
  {
   "cell_type": "code",
   "execution_count": null,
   "id": "dd2cb88c",
   "metadata": {},
   "outputs": [],
   "source": [
    "from pyrolite.util.classification import TAS as TAS_clf\n"
   ]
  },
  {
   "cell_type": "code",
   "execution_count": null,
   "id": "33dfd070",
   "metadata": {},
   "outputs": [],
   "source": [
    "cm = TAS_clf()\n",
    "\n",
    "fig, ax = plt.subplots(1)\n",
    "cm.add_to_axes(ax, alpha=0.5, linewidth=0.5, zorder=-1, add_labels=True)\n",
    "df[[\"SiO2\", \"Na2O + K2O\"]].pyroplot.scatter(ax=ax, axlabels=False)\n",
    "plt.show()"
   ]
  },
  {
   "cell_type": "code",
   "execution_count": null,
   "id": "b464bb82",
   "metadata": {},
   "outputs": [],
   "source": [
    "\n",
    "### This is a technicality that is not strictly necessary\n",
    "\n",
    "def remove_newlines(data):\n",
    "    # Iterate through the dictionary keys and values\n",
    "    for key, value in data.items():\n",
    "        # Check if the value has a \"name\" key and if the name is a list\n",
    "        if isinstance(value['name'], list):\n",
    "            # Remove '\\n' from each string in the list\n",
    "            value['name'] = [name.replace('\\n', ' ') for name in value['name']]\n",
    "        elif isinstance(value['name'], str):\n",
    "            # If it's a string (in cases like 'nan'), remove '\\n' from the string\n",
    "            value['name'] = value['name'].replace('\\n', ' ')\n",
    "\n",
    "remove_newlines(cm.fields)"
   ]
  },
  {
   "cell_type": "code",
   "execution_count": null,
   "id": "8536c660",
   "metadata": {},
   "outputs": [],
   "source": [
    "df[\"TAS\"] = cm.predict(df)\n",
    "df[\"Rocknames\"] = df.TAS.apply(lambda x: cm.fields.get(x, {\"name\": None})[\"name\"][0])\n",
    "df[\"Rocknames\"].sample(10)  # randomly check 10 sample rocknames"
   ]
  },
  {
   "cell_type": "code",
   "execution_count": null,
   "id": "b6a6a771",
   "metadata": {},
   "outputs": [],
   "source": [
    "fig, ax = plt.subplots(1)\n",
    "cm.add_to_axes(ax, alpha=0.5, linewidth=0.5, zorder=-1, add_labels=True)\n",
    "df[[\"SiO2\", \"Na2O + K2O\"]].pyroplot.scatter(ax=ax, c=df[\"TAS\"]) # Just set a random color for each unique code"
   ]
  },
  {
   "cell_type": "markdown",
   "id": "d4203b4d",
   "metadata": {},
   "source": [
    "We can define our own legend and color scheme. `matplotlib` has a long list of [named colors](https://matplotlib.org/stable/gallery/color/named_colors.html), but you can also set colors as RGB values or HEX values. There is also a wide variety of marker types, as well as it being possible to create custom markers."
   ]
  },
  {
   "cell_type": "code",
   "execution_count": null,
   "id": "0ef53e12",
   "metadata": {},
   "outputs": [],
   "source": [
    "# First let's check which lithologies are present\n",
    "df[\"Rocknames\"].value_counts()"
   ]
  },
  {
   "cell_type": "code",
   "execution_count": null,
   "id": "4a5429c6",
   "metadata": {},
   "outputs": [],
   "source": [
    "Colors = [\n",
    "    \"forestgreen\",\n",
    "    \"slategray\"\n",
    "]\n",
    "Color_dict = dict(zip(df[\"Rocknames\"].unique(),Colors))\n",
    "Color_dict"
   ]
  },
  {
   "cell_type": "markdown",
   "id": "aa8f8475",
   "metadata": {},
   "source": [
    "## Filtering:\n",
    "We can also use pandas to filter datasets quickly using logic operators."
   ]
  },
  {
   "cell_type": "code",
   "execution_count": null,
   "id": "e22c8f54",
   "metadata": {},
   "outputs": [],
   "source": [
    "fig, ax = plt.subplots()\n",
    "\n",
    "ax.grid(alpha=0.5)\n",
    "\n",
    "# now we just need to loop over the rock names. Because the symbology is\n",
    "# associated to the name we can use that to call the unique properties of\n",
    "# each lithology using the dictionaries\n",
    "\n",
    "for rock in df[\"Rocknames\"].unique():\n",
    "  ax.scatter(\n",
    "      df.loc[df[\"Rocknames\"]==rock,\"MgO\"], #filtering the dataset\n",
    "      df.loc[df[\"Rocknames\"]==rock,\"CaO\"],\n",
    "      color=Color_dict[rock],\n",
    "      marker=\"D\",\n",
    "      s=75,\n",
    "      label=rock\n",
    "  )\n",
    "\n",
    "ax.set(xlabel = \"MgO\", ylabel = \"CaO\")\n",
    "\n",
    "ax.legend(title = \"Rock name\", frameon = True)"
   ]
  },
  {
   "cell_type": "code",
   "execution_count": null,
   "id": "4c0ad9ee",
   "metadata": {},
   "outputs": [],
   "source": [
    "# We can also use numerical filters and combine different filters using & (and), and | (or)\n",
    "df_filtered = df.loc[(df[\"MgO\"] >= 5) & (df[\"La\"] >= 20)]\n",
    "df_filtered"
   ]
  },
  {
   "cell_type": "code",
   "execution_count": null,
   "id": "c14ab914",
   "metadata": {},
   "outputs": [],
   "source": [
    "# SQL-type query\n",
    "df.query(\"MgO >= 5\")"
   ]
  },
  {
   "cell_type": "code",
   "execution_count": null,
   "id": "f10a24f8",
   "metadata": {},
   "outputs": [],
   "source": [
    "# For columns with string entries we can check if the string\n",
    "# contains a certain sub-string\n",
    "df.loc[df[\"Rocknames\"].str.contains(\"Trachy\")]"
   ]
  },
  {
   "cell_type": "code",
   "execution_count": null,
   "id": "d8a531bc",
   "metadata": {},
   "outputs": [],
   "source": [
    "from matplotlib.cm import get_cmap\n",
    "import matplotlib.colors as mcolors"
   ]
  },
  {
   "cell_type": "markdown",
   "id": "6a85a3c6",
   "metadata": {},
   "source": [
    "### Ternary plots with pyrolite"
   ]
  },
  {
   "cell_type": "code",
   "execution_count": null,
   "id": "15bc77a3",
   "metadata": {},
   "outputs": [],
   "source": [
    "df[\"FeOt\"] = df[\"Fe2O3\"].values * 0.89998\n",
    "\n",
    "\n",
    "fig,ax = plt.subplots()\n",
    "\n",
    "for rock in df[\"Rocknames\"].unique():\n",
    "  df.loc[df[\"Rocknames\"]==rock,[\"FeOt\",\"Na2O + K2O\",\"MgO\"]].pyroplot.scatter(\n",
    "      color=Color_dict[rock],\n",
    "      marker=\"D\",\n",
    "      s=75,\n",
    "      alpha=0.7,\n",
    "      edgecolor=\"black\",\n",
    "      ax=ax\n",
    "  )\n",
    "\n",
    "fig.suptitle(\"AFM (Irvine and Baragar, 1973)\")\n",
    "\n",
    "plt.tight_layout()\n",
    "plt.show()"
   ]
  },
  {
   "cell_type": "markdown",
   "id": "8a7a3127",
   "metadata": {},
   "source": [
    "### Spidergrams"
   ]
  },
  {
   "cell_type": "code",
   "execution_count": null,
   "id": "038ca239",
   "metadata": {},
   "outputs": [],
   "source": [
    "# pyrolite also helps with normalization\n",
    "\n",
    "df.pyrochem.REE.pyrochem.normalize_to(\"Chondrite_SM89\").pyroplot.spider(alpha=0.3)"
   ]
  },
  {
   "cell_type": "code",
   "execution_count": null,
   "id": "2d33f277",
   "metadata": {},
   "outputs": [],
   "source": [
    "fig, ax = plt.subplots()\n",
    "\n",
    "for rock in df[\"Rocknames\"].unique():\n",
    "  df.loc[df[\"Rocknames\"]==rock].pyrochem.REE.pyrochem.normalize_to(\"Chondrite_SM89\").pyroplot.spider(\n",
    "      ax=ax,\n",
    "      color=Color_dict[rock],\n",
    "      marker=\"D\",\n",
    "      alpha = 0.5\n",
    "  )\n",
    "\n",
    "ax.set_ylim(0.9,500)"
   ]
  },
  {
   "cell_type": "code",
   "execution_count": null,
   "id": "433e3403",
   "metadata": {},
   "outputs": [],
   "source": [
    "# We can adopt the same workflow for other incompatible elements\n",
    "df[\"Ti\"] = df[[\"TiO2\"]].pyrochem.convert_chemistry(to=[\"Ti\"]).values*1e4\n",
    "df[\"P\"] = df[[\"P2O5\"]].pyrochem.convert_chemistry(to=[\"P\"]).values*1e4\n",
    "df[\"K\"] = df[[\"K2O\"]].pyrochem.convert_chemistry(to=[\"K\"]).values*1e4\n",
    "\n",
    "\n",
    "\n",
    "TraceElementList = [\n",
    "    \"Rb\",\"Ba\",\"Th\",\"U\",\"Nb\",\"K\",\"La\",\"Ce\",\"Pr\",\n",
    "    \"Sr\",\"P\",\"Nd\",\"Sm\",\"Zr\",\"Hf\",\"Eu\",\"Ti\",\"Dy\",\n",
    "    \"Y\",\"Yb\",\"Lu\"\n",
    "]\n",
    "\n",
    "fig, ax = plt.subplots();\n",
    "\n",
    "for rock in df[\"Rocknames\"].unique():\n",
    "  df.loc[df[\"Rocknames\"]==rock,TraceElementList].pyrochem.normalize_to(\"NMORB_SM89\").pyroplot.spider(\n",
    "      ax=ax,\n",
    "      color=Color_dict[rock],\n",
    "      marker=\"D\",\n",
    "      unity_line=True,\n",
    "      alpha = 0.5\n",
    "  );\n",
    "\n",
    "ax.set_ylim(0.1,300);"
   ]
  },
  {
   "cell_type": "markdown",
   "id": "eae1d3e6",
   "metadata": {},
   "source": [
    "We also have the option to color according to a continuous variable"
   ]
  },
  {
   "cell_type": "code",
   "execution_count": null,
   "id": "79cae97d",
   "metadata": {},
   "outputs": [],
   "source": [
    "from matplotlib import colors, cm\n",
    "\n",
    "ax = df.pyrochem.REE.pyrochem.normalize_to(\"Chondrite_SM89\").pyroplot.spider(\n",
    "    cmap='plasma_r',\n",
    "    alpha=0.5,\n",
    "    color=df[\"MgO\"]\n",
    ")\n",
    "\n",
    "cmap = cm.plasma\n",
    "norm = colors.Normalize(\n",
    "    vmin=df[\"MgO\"].min(),\n",
    "    vmax=df[\"MgO\"].max())\n",
    "\n",
    "fig.colorbar(cm.ScalarMappable(norm=norm, cmap=cmap), ax=ax, label=\"MgO (wt%)\")"
   ]
  },
  {
   "cell_type": "code",
   "execution_count": null,
   "id": "f407ca27",
   "metadata": {},
   "outputs": [],
   "source": [
    "df.Rocknames"
   ]
  },
  {
   "cell_type": "markdown",
   "id": "f142ecf9",
   "metadata": {},
   "source": [
    "### Pairplot for quickly exploring correlations"
   ]
  },
  {
   "cell_type": "code",
   "execution_count": null,
   "id": "f52b15f8",
   "metadata": {},
   "outputs": [],
   "source": [
    "df.pyrochem.compositional.columns\n",
    "\n",
    "cols = [\"MgO\", \"SO3\", \"Co\", \"Ni\", \"Cu\", \"Zn\", \"Rocknames\"]\n",
    "\n",
    "import seaborn as sns\n",
    "\n",
    "sns.pairplot(df[cols], hue = \"Rocknames\", palette = Colors, corner = True)"
   ]
  },
  {
   "cell_type": "markdown",
   "id": "6fe22d99",
   "metadata": {},
   "source": [
    "As the drilling campaign was done for Ni-Cu exploration, we can evaluate the grades of these elements at each drill core"
   ]
  },
  {
   "cell_type": "code",
   "execution_count": null,
   "id": "4acc1e27",
   "metadata": {},
   "outputs": [],
   "source": [
    "fig, axes = plt.subplots(1,len(df.Location.unique()), figsize = (6,10), sharey = True)\n",
    "\n",
    "\n",
    "\n",
    "for ax, core in zip(axes, df.Location.unique()):\n",
    "    dff = df.loc[df.Location == core].sort_values(\"CentrePoint\")\n",
    "\n",
    "    ax.plot(dff.Ni, dff.CentrePoint, marker=\"o\", label=\"Ni (ppm)\")\n",
    "    ax.plot(dff.Cu, dff.CentrePoint, marker=\"o\", label=\"Cu (ppm)\")\n",
    "    ax.axvline(100, ls=\"--\", label=\"grade threshold\", color=\"black\")\n",
    "\n",
    "\n",
    "    ax.set_title(core)\n",
    "    ax.set_xlabel(\"Ni or Cu (ppm)\")\n",
    "\n",
    "# Legend\n",
    "axes[0].legend(bbox_to_anchor=(0.01, 0.1))\n",
    "\n",
    "axes[0].invert_yaxis()\n",
    "axes[0].set_ylabel(\"Depth (m)\")\n",
    "\n",
    "\n"
   ]
  },
  {
   "cell_type": "markdown",
   "id": "60b3b783",
   "metadata": {},
   "source": [
    "We can also use python to visualize the stratigraphic chart"
   ]
  },
  {
   "cell_type": "code",
   "execution_count": null,
   "id": "63a9d9d3",
   "metadata": {},
   "outputs": [],
   "source": [
    "ANT002 = Litho.loc[Litho.hole == \"ANT002\"]\n",
    "# Create column for top and base\n",
    "ANT002 = ANT002.rename({\"From\":\"Top\",\"To\":\"Base\"}, axis = 1)\n",
    "ANT002[\"Thickness\"] = ANT002.eval(\"Base - Top\").round(2)\n",
    "\n",
    "ANT002[\"summary geol\"].unique()\n"
   ]
  },
  {
   "cell_type": "code",
   "execution_count": null,
   "id": "1bd24e44",
   "metadata": {},
   "outputs": [],
   "source": [
    "import matplotlib.patches as mpatches"
   ]
  },
  {
   "cell_type": "code",
   "execution_count": null,
   "id": "e4df0dd7",
   "metadata": {},
   "outputs": [],
   "source": [
    "\n",
    "# Define colors for each unique lithology\n",
    "unique_geol = ANT002[\"summary geol\"].unique()\n",
    "colors = [\n",
    "    \"sandybrown\",\"lavender\",\"navajowhite\",\"darkseagreen\",\"khaki\",\n",
    "    \"powderblue\",\"yellowgreen\",\"slateblue\"\n",
    "]\n",
    "color_map = {geol: colors[i % len(colors)] for i, geol in enumerate(unique_geol)}\n",
    "\n",
    "# Plot the stratigraphic column\n",
    "fig, (ax,ax2) = plt.subplots(1,2,figsize=(5, 12), sharey = True)\n",
    "\n",
    "for i, row in ANT002.iterrows():\n",
    "    ax.fill_betweenx([row[\"Top\"], row[\"Base\"]], x1=0, x2=1, color=color_map[row[\"summary geol\"]])\n",
    "    if row[\"summary geol\"] == \"basalt\" and \"Amyg\" in row[\"Description\"]:\n",
    "        ax.axhline(row[\"Top\"], color = \"black\", xmax = 0.7)\n",
    "        ax.text(1.05, (row[\"Top\"] + row[\"Base\"]) / 2, \"amg\", va='top', fontsize=8)\n",
    "\n",
    "# Invert y-axis to have the top at the top\n",
    "ax.set_ylim(ANT002[\"Base\"].max(), 0)\n",
    "ax.set_xlim(0, 1.5)\n",
    "ax.set_ylabel(\"Depth (m)\")\n",
    "ax.tick_params(axis='x', which='both', bottom=False, top=False, labelbottom=False)\n",
    "ax.spines['top'].set_visible(False)\n",
    "ax.spines['bottom'].set_visible(False)\n",
    "ax.spines['right'].set_visible(False)\n",
    "# Add legend\n",
    "legend_patches = [mpatches.Patch(color=color_map[geol], label=geol) for geol in unique_geol]\n",
    "ax2.legend(handles=legend_patches, bbox_to_anchor=(1.5, 1), loc='upper left')\n",
    "ax.set_title(\"ANT002\")\n",
    "\n",
    "\n",
    "dff = df.loc[df.Location == \"ANT002\"].sort_values(\"CentrePoint\")\n",
    "\n",
    "ax2.plot(dff.Ni, dff.CentrePoint, marker=\"o\", label=\"Ni (ppm)\", color = \"tab:red\")\n",
    "\n",
    "ax2.spines['left'].set_visible(False)\n",
    "ax2.spines['right'].set_visible(False)\n",
    "ax2.tick_params(axis='y', which='both', bottom=False, top=False, labelbottom=False, labeltop = True)\n",
    "ax2.set_title(\"Ni (ppm)\")\n",
    "ax2.grid(axis = \"x\")\n",
    "\n",
    "\n",
    "plt.tight_layout()\n",
    "plt.show()"
   ]
  },
  {
   "cell_type": "code",
   "execution_count": null,
   "id": "0e895cc7",
   "metadata": {},
   "outputs": [],
   "source": []
  }
 ],
 "metadata": {
  "kernelspec": {
   "display_name": "Python 3 (ipykernel)",
   "language": "python",
   "name": "python3"
  },
  "language_info": {
   "codemirror_mode": {
    "name": "ipython",
    "version": 3
   },
   "file_extension": ".py",
   "mimetype": "text/x-python",
   "name": "python",
   "nbconvert_exporter": "python",
   "pygments_lexer": "ipython3",
   "version": "3.13.5"
  }
 },
 "nbformat": 4,
 "nbformat_minor": 5
}
