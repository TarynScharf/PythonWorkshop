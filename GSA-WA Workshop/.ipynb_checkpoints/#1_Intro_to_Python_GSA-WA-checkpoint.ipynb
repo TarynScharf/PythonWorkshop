{
 "nbformat": 4,
 "nbformat_minor": 0,
 "metadata": {
  "colab": {
   "provenance": []
  },
  "kernelspec": {
   "name": "python3",
   "display_name": "Python 3"
  },
  "language_info": {
   "name": "python"
  }
 },
 "cells": [
  {
   "cell_type": "markdown",
   "source": [
    "# Welcome to the CFIGS Python for Geosciences Workshop!\n",
    "## Who are we?\n",
    "\n",
    "#### Dr. Taryn Scharf (Postdoctoral Researcher - Curtin)\n",
    "I am a postdoctoral researcher in the Timescales of Mineral Systems Group, Curtin University (https://research.curtin.edu.au/scieng/research/timescales-of-mineral-systems/). I am involved in developing computational tools that can be integrated with standard geological approaches for mineral analysis. My toolkit includes machine learning (tabular and image data sets), data analytics, and a variety of coding languages. Python is my preferred programming language for scientific data analysis.  I completed my PhD in Applied Geoscience in 2024 at Curtin University. Prior to my PhD, I spent 7 years as a geologist in the mining industry of South Africa. I was initially involved with brown fields exploration, geostatistical resource estimation, and the development of custom scripted solutions for clients. I later gained exposure to mine design, mine scheduling, and requirements analysis for software development.\n",
    "\n",
    "#### Piero Sampaio (PhD Student - Curtin)\n",
    "I did my undergraduate and MSc. in the Federal University of Rio de Janeiro (UFRJ), where I was born and raised. My research is in geochemistry and igneous petrology, more specifically, I use isotopic signatures from ophiolites to try to understand how Earth's mantle composition evolved since the Neoproterozoic. I use Python on a daily basis to process my data, perform advanced data analysis and generate good-looking visuals.\n",
    "\n",
    "#### Dr. Luc Doucet (Curtin)\n",
    "Co-leader of the Earth Dynamics Research Group (http://geodynamics.curtin.edu.au/), I come from Bourg-en-Bresse, a small town in France famously known for its blue-white-red tricoloured (delicious) chickens. After a PhD in St Etienne, France (2012), I was awarded a three years fellowship from the Belgium Fund for Scientific Research to apply the \"non-traditional\" stable-isotope systematics to study the formation of both oceanic and continental lithosphere. After a two-year academic career break (being a stay-at-home dad), I moved to Curtin University in March 2018 to join the Earth Dynamics Research Group to decipher the present-day and past connections between Earth's mantle, supercontinent and superocean cycles. In 2023, I was awarded an ARC Future Fellowship to study the link between the deep carbon cycle with critical mineral deposits.\n",
    "\n",
    "\n",
    "\n",
    "## Welcome to Python notebooks\n",
    "Notebooks are handy ways to run short bits of code (in this case Python) and view results, without having to run a full program or script. This is ideal for practicing short examples or performing small pieces of analytics.   \n",
    "* To run a code cell: press Shift + Enter\n",
    "* To add a new cell: click + above, or type 'a' or 'b' to add a cell above or below your current position\n",
    "* Cells can either hold text (markdown) or code. Specify the cell type using M or y.\n",
    "* To delete: Click on the bin above, or hit the delete key\n",
    "\n",
    "\n",
    "\n",
    "## ChatGPT, GPT4 and generative AI\n",
    "Since the advent of ChatGPT and other generative AI, it has never been easier to learn coding. Using the new AI tools to debug and learn, we strongly encourage newcomers to use these new tools. However, bear in mind that they are just tools and therefore need to be treated as such: they only do what the user wants them to do, and we all are making mistake all the time!"
   ],
   "metadata": {
    "id": "lTjUkLJq20je"
   }
  },
  {
   "cell_type": "markdown",
   "source": [
    "## (Very) simple math\n",
    "Python has a series of in-built mathematical operators.\n",
    "* Addition: 5+2 \n",
    "* Subtraction: 5-2\n",
    "* Multiplication: 5*2\n",
    "* Division: 5/2\n",
    "* Modulus: 5%2\n",
    "* Exponentiation: 5**2\n",
    "\n",
    "Example: Get the modulus of 5 and 2\n"
   ],
   "metadata": {
    "id": "i6xEJ2q58Zbf"
   }
  },
  {
   "metadata": {},
   "cell_type": "code",
   "outputs": [],
   "execution_count": null,
   "source": "#type your code here and run the cell"
  },
  {
   "cell_type": "markdown",
   "source": [
    " ## Variables\n",
    "We use code to automate the processes we must often **repeat**. We want the automated process (e.g. sum two numbers) to work on any inputs we give it.  \n",
    "To go from 5 + 2 = 7 -> first_number + second_number = answer, we need data \"placeholders\". These placeholders are called **variables**."
   ],
   "metadata": {
    "id": "rbgLKK_T7hdr"
   }
  },
  {
   "metadata": {
    "jupyter": {
     "is_executing": true
    }
   },
   "cell_type": "code",
   "source": [
    "first_number = 2\n",
    "second_number = 3 \n",
    "answer = (first_number + second_number)\n",
    "print(answer)"
   ],
   "outputs": [],
   "execution_count": null
  },
  {
   "metadata": {},
   "cell_type": "markdown",
   "source": "Try it yourself. Use variables to calculate the average of two numbers."
  },
  {
   "metadata": {},
   "cell_type": "code",
   "outputs": [],
   "execution_count": null,
   "source": "#type your code here"
  },
  {
   "metadata": {},
   "cell_type": "markdown",
   "source": [
    "Variables store your data. There are many **data types**. Data types determine how the data behaves and what we can do to it. Examples of data types are:\n",
    "- int: integer numbers\n",
    "- float: numbers with decimal values\n",
    "- str: text - strings of characters\n",
    "- bool: True/False values\n",
    "\n",
    "We can also have **composite data types** that store **collections of data**. Python has 4 built-in composite data types:\n",
    "- list: mutable (can be changed) object that contains other values\n",
    "- tuple: same, but immutable (cannot be changed)\n",
    "- dict: key-value pairs\n",
    "- set: like a list but only contains unique values\n"
   ]
  },
  {
   "cell_type": "code",
   "source": [
    "my_integer = 42 # integer number\n",
    "my_string = \"Python\" # string (text)\n",
    "my_float = 4.56 # float (decimal values or fractional numbers)\n",
    "my_boolean = True # boolean value (condition that be True or False)\n",
    "my_list = [\"a\",23,399.8,False] # a list of numbers. Note the square brackets\n",
    "my_dictionary = {\n",
    "    \"str\":\"a\",\n",
    "    \"int\":23,\n",
    "    \"float\":399.8,\n",
    "    \"bool\":False\n",
    "} # a dictionary is made of key: value pairs. Not the curly brackets\n",
    "my_tuple = (3,4,5) #tuples are declared with round brackets\n",
    "my_set = {3,4,5} # sets are declared with curly brackets"
   ],
   "metadata": {
    "id": "KwUmP3up7g_G"
   },
   "execution_count": null,
   "outputs": []
  },
  {
   "metadata": {},
   "cell_type": "markdown",
   "source": "Let's access a value in our list called 'my_list'. Python is a zero-indexed language. What happens when we use an index that **isn't in the list**?"
  },
  {
   "metadata": {},
   "cell_type": "code",
   "outputs": [],
   "execution_count": null,
   "source": [
    "value = my_list[1]\n",
    "print(value)"
   ]
  },
  {
   "cell_type": "markdown",
   "source": [
    "## Functions\n",
    "A function is a piece of code that performs an action. Code is often broken up into a series of functions, each performing a specific task. \n",
    "\n",
    "* In Python we declare functions using the `def` keyword at the beginning of the line. \n",
    "* All code that forms part of the function is placed on the next **indentation** level. Each indentation is performed by pressing the tab key. \n",
    "* We can press shift + tab to go back to the previous indentation\n",
    "* We can use a function when we call it by name. \n",
    "\n",
    "The classic introduction to any programming language is the hello world function. We will also use the print function, which prints (😲) something to the console."
   ],
   "metadata": {
    "id": "e6lkGrcw8FT5"
   }
  },
  {
   "cell_type": "code",
   "source": [
    "def hello_world(): #def define the function hello_world. You can name your function anything you like, but it's best to make it sensible\n",
    "  print(\"hello world!\") # the function print hello world\n",
    "\n",
    "hello_world()"
   ],
   "metadata": {
    "colab": {
     "base_uri": "https://localhost:8080/"
    },
    "id": "JDVQb449_2gl",
    "executionInfo": {
     "status": "ok",
     "timestamp": 1723103166110,
     "user_tz": -480,
     "elapsed": 661,
     "user": {
      "displayName": "T S",
      "userId": "01569976147042665237"
     }
    },
    "outputId": "e1f6c136-c063-466e-a03f-dc75344211e5"
   },
   "execution_count": null,
   "outputs": [
    {
     "output_type": "stream",
     "name": "stdout",
     "text": [
      "hello world!\n"
     ]
    }
   ]
  },
  {
   "cell_type": "code",
   "source": [
    "def addition(a,b): \n",
    "  c = a + b\n",
    "  return c \n",
    "\n",
    "x = addition(3,4) \n",
    "print(x)\n"
   ],
   "metadata": {
    "colab": {
     "base_uri": "https://localhost:8080/"
    },
    "id": "ZE0mynVSABqb",
    "executionInfo": {
     "status": "ok",
     "timestamp": 1723847475807,
     "user_tz": -480,
     "elapsed": 191,
     "user": {
      "displayName": "T S",
      "userId": "01569976147042665237"
     }
    },
    "outputId": "06257d18-3dcd-4a3f-9781-3a653a3e594d"
   },
   "execution_count": null,
   "outputs": [
    {
     "output_type": "stream",
     "name": "stdout",
     "text": [
      "7\n"
     ]
    }
   ]
  },
  {
   "metadata": {},
   "cell_type": "markdown",
   "source": [
    " <font color=\"green\"><b>TRY IT YOURSELF:</b> Turn your addition calculation into an addition function and print the result</font>  \n",
    " "
   ]
  },
  {
   "metadata": {},
   "cell_type": "code",
   "outputs": [],
   "execution_count": null,
   "source": "#Type your code here"
  },
  {
   "cell_type": "markdown",
   "source": [
    "# Loops\n",
    "If we want to repeat an action multiple times, sometimes changing only a few factors, we can use a loop to automate that action. Loops come in two flavours:\n",
    "`while` and `for` loops.\n",
    "## `While` loop:\n",
    "A `while` loop repeats an action while a condition is `True`\n",
    "\n",
    "## `For` loop:\n",
    "A `for` loop repeats an action for every object in a given group (list, dict, array, etc)\n",
    "\n",
    "The loop will be performed for all code that is within the next **indentation** level. Each indentation is performed by pressing the `tab` key. We can press `shift` + `tab` to go back to the previous indentation"
   ],
   "metadata": {
    "id": "MP5cKlV6VToU"
   }
  },
  {
   "cell_type": "code",
   "source": [
    "# different indentation levels\n",
    "a\n",
    "  b\n",
    "    c\n",
    "      d\n"
   ],
   "metadata": {
    "id": "Kppht9xLZvG6"
   },
   "execution_count": null,
   "outputs": []
  },
  {
   "cell_type": "code",
   "source": [
    "# While loop example 1\n",
    "Max_number = 20 \n",
    "counter = 0 #\n",
    "while counter < Max_number: \n",
    "  print(counter)\n",
    "  counter += 2 "
   ],
   "metadata": {
    "id": "Q3WTvvDQWKMt",
    "colab": {
     "base_uri": "https://localhost:8080/"
    },
    "executionInfo": {
     "status": "ok",
     "timestamp": 1723847666803,
     "user_tz": -480,
     "elapsed": 175,
     "user": {
      "displayName": "T S",
      "userId": "01569976147042665237"
     }
    },
    "outputId": "16c6b3ed-9717-4559-8b32-65bc5bd1a352"
   },
   "execution_count": null,
   "outputs": [
    {
     "output_type": "stream",
     "name": "stdout",
     "text": [
      "0\n",
      "2\n",
      "4\n",
      "6\n",
      "8\n",
      "10\n",
      "12\n",
      "14\n",
      "16\n",
      "18\n"
     ]
    }
   ]
  },
  {
   "cell_type": "code",
   "source": [
    "#While loop example 2\n",
    "#We can use lists to iteratively store the outputs from a loop.\n",
    "lst =[] # here we declare a list but it is empty.\n",
    "max_number = 10\n",
    "counter = 0\n",
    "while counter < max_number:  \n",
    "  print(counter) \n",
    "  counter += 1\n",
    "  lst.append(counter) \n",
    "  print(f'My list: {lst}') "
   ],
   "metadata": {
    "id": "JLs9c_wjdJSF",
    "colab": {
     "base_uri": "https://localhost:8080/"
    },
    "executionInfo": {
     "status": "ok",
     "timestamp": 1723847786013,
     "user_tz": -480,
     "elapsed": 158,
     "user": {
      "displayName": "T S",
      "userId": "01569976147042665237"
     }
    },
    "outputId": "0ae2a8d1-50fa-4a8e-9d7a-4ac123b32b72"
   },
   "execution_count": null,
   "outputs": [
    {
     "output_type": "stream",
     "name": "stdout",
     "text": [
      "0\n",
      "My list: [1]\n",
      "1\n",
      "My list: [1, 2]\n",
      "2\n",
      "My list: [1, 2, 3]\n",
      "3\n",
      "My list: [1, 2, 3, 4]\n",
      "4\n",
      "My list: [1, 2, 3, 4, 5]\n",
      "5\n",
      "My list: [1, 2, 3, 4, 5, 6]\n",
      "6\n",
      "My list: [1, 2, 3, 4, 5, 6, 7]\n",
      "7\n",
      "My list: [1, 2, 3, 4, 5, 6, 7, 8]\n",
      "8\n",
      "My list: [1, 2, 3, 4, 5, 6, 7, 8, 9]\n",
      "9\n",
      "My list: [1, 2, 3, 4, 5, 6, 7, 8, 9, 10]\n"
     ]
    }
   ]
  },
  {
   "cell_type": "code",
   "source": [
    "#For loop example\n",
    "#As we have created the lst variable in the previous example, it now exists and is available for us to use elsewhere.\n",
    "#We will use the list variable in this For-Loop example.\n",
    "for number in lst: # repeat the action for every object in the list\n",
    "  print(number/3) #the action to perform: print out the value of the object multiplied by 2"
   ],
   "metadata": {
    "id": "P8mPE2wnYLmT",
    "colab": {
     "base_uri": "https://localhost:8080/"
    },
    "executionInfo": {
     "status": "ok",
     "timestamp": 1723842163656,
     "user_tz": -480,
     "elapsed": 178,
     "user": {
      "displayName": "T S",
      "userId": "01569976147042665237"
     }
    },
    "outputId": "3789f04f-fa8a-4f15-c598-b5234ef3219d"
   },
   "execution_count": null,
   "outputs": [
    {
     "output_type": "stream",
     "name": "stdout",
     "text": [
      "2\n",
      "4\n",
      "6\n",
      "8\n",
      "10\n",
      "12\n",
      "14\n",
      "16\n",
      "18\n",
      "20\n"
     ]
    }
   ]
  },
  {
   "cell_type": "markdown",
   "source": [
    "# Conditionals and control\n",
    "Conditionals in Python, like in many other programming languages, allow you to make decisions in your code. They help your programs to behave differently based on certain conditions. In Python, you use if, elif (else if), and else statements to create conditionals.\n",
    "\n",
    "1. if Statements:\n",
    "The if statement is used to execute a block of code if a condition is true.\n",
    "\n",
    "2. elif Statements:\n",
    "elif is short for \"else if\". It allows you to check multiple conditions. If the first if condition is false, it checks the next elif condition, and so on.\n",
    "\n",
    "3. else Statements:\n",
    "The else statement is used to execute a block of code if none of the conditions in the if and elif statements are true.\n",
    "\n",
    "4. Nesting Conditionals:\n",
    "You can also nest conditionals inside each other to handle more complex situations."
   ],
   "metadata": {
    "id": "_NwBOqO3an_2"
   }
  },
  {
   "cell_type": "code",
   "source": [
    "# if statement:\n",
    "num = 15\n",
    "if num % 2 == 0:\n",
    "    print(\"Even\")"
   ],
   "metadata": {
    "id": "BoQUtCKPanIg"
   },
   "execution_count": null,
   "outputs": []
  },
  {
   "cell_type": "code",
   "source": [
    "# else statement\n",
    "num = 15\n",
    "if num % 2 == 0:\n",
    "    print(\"Even\")\n",
    "else:\n",
    "    print(\"Odd\")"
   ],
   "metadata": {
    "id": "C2WqOLzgbc9O",
    "colab": {
     "base_uri": "https://localhost:8080/"
    },
    "executionInfo": {
     "status": "ok",
     "timestamp": 1723848238144,
     "user_tz": -480,
     "elapsed": 131,
     "user": {
      "displayName": "T S",
      "userId": "01569976147042665237"
     }
    },
    "outputId": "2b455644-23ea-4885-de81-65d079144ce2"
   },
   "execution_count": null,
   "outputs": [
    {
     "output_type": "stream",
     "name": "stdout",
     "text": [
      "Odd\n"
     ]
    }
   ]
  },
  {
   "metadata": {
    "id": "Bvgd8HMSbaw0",
    "colab": {
     "base_uri": "https://localhost:8080/"
    },
    "executionInfo": {
     "status": "ok",
     "timestamp": 1723848213707,
     "user_tz": -480,
     "elapsed": 173,
     "user": {
      "displayName": "T S",
      "userId": "01569976147042665237"
     }
    },
    "outputId": "59e4fc36-8842-41ab-e91b-6ea9d31bfd13"
   },
   "cell_type": "code",
   "outputs": [
    {
     "output_type": "stream",
     "name": "stdout",
     "text": [
      "Fail\n"
     ]
    }
   ],
   "execution_count": null,
   "source": [
    "# elif statement:\n",
    "average_grams_per_tonne = 7.85\n",
    "if average_grams_per_tonne >= 10:\n",
    "    print(\"High grade\")\n",
    "elif average_grams_per_tonne >= 5 and average_grams_per_tonne<10:\n",
    "    print(\"Medium grade\")\n",
    "elif average_grams_per_tonne>=1 and average_grams_per_tonne < 5:\n",
    "    print(\"Low grade\")\n",
    "else:\n",
    "    print('Subeconomic')\n"
   ]
  },
  {
   "cell_type": "markdown",
   "source": [
    "## We can mix loops and conditionals to make more complex actions\n",
    "Let's rename some geological reports and separate drillhole data from core images"
   ],
   "metadata": {
    "id": "hoyoq6_XcUJO"
   }
  },
  {
   "cell_type": "code",
   "source": [
    "import os\n",
    "import shutil\n",
    "\n",
    "folder_path = 'drillhole_data'\n",
    "image_folder_path = 'core_images'\n",
    "files = os.listdir(folder_path)\n",
    "\n",
    "for file in files:\n",
    "    \n",
    "    if \"DZ\" in file:\n",
    "        old_path = os.path.join(folder_path, file)\n",
    "        new_name = file.replace(\"DZ\", \"DH\")\n",
    "        new_path = os.path.join(folder_path, new_name)\n",
    "        os.rename(old_path, new_path)\n",
    "        print(f\"Renamed: {file} ➝ {new_name}\")\n",
    "        \n",
    "    if file.endswith(\"jpeg\"):\n",
    "        old_path = os.path.join(folder_path, file) #this line is repeated in both if's. How could we make this more efficient?\n",
    "        new_path = os.path.join(image_folder_path, file)\n",
    "        shutil.move(old_path, new_path)\n",
    "        \n"
   ],
   "metadata": {
    "colab": {
     "base_uri": "https://localhost:8080/"
    },
    "id": "QSIubGPLb-Ce",
    "executionInfo": {
     "status": "ok",
     "timestamp": 1723103501617,
     "user_tz": -480,
     "elapsed": 695,
     "user": {
      "displayName": "T S",
      "userId": "01569976147042665237"
     }
    },
    "outputId": "5dbaefe5-3437-4e07-9f41-7fbbec65cb2a"
   },
   "execution_count": null,
   "outputs": [
    {
     "output_type": "stream",
     "name": "stdout",
     "text": [
      "[0, 2, 4, 6, 8, 10, 12, 14, 16, 18]\n"
     ]
    }
   ]
  },
  {
   "cell_type": "markdown",
   "source": [
    "# The true power of Python: Libraries (or modules)\n",
    "Python goes way beyond by using different libraries. Libraries extend the functionality of Python. There are some built-in Python libraries (e.g. math), but there are heaps of user-created libraries. Whenever you want to do something on Python, chances are that someone has already created a library to make your life easier. First, we must import the desired library using the `import` statement. Generally, imports are in the first part of the code.\n",
    "\n",
    "Examples of built-in libraries are `math`, `os`, `time`,`stats`, etc\n",
    "\n",
    "The `math` library, for example, has many useful mathematical functions already implemented. Once we import the library we can access the functions in the library by using the `.` after the name of the library:\n",
    "`math.cos()` would give you the cosine function. Certain libraries also have attributes which can be accessed in the same way, such as `math.pi`. Note that this is not a function, so it does not need the parentheses after it."
   ],
   "metadata": {
    "id": "Epx8JQcy_vj6"
   }
  },
  {
   "cell_type": "code",
   "source": [
    "import math\n",
    "c = math.cos(math.pi) # we use the dot to access the cosine function\n",
    "print(c)"
   ],
   "metadata": {
    "id": "VUxKPC2W_pzU",
    "colab": {
     "base_uri": "https://localhost:8080/"
    },
    "executionInfo": {
     "status": "ok",
     "timestamp": 1723848702794,
     "user_tz": -480,
     "elapsed": 172,
     "user": {
      "displayName": "T S",
      "userId": "01569976147042665237"
     }
    },
    "outputId": "2937e65c-fb65-499c-d582-896419385c0f"
   },
   "execution_count": null,
   "outputs": [
    {
     "output_type": "stream",
     "name": "stdout",
     "text": [
      "-1.0\n"
     ]
    }
   ]
  },
  {
   "cell_type": "markdown",
   "source": [
    "We can also import only certain functions of a library. In that case we do not need to use the `math.cos()` anymore, we can call the function directly."
   ],
   "metadata": {
    "id": "gHZu6eMo6bEk"
   }
  },
  {
   "cell_type": "code",
   "source": [
    "from math import cos\n",
    "c = cos(math.pi)\n",
    "print(c)"
   ],
   "metadata": {
    "id": "HkgxHVYBvrut",
    "colab": {
     "base_uri": "https://localhost:8080/"
    },
    "executionInfo": {
     "status": "ok",
     "timestamp": 1723103562881,
     "user_tz": -480,
     "elapsed": 2,
     "user": {
      "displayName": "T S",
      "userId": "01569976147042665237"
     }
    },
    "outputId": "549c510b-d35c-4f01-b26b-2d6649b55aeb"
   },
   "execution_count": null,
   "outputs": [
    {
     "output_type": "stream",
     "name": "stdout",
     "text": [
      "-1.0\n"
     ]
    }
   ]
  },
  {
   "cell_type": "markdown",
   "source": [
    "Finally, we can also import a library with an alias that will be used throughout the code. For the `math` library that doesn't really matter but for libraries with longer names (classic example would be `matplotlib.pyplot`) it is useful."
   ],
   "metadata": {
    "id": "XfaS6BJMwhZU"
   }
  },
  {
   "cell_type": "code",
   "source": [
    "import math as m\n",
    "c = m.cos(m.pi)\n",
    "print(c)"
   ],
   "metadata": {
    "id": "I-xuVnU46vs9",
    "colab": {
     "base_uri": "https://localhost:8080/"
    },
    "executionInfo": {
     "status": "ok",
     "timestamp": 1723103566332,
     "user_tz": -480,
     "elapsed": 1,
     "user": {
      "displayName": "T S",
      "userId": "01569976147042665237"
     }
    },
    "outputId": "250cb18d-d624-4211-c987-ba0f5388a48b"
   },
   "execution_count": null,
   "outputs": [
    {
     "output_type": "stream",
     "name": "stdout",
     "text": [
      "-1.0\n"
     ]
    }
   ]
  },
  {
   "cell_type": "markdown",
   "source": [
    "## External libraries\n",
    "\n",
    "These libraries, created and shared by the global Python community, cater to diverse needs such as data analysis, web development, machine learning, and more. For instance, the Pandas library simplifies data manipulation and analysis through its powerful data structures, the Matplotlib library enables high-quality data visualization and numpy for numerical calculations. These libraries expand Python's capabilities dramatically, allowing developers to leverage pre-built solutions and focus more on problem-solving rather than reinventing the wheel.\n",
    "\n",
    "In this workshop, we`ll be using mostly external libraries and applying them to geology related problems. The main libraries we'll use are:\n",
    "- [numpy](https://numpy.org/)\n",
    "- [scipy](https://scipy.org/)\n",
    "- [matplotlib](https://matplotlib.org/)\n",
    "- [pandas](https://pandas.pydata.org/)\n",
    "- [geopandas](https://geopandas.org/en/stable/)\n",
    "- [seaborn](https://seaborn.pydata.org/)\n",
    "- [pyrolite](https://pyrolite.readthedocs.io/en/main/) (developed by Morgan Williams of CSIRO)\n",
    "- [PyGMT](https://www.pygmt.org/latest/index.html) (maintained by a group of geophysicists in various places)\n",
    "- [PyGPlates](https://www.gplates.org/docs/pygplates/) (developed by EarthByte Group of USydney)\n",
    "\n",
    "For example the `numpy` library extends (a lot) the functionality of the `math` library. One use case is that `math` operates on single objects, whereas `numpy` operates on arrays (a type of group of objects) directly, which saves us from using loops all the time. This is great, because loops are very inefficient in terms of speed. It might not be vital for short tasks, but it scales very quickly.\n",
    "\n",
    "## Numpy\n",
    "This is your go-to for almost all numerical applications in Python. Fast, highly optimized library for working with arrays of numbers."
   ],
   "metadata": {
    "id": "3ZayDi_MxKb0"
   }
  },
  {
   "cell_type": "code",
   "source": [
    "# with math\n",
    "import math\n",
    "\n",
    "gp1 = range(0,20,1) # built-in function to define a range of numbers: range(start number, number to stop before, increment)\n",
    "results = [] # create list to store results\n",
    "for i in gp1:\n",
    "  results.append(math.sqrt(i))\n",
    "print(results)\n",
    "\n",
    "# math only takes real numbers as input"
   ],
   "metadata": {
    "id": "6GZX8d2k7Lx4",
    "colab": {
     "base_uri": "https://localhost:8080/"
    },
    "executionInfo": {
     "status": "ok",
     "timestamp": 1723845290037,
     "user_tz": -480,
     "elapsed": 180,
     "user": {
      "displayName": "T S",
      "userId": "01569976147042665237"
     }
    },
    "outputId": "b5e87cc1-e36d-4af6-af69-844aadf68524"
   },
   "execution_count": null,
   "outputs": [
    {
     "output_type": "stream",
     "name": "stdout",
     "text": [
      "[0.0, 1.0, 1.4142135623730951, 1.7320508075688772, 2.0, 2.23606797749979, 2.449489742783178, 2.6457513110645907, 2.8284271247461903, 3.0, 3.1622776601683795, 3.3166247903554, 3.4641016151377544, 3.605551275463989, 3.7416573867739413, 3.872983346207417, 4.0, 4.123105625617661, 4.242640687119285, 4.358898943540674]\n"
     ]
    }
   ]
  },
  {
   "cell_type": "code",
   "source": [
    "# with numpy\n",
    "import numpy as np # common alias for numpy\n",
    "\n",
    "results = np.sqrt(gp1) # we can operate directly on the range object\n",
    "results # the object is returned as an array data type, which is the type on which numpy operates"
   ],
   "metadata": {
    "colab": {
     "base_uri": "https://localhost:8080/"
    },
    "id": "6_30bUC3xJFW",
    "executionInfo": {
     "status": "ok",
     "timestamp": 1723845309740,
     "user_tz": -480,
     "elapsed": 160,
     "user": {
      "displayName": "T S",
      "userId": "01569976147042665237"
     }
    },
    "outputId": "82047b7a-f115-4940-cf52-fec52ab37126"
   },
   "execution_count": null,
   "outputs": [
    {
     "output_type": "execute_result",
     "data": {
      "text/plain": [
       "array([0.        , 1.        , 1.41421356, 1.73205081, 2.        ,\n",
       "       2.23606798, 2.44948974, 2.64575131, 2.82842712, 3.        ,\n",
       "       3.16227766, 3.31662479, 3.46410162, 3.60555128, 3.74165739,\n",
       "       3.87298335, 4.        , 4.12310563, 4.24264069, 4.35889894])"
      ]
     },
     "metadata": {},
     "execution_count": 16
    }
   ]
  },
  {
   "cell_type": "code",
   "source": [
    "# numpy also has its own version of the range function which automatically generates an array\n",
    "arr = np.arange(0,100,5) # very similar functionality to Python's built-in range function. np.arange(start, stop, step)\n",
    "\n",
    "arr2 = np.linspace(0,100,20) # (start, stop, count) this creates an array with evenly spaced values that range from start to stop. You provide the count/number of numbers to create and the step size is inferred.\n",
    "\n",
    "# arrays also don't need to be 1d, they can have multiple dimensions. For example, here we reshape our 20-number arrange into a 2D matrix that has 2 rows and 10 columns:\n",
    "arr_2d = arr.reshape(2,10)\n",
    "arr_2d"
   ],
   "metadata": {
    "colab": {
     "base_uri": "https://localhost:8080/"
    },
    "id": "7jeOS_QVyYcY",
    "executionInfo": {
     "status": "ok",
     "timestamp": 1723845503987,
     "user_tz": -480,
     "elapsed": 150,
     "user": {
      "displayName": "T S",
      "userId": "01569976147042665237"
     }
    },
    "outputId": "7102c87b-dcfa-43e4-fc8f-34eefae06de9"
   },
   "execution_count": null,
   "outputs": [
    {
     "output_type": "execute_result",
     "data": {
      "text/plain": [
       "array([[ 0,  5, 10, 15, 20, 25, 30, 35, 40, 45],\n",
       "       [50, 55, 60, 65, 70, 75, 80, 85, 90, 95]])"
      ]
     },
     "metadata": {},
     "execution_count": 25
    }
   ]
  },
  {
   "cell_type": "code",
   "source": [
    "# We can access items in the array by using indexes\n",
    "# Just keep in mind that Python starts counting from 0\n",
    "\n",
    "arr = np.arange(0,100,5) # start, stop, step\n",
    "arr[0] # returns the first item in the array"
   ],
   "metadata": {
    "colab": {
     "base_uri": "https://localhost:8080/"
    },
    "id": "0OGLVYq-0f7f",
    "executionInfo": {
     "status": "ok",
     "timestamp": 1723845497804,
     "user_tz": -480,
     "elapsed": 2,
     "user": {
      "displayName": "T S",
      "userId": "01569976147042665237"
     }
    },
    "outputId": "3d58b23a-172a-4f1e-c052-e5bc802b5322"
   },
   "execution_count": null,
   "outputs": [
    {
     "output_type": "execute_result",
     "data": {
      "text/plain": [
       "0"
      ]
     },
     "metadata": {},
     "execution_count": 24
    }
   ]
  },
  {
   "cell_type": "code",
   "source": [
    "arr[-1] # -1 is a shortcut for last item in the array. We can count backwards from -1"
   ],
   "metadata": {
    "colab": {
     "base_uri": "https://localhost:8080/"
    },
    "id": "JaqPRPuf09WM",
    "executionInfo": {
     "status": "ok",
     "timestamp": 1723845460717,
     "user_tz": -480,
     "elapsed": 152,
     "user": {
      "displayName": "T S",
      "userId": "01569976147042665237"
     }
    },
    "outputId": "a4318720-a2a8-4ead-cf87-66616e223551"
   },
   "execution_count": null,
   "outputs": [
    {
     "output_type": "execute_result",
     "data": {
      "text/plain": [
       "95"
      ]
     },
     "metadata": {},
     "execution_count": 20
    }
   ]
  },
  {
   "cell_type": "code",
   "source": [
    "# we can also index with slices\n",
    "# [start:stop] where stop is not inclusive\n",
    "\n",
    "arr[0:5] # first five items of the array"
   ],
   "metadata": {
    "id": "i9ILgIJv1ONX",
    "colab": {
     "base_uri": "https://localhost:8080/"
    },
    "executionInfo": {
     "status": "ok",
     "timestamp": 1723845495989,
     "user_tz": -480,
     "elapsed": 150,
     "user": {
      "displayName": "T S",
      "userId": "01569976147042665237"
     }
    },
    "outputId": "dbf03e85-046e-4542-a128-a9be126bb4c4"
   },
   "execution_count": null,
   "outputs": [
    {
     "output_type": "execute_result",
     "data": {
      "text/plain": [
       "array([ 0,  5, 10, 15, 20])"
      ]
     },
     "metadata": {},
     "execution_count": 23
    }
   ]
  },
  {
   "cell_type": "code",
   "source": [
    "# And finally this works for multidimensional arrays as well\n",
    "# The dimensions are separated by commas, so notation is similar to that of a matrix\n",
    "\n",
    "arr_2d[:,4:6] # returns the item in the fifth column of the first line (remember we count from 0)"
   ],
   "metadata": {
    "colab": {
     "base_uri": "https://localhost:8080/"
    },
    "id": "HVEHM-DL1c5R",
    "executionInfo": {
     "status": "ok",
     "timestamp": 1723845625685,
     "user_tz": -480,
     "elapsed": 150,
     "user": {
      "displayName": "T S",
      "userId": "01569976147042665237"
     }
    },
    "outputId": "34a0ee00-72e1-4f7b-bfef-1866d3bbb564"
   },
   "execution_count": null,
   "outputs": [
    {
     "output_type": "execute_result",
     "data": {
      "text/plain": [
       "array([[20, 25],\n",
       "       [70, 75]])"
      ]
     },
     "metadata": {},
     "execution_count": 31
    }
   ]
  },
  {
   "cell_type": "markdown",
   "source": [
    "## Matplotlib"
   ],
   "metadata": {
    "id": "ASamCBYa27e3"
   }
  },
  {
   "cell_type": "code",
   "source": [
    "import matplotlib.pyplot as plt\n"
   ],
   "metadata": {
    "id": "r5JFUqE9101j"
   },
   "execution_count": null,
   "outputs": []
  },
  {
   "cell_type": "code",
   "source": [
    "# What is being plotted\n",
    "\n",
    "x = np.arange(0, 2*math.pi+1, math.pi/18)\n",
    "\n",
    "y1 = np.sin(x)**2\n",
    "y2 = 2*np.cos(x)\n",
    "\n",
    "plt.figure(figsize=(6, 4))  # create a figure, you can adjust the numbers (10, 6) to your desired width and height\n",
    "\n",
    "# actually plotting\n",
    "plt.plot(x, # what's on the x-axis\n",
    "         y1, # what's on the y-axis\n",
    "         color=\"blue\", # colour of the line\n",
    "         ls=\"--\", # linestyle\n",
    "         label=\"sine**2\" # label for the legend\n",
    ")\n",
    "\n",
    "plt.plot(x,\n",
    "         y2,\n",
    "         color=\"red\",\n",
    "         ls=\":\",\n",
    "         label=\"2*cosine\"\n",
    "  )\n",
    "\n",
    "plt.grid() # place a grid on our plot\n",
    "plt.legend(title=\"Legend\") # place a legend\n",
    "plt.title(\"Example Plot\") # give a title to your plot\n",
    "plt.xlabel(\"x-axis\") # give label to your x axis\n",
    "plt.ylabel(\"y-axis\") # give label to your y axis\n",
    "\n",
    "# Changing the ticks on the x-axis to be a function of pi\n",
    "plt.xticks(np.arange(0,2*math.pi+1,math.pi/2),\n",
    "           labels=[\"0\",\"$\\pi/2$\",\"$\\pi$\",\"$3\\pi/2$\",\"$2\\pi$\"]); # $$ is just to render the letter pi\n",
    "\n"
   ],
   "metadata": {
    "colab": {
     "base_uri": "https://localhost:8080/",
     "height": 411
    },
    "id": "PHa-7P9E3JoF",
    "executionInfo": {
     "status": "ok",
     "timestamp": 1723849859230,
     "user_tz": -480,
     "elapsed": 549,
     "user": {
      "displayName": "T S",
      "userId": "01569976147042665237"
     }
    },
    "outputId": "86c13051-6cbb-488b-f3c0-c754a0d581da"
   },
   "execution_count": null,
   "outputs": [
    {
     "output_type": "display_data",
     "data": {
      "text/plain": [
       "<Figure size 600x400 with 1 Axes>"
      ],
      "image/png": "[encoded data removed]"
     },
     "metadata": {}
    }
   ]
  },
  {
   "cell_type": "markdown",
   "source": [
    "We can also create a figure with multiple plots in it.\n",
    "\n",
    "1. Figure (fig):\n",
    "A Figure in Matplotlib represents the whole figure or window in the GUI environment. It's the top-level container that holds everything on a canvas. When you create a new figure, you're creating a new blank canvas where you can plot your data.\n",
    "\n",
    "2. Axes (ax):\n",
    "An Axes in Matplotlib represents a subplot, which is an individual plot inside a figure. A figure can have multiple subplots arranged in rows and columns. The Axes object is what you work with to create plots and set plot properties.\n",
    "\n",
    "When you use plt.subplots(), it creates a new Figure and a single Axes. The fig variable holds the Figure object, and the ax variable holds the Axes object. You can create multiple subplots using plt.subplots(nrows, ncols) to create an array of Axes objects within a single Figure."
   ],
   "metadata": {
    "id": "UipNYz9E62Qx"
   }
  },
  {
   "cell_type": "code",
   "source": [
    "fig, axes = plt.subplots(1,2,figsize=(10,4), sharey=True) # a figure with two plots in two different columns sharing the y-axis\n",
    "\n",
    "axes[0].plot(x,y1,color=\"blue\",ls=\"--\")\n",
    "axes[1].plot(x,y2,color=\"red\",ls=\":\")\n",
    "\n",
    "for ax in axes.flatten():\n",
    "  ax.grid()\n",
    "  # when using the ax objects the syntax might be slightly different, but the rationale is the same\n",
    "  ax.set_xticks(np.arange(0,2*math.pi+1,math.pi/2))\n",
    "  ax.set_xticklabels([\"0\",\"$\\pi/2$\",\"$\\pi$\",\"$3\\pi/2$\",\"$2\\pi$\"])\n",
    "\n",
    "fig.suptitle(\"Figure with multiple plots\");"
   ],
   "metadata": {
    "colab": {
     "base_uri": "https://localhost:8080/",
     "height": 409
    },
    "id": "jLozWZ-C4B19",
    "executionInfo": {
     "status": "ok",
     "timestamp": 1723104544020,
     "user_tz": -480,
     "elapsed": 662,
     "user": {
      "displayName": "T S",
      "userId": "01569976147042665237"
     }
    },
    "outputId": "3f3376b5-ce3d-446a-e7e7-561232331b89"
   },
   "execution_count": null,
   "outputs": [
    {
     "output_type": "display_data",
     "data": {
      "text/plain": [
       "<Figure size 1000x400 with 2 Axes>"
      ],
      "image/png": "[encoded data removed]"
     },
     "metadata": {}
    }
   ]
  },
  {
   "cell_type": "markdown",
   "source": [
    "## Exercises"
   ],
   "metadata": {
    "id": "qpmojAJor1wH"
   }
  },
  {
   "cell_type": "markdown",
   "source": [
    "### Fizz-buzz\n",
    "This is a classical coding question that tests loops and conditionals. Write a piece of code that will print all numbers until 50, but every multiple of 3 will print \"fizz\" instead of the number and \"buzz\" for every multiple of 5. If the number is a multiple of both 3 and 5 it should print \"fizz-buzz\".\n",
    "\n",
    "Tip: remember the % operator"
   ],
   "metadata": {
    "id": "vb7f2Ta6rwrf"
   }
  },
  {
   "cell_type": "code",
   "source": [
    "# @title Try implementing it\n",
    "for n in range(51):\n",
    "  if n%5==0 and n%3==0:\n",
    "    print(\"fizz-buzz\")\n",
    "  elif n%5==0:\n",
    "    print(\"buzz\")\n",
    "  elif n%3==0:\n",
    "    print(\"fizz\")\n",
    "  else:\n",
    "    print(n)"
   ],
   "metadata": {
    "id": "kdexZ3XNq3tw",
    "colab": {
     "base_uri": "https://localhost:8080/"
    },
    "executionInfo": {
     "status": "ok",
     "timestamp": 1723850254105,
     "user_tz": -480,
     "elapsed": 159,
     "user": {
      "displayName": "T S",
      "userId": "01569976147042665237"
     }
    },
    "outputId": "977b7e46-2808-4e32-fc40-beeb193f7133"
   },
   "execution_count": null,
   "outputs": [
    {
     "output_type": "stream",
     "name": "stdout",
     "text": [
      "fizz-buzz\n",
      "1\n",
      "2\n",
      "fizz\n",
      "4\n",
      "buzz\n",
      "fizz\n",
      "7\n",
      "8\n",
      "fizz\n",
      "buzz\n",
      "11\n",
      "fizz\n",
      "13\n",
      "14\n",
      "fizz-buzz\n",
      "16\n",
      "17\n",
      "fizz\n",
      "19\n",
      "buzz\n",
      "fizz\n",
      "22\n",
      "23\n",
      "fizz\n",
      "buzz\n",
      "26\n",
      "fizz\n",
      "28\n",
      "29\n",
      "fizz-buzz\n",
      "31\n",
      "32\n",
      "fizz\n",
      "34\n",
      "buzz\n",
      "fizz\n",
      "37\n",
      "38\n",
      "fizz\n",
      "buzz\n",
      "41\n",
      "fizz\n",
      "43\n",
      "44\n",
      "fizz-buzz\n",
      "46\n",
      "47\n",
      "fizz\n",
      "49\n",
      "buzz\n"
     ]
    }
   ]
  },
  {
   "cell_type": "markdown",
   "source": [
    "### Plotting\n",
    "\n",
    "Plot 2 curves on the same plot: an exponential function and a 2$^{nd}$ order polynomial. Plot each graph over the range 0<= x <5."
   ],
   "metadata": {
    "id": "PHUo52CRyuOI"
   }
  },
  {
   "cell_type": "code",
   "source": [
    "# @title Try implementing\n",
    "\n",
    "import numpy as np\n",
    "import matplotlib.pyplot as plt\n",
    "x = np.arange(0,5)\n",
    "\n",
    "plt.plot(x,np.exp(x))\n",
    "plt.plot(x,x**2)"
   ],
   "metadata": {
    "id": "stAP6f7Uq3lg",
    "executionInfo": {
     "status": "ok",
     "timestamp": 1723846081057,
     "user_tz": -480,
     "elapsed": 347,
     "user": {
      "displayName": "T S",
      "userId": "01569976147042665237"
     }
    },
    "outputId": "2cc3bfc3-390a-4f91-be43-8826b4293394",
    "colab": {
     "base_uri": "https://localhost:8080/",
     "height": 447
    }
   },
   "execution_count": null,
   "outputs": [
    {
     "output_type": "execute_result",
     "data": {
      "text/plain": [
       "[<matplotlib.lines.Line2D at 0x7f8970fc5e70>]"
      ]
     },
     "metadata": {},
     "execution_count": 34
    },
    {
     "output_type": "display_data",
     "data": {
      "text/plain": [
       "<Figure size 640x480 with 1 Axes>"
      ],
      "image/png": "[encoded data removed]"
     },
     "metadata": {}
    }
   ]
  }
 ]
}
