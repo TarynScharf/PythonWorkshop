{
  "nbformat": 4,
  "nbformat_minor": 0,
  "metadata": {
    "colab": {
      "provenance": []
    },
    "kernelspec": {
      "name": "python3",
      "display_name": "Python 3"
    },
    "language_info": {
      "name": "python"
    }
  },
  "cells": [
    {
      "cell_type": "markdown",
      "source": [
        "# PyGPlates\n",
        "In this notebook we will explore the use of Python as an interface for the paleomagnetism and plate-reconstruction software [GPlates](https://www.gplates.org/) using PyGPlates and [GPlately](https://github.com/GPlates/gplately).\n",
        "\n",
        "This software provides paleomagnetists with an invaluable set of tools for modelling the movement of plates. For geologists PyGPlates enables the reconstruction of paleogeography, helping users visualize how continents and oceans have evolved over millions of years and allows understanding our samples in their geologic and geographic context of formation. Users can analyze geological data in the context of plate tectonics, understanding the spatial relationships between geological features and plate boundaries.\n",
        "\n",
        "There are many advantages for using a programming interface for GPlates, rather than the GUI. Such as leveraging Python's extensive data analysis capabilities, advanced and more customisable visualisation and creation of workflows for batch processing.\n"
      ],
      "metadata": {
        "id": "t_3mbi_NfDeQ"
      }
    },
    {
      "cell_type": "markdown",
      "source": [
        "First step is to install pygmt and gplately on our virtual machine"
      ],
      "metadata": {
        "id": "J289_xYIDlew"
      }
    },
    {
      "cell_type": "code",
      "execution_count": 21,
      "metadata": {
        "id": "ZYd2d87Dmfrd",
        "colab": {
          "base_uri": "https://localhost:8080/"
        },
        "outputId": "8b468dc0-694d-4c9a-ea16-439d7bedd1cd"
      },
      "outputs": [
        {
          "output_type": "stream",
          "name": "stdout",
          "text": [
            "\u001b[33mWARNING: Running pip as the 'root' user can result in broken permissions and conflicting behaviour with the system package manager. It is recommended to use a virtual environment instead: https://pip.pypa.io/warnings/venv\u001b[0m\u001b[33m\n",
            "\u001b[0m✨🍰✨ Everything looks OK!\n",
            "\n",
            "Looking for: ['pygmt']\n",
            "\n",
            "\u001b[?25l\u001b[2K\u001b[0G[+] 0.0s\n",
            "conda-forge/linux-64  ⣾  \n",
            "conda-forge/noarch    ⣾  \u001b[2K\u001b[1A\u001b[2K\u001b[1A\u001b[2K\u001b[0G[+] 0.1s\n",
            "conda-forge/linux-64  ⣾  \n",
            "conda-forge/noarch    ⣾  \u001b[2K\u001b[1A\u001b[2K\u001b[1A\u001b[2K\u001b[0G[+] 0.2s\n",
            "conda-forge/linux-64   3%\n",
            "conda-forge/noarch    ⣾  \u001b[2K\u001b[1A\u001b[2K\u001b[1A\u001b[2K\u001b[0G[+] 0.3s\n",
            "conda-forge/linux-64   8%\n",
            "conda-forge/noarch    17%\u001b[2K\u001b[1A\u001b[2K\u001b[1A\u001b[2K\u001b[0G[+] 0.4s\n",
            "conda-forge/linux-64  14%\n",
            "conda-forge/noarch    30%\u001b[2K\u001b[1A\u001b[2K\u001b[1A\u001b[2K\u001b[0G[+] 0.5s\n",
            "conda-forge/linux-64  14%\n",
            "conda-forge/noarch    43%\u001b[2K\u001b[1A\u001b[2K\u001b[1A\u001b[2K\u001b[0G[+] 0.6s\n",
            "conda-forge/linux-64  19%\n",
            "conda-forge/noarch    57%\u001b[2K\u001b[1A\u001b[2K\u001b[1A\u001b[2K\u001b[0G[+] 0.7s\n",
            "conda-forge/linux-64  25%\n",
            "conda-forge/noarch    70%\u001b[2K\u001b[1A\u001b[2K\u001b[1A\u001b[2K\u001b[0G[+] 0.8s\n",
            "conda-forge/linux-64  30%\n",
            "conda-forge/noarch    70%\u001b[2K\u001b[1A\u001b[2K\u001b[1A\u001b[2K\u001b[0G[+] 0.9s\n",
            "conda-forge/linux-64  30%\n",
            "conda-forge/noarch    83%\u001b[2K\u001b[1A\u001b[2K\u001b[1A\u001b[2K\u001b[0G[+] 1.0s\n",
            "conda-forge/linux-64  36%\n",
            "conda-forge/noarch    83%\u001b[2K\u001b[1A\u001b[2K\u001b[1A\u001b[2K\u001b[0G[+] 1.1s\n",
            "conda-forge/linux-64  36%\n",
            "conda-forge/noarch    83%\u001b[2K\u001b[1A\u001b[2K\u001b[1A\u001b[2K\u001b[0G[+] 1.2s\n",
            "conda-forge/linux-64  36%\n",
            "conda-forge/noarch    97%\u001b[2K\u001b[1A\u001b[2K\u001b[1A\u001b[2K\u001b[0Gconda-forge/noarch                                \n",
            "[+] 1.3s\n",
            "conda-forge/linux-64  41%\u001b[2K\u001b[1A\u001b[2K\u001b[0G[+] 1.4s\n",
            "conda-forge/linux-64  47%\u001b[2K\u001b[1A\u001b[2K\u001b[0G[+] 1.5s\n",
            "conda-forge/linux-64  58%\u001b[2K\u001b[1A\u001b[2K\u001b[0G[+] 1.6s\n",
            "conda-forge/linux-64  58%\u001b[2K\u001b[1A\u001b[2K\u001b[0G[+] 1.7s\n",
            "conda-forge/linux-64  63%\u001b[2K\u001b[1A\u001b[2K\u001b[0G[+] 1.8s\n",
            "conda-forge/linux-64  63%\u001b[2K\u001b[1A\u001b[2K\u001b[0G[+] 1.9s\n",
            "conda-forge/linux-64  69%\u001b[2K\u001b[1A\u001b[2K\u001b[0G[+] 2.0s\n",
            "conda-forge/linux-64  74%\u001b[2K\u001b[1A\u001b[2K\u001b[0G[+] 2.1s\n",
            "conda-forge/linux-64  74%\u001b[2K\u001b[1A\u001b[2K\u001b[0G[+] 2.2s\n",
            "conda-forge/linux-64  74%\u001b[2K\u001b[1A\u001b[2K\u001b[0G[+] 2.3s\n",
            "conda-forge/linux-64  80%\u001b[2K\u001b[1A\u001b[2K\u001b[0G[+] 2.4s\n",
            "conda-forge/linux-64  80%\u001b[2K\u001b[1A\u001b[2K\u001b[0G[+] 2.5s\n",
            "conda-forge/linux-64  80%\u001b[2K\u001b[1A\u001b[2K\u001b[0G[+] 2.6s\n",
            "conda-forge/linux-64  80%\u001b[2K\u001b[1A\u001b[2K\u001b[0G[+] 2.7s\n",
            "conda-forge/linux-64  80%\u001b[2K\u001b[1A\u001b[2K\u001b[0G[+] 2.8s\n",
            "conda-forge/linux-64  80%\u001b[2K\u001b[1A\u001b[2K\u001b[0G[+] 2.9s\n",
            "conda-forge/linux-64  80%\u001b[2K\u001b[1A\u001b[2K\u001b[0G[+] 3.0s\n",
            "conda-forge/linux-64  80%\u001b[2K\u001b[1A\u001b[2K\u001b[0G[+] 3.1s\n",
            "conda-forge/linux-64  80%\u001b[2K\u001b[1A\u001b[2K\u001b[0G[+] 3.2s\n",
            "conda-forge/linux-64  80%\u001b[2K\u001b[1A\u001b[2K\u001b[0G[+] 3.3s\n",
            "conda-forge/linux-64  80%\u001b[2K\u001b[1A\u001b[2K\u001b[0G[+] 3.4s\n",
            "conda-forge/linux-64  80%\u001b[2K\u001b[1A\u001b[2K\u001b[0G[+] 3.5s\n",
            "conda-forge/linux-64  85%\u001b[2K\u001b[1A\u001b[2K\u001b[0G[+] 3.6s\n",
            "conda-forge/linux-64  85%\u001b[2K\u001b[1A\u001b[2K\u001b[0G[+] 3.7s\n",
            "conda-forge/linux-64  91%\u001b[2K\u001b[1A\u001b[2K\u001b[0G[+] 3.8s\n",
            "conda-forge/linux-64  96%\u001b[2K\u001b[1A\u001b[2K\u001b[0G[+] 3.9s\n",
            "conda-forge/linux-64 100%\u001b[2K\u001b[1A\u001b[2K\u001b[0Gconda-forge/linux-64                              \n",
            "\u001b[?25h\n",
            "Pinned packages:\n",
            "  - python 3.10.*\n",
            "  - python 3.10.*\n",
            "  - python_abi 3.10.* *cp310*\n",
            "  - cudatoolkit 11.8.*\n",
            "\n",
            "\n",
            "Transaction\n",
            "\n",
            "  Prefix: /usr/local\n",
            "\n",
            "  All requested packages already installed\n",
            "\n",
            "\u001b[?25l\u001b[2K\u001b[0G\u001b[?25h\n",
            "Looking for: ['gplately']\n",
            "\n",
            "conda-forge/linux-64                                        Using cache\n",
            "conda-forge/noarch                                          Using cache\n",
            "\n",
            "Pinned packages:\n",
            "  - python 3.10.*\n",
            "  - python 3.10.*\n",
            "  - python_abi 3.10.* *cp310*\n",
            "  - cudatoolkit 11.8.*\n",
            "\n",
            "\n",
            "Transaction\n",
            "\n",
            "  Prefix: /usr/local\n",
            "\n",
            "  All requested packages already installed\n",
            "\n",
            "\u001b[?25l\u001b[2K\u001b[0G\u001b[?25h"
          ]
        }
      ],
      "source": [
        "import warnings\n",
        "warnings.filterwarnings(\"ignore\")\n",
        "\n",
        "!pip install -q condacolab\n",
        "import condacolab\n",
        "condacolab.install()\n",
        "!mamba install pygmt\n",
        "!mamba install gplately"
      ]
    },
    {
      "cell_type": "markdown",
      "source": [
        "import the libraries"
      ],
      "metadata": {
        "id": "UIXEtA0eDvit"
      }
    },
    {
      "cell_type": "code",
      "source": [
        "import matplotlib.pyplot as plt\n",
        "import numpy as np\n",
        "import pandas as pd\n",
        "import geopandas as gpd\n",
        "import seaborn as sns\n",
        "import pygplates\n",
        "import gplately\n",
        "import pygmt\n"
      ],
      "metadata": {
        "id": "cxxhWcmfnoAL"
      },
      "execution_count": 22,
      "outputs": []
    },
    {
      "cell_type": "markdown",
      "source": [
        "## GPlates Files\n",
        "The classic approach using the older versions of PyGPlates would be to import files from a local directory. GPlately allows us to retrieve files hosted in a remote data server. Retrieving from the remote server are that you don't necessarily need to have the files stored anywhere and download them on the fly. However, you are limited to the files that are stored in the server. If you want to use alternate reconstructions you need to use local files.\n",
        "\n",
        "The two type of GPlates files we'll be using are:\n",
        "\n",
        "\n",
        "1. Rotation file (*.rot)\n",
        "\n",
        "In the context of GPlates, a rotation file is a data file that contains information about the relative motion and rotation of tectonic plates over geological time. Rotation files are a crucial component of plate tectonic reconstructions and are used to model the movement of geological features (such as continents, ocean basins, and mountain ranges) through time. Rotation files will contain information about how different plates (identified with **plate IDs**) move relative to each other according to a **rotation pole** during a set **time interval**. The amount of rotation along the pole for the time interval is given by the **rotation angle**.\n",
        "\n",
        "\n",
        "2. Gpml files (*.gpml)\n",
        "\n",
        "A .gpml file, short for GPlates Markup Language file, is a specific file format used by GPlates, a plate tectonics software, for storing and exchanging geological and geophysical data. These files are written in XML (eXtensible Markup Language) format. The XML structure of a .gpml file is hierarchical, organizing data into nested elements and attributes. This structure allows for the representation of complex geological information. Elements in .gpml files can have attributes that provide additional information or metadata about the represented features. Metadata might include information about the age of a geological feature, the publication source, or the geological time period it represents.\n",
        "\n",
        "In summary, gpml files serve as a standard data format for storing geological and geophysical information in the realm of plate tectonics research. They facilitate data exchange, analysis, and visualization within the GPlates software environment and promote interoperability among scientists working on understanding Earth's dynamic geological history. We can convert shape files into gpml files\n",
        "\n"
      ],
      "metadata": {
        "id": "aIncB5bTIpUd"
      }
    },
    {
      "cell_type": "code",
      "source": [
        "# Example of import using data server\n",
        "\n",
        "# Call GPlately's DataServer from the download.py module\n",
        "# gdownload = gplately.download.DataServer(\"Muller2019\")\n",
        "\n",
        "# Obtain all rotation files, topology features and static polygons from Muller et al. 2019\n",
        "# rotation_model, topology_features, static_polygons = gdownload.get_plate_reconstruction_files()"
      ],
      "metadata": {
        "id": "DJr0MdnCPOzi"
      },
      "execution_count": null,
      "outputs": []
    },
    {
      "cell_type": "markdown",
      "source": [
        "For this workshop we'll use the plate reconstruction model of [Merdith et al. 2021](https://www.sciencedirect.com/science/article/pii/S0012825220305237)"
      ],
      "metadata": {
        "id": "2Jedni_eQnXd"
      }
    },
    {
      "cell_type": "code",
      "source": [
        "print(Input_dir+\"1000_0_rotfile_Merdith_et_al.rot\")\n",
        "rot = Input_dir+\"1000_0_rotfile_Merdith_et_al.rot\""
      ],
      "metadata": {
        "colab": {
          "base_uri": "https://localhost:8080/"
        },
        "id": "9C_UF9C2TMeE",
        "outputId": "7a74addb-5ef2-47e3-d189-a1d853e5f5d8"
      },
      "execution_count": null,
      "outputs": [
        {
          "output_type": "stream",
          "name": "stdout",
          "text": [
            "https://raw.githubusercontent.com/pierosampaio/PythonWorkshop/main/Files/GPlates_files/1000_0_rotfile_Merdith_et_al.rot\n"
          ]
        }
      ]
    },
    {
      "cell_type": "code",
      "source": [
        "rot_fname = \"https://raw.githubusercontent.com/pierosampaio/PythonWorkshop/main/Files/GPlates_files/1000_0_rotfile_Merdith_et_al.rot\"\n",
        "rotation_model = pygplates.RotationModel(rot_fname)\n"
      ],
      "metadata": {
        "colab": {
          "base_uri": "https://localhost:8080/",
          "height": 193
        },
        "id": "WNCMBnBpUVsK",
        "outputId": "e30e9015-2c6c-4da2-d6f8-40864e336557"
      },
      "execution_count": 25,
      "outputs": [
        {
          "output_type": "error",
          "ename": "OpenFileForReadingError",
          "evalue": "ignored",
          "traceback": [
            "\u001b[0;31m---------------------------------------------------------------------------\u001b[0m",
            "\u001b[0;31mOpenFileForReadingError\u001b[0m                   Traceback (most recent call last)",
            "\u001b[0;32m<ipython-input-25-eefdec6ff32a>\u001b[0m in \u001b[0;36m<cell line: 2>\u001b[0;34m()\u001b[0m\n\u001b[1;32m      1\u001b[0m \u001b[0mrot_fname\u001b[0m \u001b[0;34m=\u001b[0m \u001b[0;34m\"https:///raw.githubusercontent.com/pierosampaio/PythonWorkshop/main/Files/GPlates_files/1000_0_rotfile_Merdith_et_al.rot\"\u001b[0m\u001b[0;34m\u001b[0m\u001b[0;34m\u001b[0m\u001b[0m\n\u001b[0;32m----> 2\u001b[0;31m \u001b[0mrotation_model\u001b[0m \u001b[0;34m=\u001b[0m \u001b[0mpygplates\u001b[0m\u001b[0;34m.\u001b[0m\u001b[0mRotationModel\u001b[0m\u001b[0;34m(\u001b[0m\u001b[0mrot_fname\u001b[0m\u001b[0;34m)\u001b[0m\u001b[0;34m\u001b[0m\u001b[0;34m\u001b[0m\u001b[0m\n\u001b[0m",
            "\u001b[0;31mOpenFileForReadingError\u001b[0m: Error opening file '/content/https:/raw.githubusercontent.com/pierosampaio/PythonWorkshop/main/Files/GPlates_files/1000_0_rotfile_Merdith_et_al.rot' for reading"
          ]
        }
      ]
    },
    {
      "cell_type": "code",
      "source": [
        "Input_dir = \"https://raw.githubusercontent.com/pierosampaio/PythonWorkshop/main/Files/GPlates_files/\"\n",
        "\n",
        "#rotation_model = pygplates.RotationModel( \"https://raw.githubusercontent.com/pierosampaio/PythonWorkshop/main/Files/GPlates_files/1000_0_rotfile_Merdith_et_al.rot\")\n",
        "static_polygons = pygplates.FeatureCollection(Input_dir+\"shapes_static_polygons_Merdith_et_al.gpml\")\n",
        "coastlines = pygplates.FeatureCollection(Input_dir+\"shapes_coastlines_Merdith_et_al.gpml\")\n",
        "continents = pygplates.FeatureCollection(Input_dir+\"shapes_continents_Merdith_et_al.gpml\")\n",
        "\n",
        "topology_filenames = [\n",
        "    \"1000-410-Convergence_Merdith_et_al.gpml\",\n",
        "    \"1000-410-Divergence_Merdith_et_al.gpml\",\n",
        "    \"1000-410-Topologies_Merdith_et_al.gpml\",\n",
        "    \"1000-410-Transforms_Merdith_et_al.gpml\",\n",
        "    \"410-250_plate_boundaries_Merdith_et_al.gpml\",\n",
        "    \"250-0_plate_boundaries_Merdith_et_al.gpml\",\n",
        "    \"TopologyBuildingBlocks_Merdith_et_al.gpml\"\n",
        "]\n",
        "\n",
        "topology_features = pygplates.FeatureCollection()\n",
        "for topology in topology_filenames:\n",
        "  topology_feature.add(Input_dir+topology)\n"
      ],
      "metadata": {
        "colab": {
          "base_uri": "https://localhost:8080/",
          "height": 279
        },
        "id": "dpZKrr5otWi3",
        "outputId": "71d6c530-c8ab-4cf7-9772-20a1e6931d78"
      },
      "execution_count": null,
      "outputs": [
        {
          "output_type": "error",
          "ename": "OpenFileForReadingError",
          "evalue": "ignored",
          "traceback": [
            "\u001b[0;31m---------------------------------------------------------------------------\u001b[0m",
            "\u001b[0;31mOpenFileForReadingError\u001b[0m                   Traceback (most recent call last)",
            "\u001b[0;32m<ipython-input-20-8ff9033c95d3>\u001b[0m in \u001b[0;36m<cell line: 4>\u001b[0;34m()\u001b[0m\n\u001b[1;32m      2\u001b[0m \u001b[0;34m\u001b[0m\u001b[0m\n\u001b[1;32m      3\u001b[0m \u001b[0;31m#rotation_model = pygplates.RotationModel( \"https://raw.githubusercontent.com/pierosampaio/PythonWorkshop/main/Files/GPlates_files/1000_0_rotfile_Merdith_et_al.rot\")\u001b[0m\u001b[0;34m\u001b[0m\u001b[0;34m\u001b[0m\u001b[0m\n\u001b[0;32m----> 4\u001b[0;31m \u001b[0mstatic_polygons\u001b[0m \u001b[0;34m=\u001b[0m \u001b[0mpygplates\u001b[0m\u001b[0;34m.\u001b[0m\u001b[0mFeatureCollection\u001b[0m\u001b[0;34m(\u001b[0m\u001b[0mInput_dir\u001b[0m\u001b[0;34m+\u001b[0m\u001b[0;34m\"shapes_static_polygons_Merdith_et_al.gpml\"\u001b[0m\u001b[0;34m)\u001b[0m\u001b[0;34m\u001b[0m\u001b[0;34m\u001b[0m\u001b[0m\n\u001b[0m\u001b[1;32m      5\u001b[0m \u001b[0mcoastlines\u001b[0m \u001b[0;34m=\u001b[0m \u001b[0mpygplates\u001b[0m\u001b[0;34m.\u001b[0m\u001b[0mFeatureCollection\u001b[0m\u001b[0;34m(\u001b[0m\u001b[0mInput_dir\u001b[0m\u001b[0;34m+\u001b[0m\u001b[0;34m\"shapes_coastlines_Merdith_et_al.gpml\"\u001b[0m\u001b[0;34m)\u001b[0m\u001b[0;34m\u001b[0m\u001b[0;34m\u001b[0m\u001b[0m\n\u001b[1;32m      6\u001b[0m \u001b[0mcontinents\u001b[0m \u001b[0;34m=\u001b[0m \u001b[0mpygplates\u001b[0m\u001b[0;34m.\u001b[0m\u001b[0mFeatureCollection\u001b[0m\u001b[0;34m(\u001b[0m\u001b[0mInput_dir\u001b[0m\u001b[0;34m+\u001b[0m\u001b[0;34m\"shapes_continents_Merdith_et_al.gpml\"\u001b[0m\u001b[0;34m)\u001b[0m\u001b[0;34m\u001b[0m\u001b[0;34m\u001b[0m\u001b[0m\n",
            "\u001b[0;31mOpenFileForReadingError\u001b[0m: Error opening file 'https://raw.githubusercontent.com/pierosampaio/PythonWorkshop/main/Files/GPlates_files/shapes_static_polygons_Merdith_et_al.gpml' for reading"
          ]
        }
      ]
    },
    {
      "cell_type": "code",
      "source": [
        "def plot_subduction(df,color=\"black\",side=\"l\"):\n",
        "\n",
        "    fig.plot(df,\n",
        "         pen=f\"1p,{color}\",\n",
        "         style=f\"f0.5c/0.15c+{side}+t\",\n",
        "         fill=color\n",
        "        )\n"
      ],
      "metadata": {
        "id": "eJAeqSCe63bj"
      },
      "execution_count": null,
      "outputs": []
    },
    {
      "cell_type": "code",
      "source": [
        "model = gplately.PlateReconstruction(rotation_model, topology_features, static_polygons)"
      ],
      "metadata": {
        "id": "SpwDRubm66-j"
      },
      "execution_count": null,
      "outputs": []
    },
    {
      "cell_type": "code",
      "source": [
        "time = 270 #Ma\n",
        "subduction_data = model.tessellate_subduction_zones(time, ignore_warnings=True)\n",
        "ridge_data = model.tessellate_mid_ocean_ridges(time, ignore_warnings=True)\n",
        "gplot = gplately.PlotTopologies(model, coastlines=coast, time=time)\n",
        "\n",
        "RT = gplot.get_ridges_and_transforms()\n",
        "#SZ = gplot.get_trenches()\n",
        "SZ_L = a = gplot.get_subduction_direction()[0]\n",
        "SZ_R = a = gplot.get_subduction_direction()[1]\n",
        "coastlines = gplot.get_coastlines()"
      ],
      "metadata": {
        "id": "Y3vhbTrpqyDZ"
      },
      "execution_count": null,
      "outputs": []
    },
    {
      "cell_type": "code",
      "source": [
        "fig = pygmt.Figure()\n",
        "\n",
        "\n",
        "fig.plot(\n",
        "    RT.geometry,\n",
        "    pen=\"1p,blue\",\n",
        "    region=\"d\",\n",
        "    projection=\"G15/-45/20c\",\n",
        "    frame=[\"afg\",f\"+t{time} Ma\"]\n",
        ")\n",
        "\n",
        "\n",
        "plot_subduction(SZ_L)\n",
        "plot_subduction(SZ_R,side=\"r\")\n",
        "\n",
        "\n",
        "\n",
        "fig.plot(\n",
        "    coastlines,\n",
        "    fill=\"gray\",\n",
        "    pen=\"thinnest\"\n",
        "\n",
        ")\n",
        "\n",
        "fig.show()"
      ],
      "metadata": {
        "id": "m9U8q4Njq19r"
      },
      "execution_count": null,
      "outputs": []
    },
    {
      "cell_type": "markdown",
      "source": [
        "# Working with Point Data"
      ],
      "metadata": {
        "id": "04ru_hC27QAr"
      }
    },
    {
      "cell_type": "code",
      "source": [
        "import sys\n",
        "import os\n",
        "os.listdir()"
      ],
      "metadata": {
        "colab": {
          "base_uri": "https://localhost:8080/"
        },
        "id": "WNUPuKcbe-qD",
        "outputId": "fda12c3c-ad49-46f9-a287-f2555ad8af9b"
      },
      "execution_count": 28,
      "outputs": [
        {
          "output_type": "execute_result",
          "data": {
            "text/plain": [
              "['.config', 'condacolab_install.log', 'sample_data']"
            ]
          },
          "metadata": {},
          "execution_count": 28
        }
      ]
    },
    {
      "cell_type": "code",
      "source": [
        "CFB = pd.read_excel(r\"https://raw.githubusercontent.com/pierosampaio/PythonWorkshop/main/\"+\n",
        "                     \"Files/GPlates_files/All_Perm_CFB.xlsx\")\n",
        "\n",
        "CFB = gpd.GeoDataFrame(CFB,geometry=gpd.points_from_xy(CFB.LONGITUDE,CFB.LATITUDE))"
      ],
      "metadata": {
        "id": "kVaIt3667RqK"
      },
      "execution_count": 26,
      "outputs": []
    },
    {
      "cell_type": "code",
      "source": [
        "fig = pygmt.Figure()\n",
        "\n",
        "fig.coast(\n",
        "    region=\"d\",\n",
        "    projection=\"W25c\",\n",
        "    frame=[\"afg\",\"+tPermian CFBs\"],\n",
        "    land=\"gray\",\n",
        "    shorelines=\"thinnest\"\n",
        ")\n",
        "\n",
        "fig.plot(\n",
        "    CFB,\n",
        "    style=\"c0.3c\",\n",
        "    fill=\"red\",\n",
        "    pen=\"thinnest\"\n",
        ")\n",
        "\n",
        "fig.show()"
      ],
      "metadata": {
        "id": "i6d-Cg1c7UL0"
      },
      "execution_count": null,
      "outputs": []
    },
    {
      "cell_type": "code",
      "source": [
        "gpts = gplately.Points(model,CFB.LONGITUDE,CFB.LATITUDE)"
      ],
      "metadata": {
        "id": "D1Wa73Hi7Uwz"
      },
      "execution_count": null,
      "outputs": []
    },
    {
      "cell_type": "code",
      "source": [
        "rlons, rlats = gpts.reconstruct(270,return_array=True)\n",
        "CFB[\"rlons\"] = rlons\n",
        "CFB[\"rlats\"] = rlats\n",
        "\n",
        "CFB_pb = CFB.loc[(CFB[\"PB206_PB204\"].notnull()==True)\n",
        "                 |(CFB[\"PB207_PB204\"].notnull()==True)\n",
        "                 |(CFB[\"PB208_PB204\"].notnull()==True &(CFB[\"PB208_PB204\"]<41))\n",
        "                ]\n",
        "\n",
        "\n",
        "def delta86(row):\n",
        "\n",
        "    iso208=row[\"PB208_PB204\"]\n",
        "    iso206=row[\"PB206_PB204\"]\n",
        "\n",
        "    NHRL = (iso206*1.209)+15.627\n",
        "\n",
        "    return (iso208-NHRL)*100\n",
        "\n",
        "\n",
        "CFB_pb[\"delta86\"] = CFB_pb.apply(delta86,axis=1)"
      ],
      "metadata": {
        "id": "9QoWzJhh7UzL"
      },
      "execution_count": null,
      "outputs": []
    },
    {
      "cell_type": "code",
      "source": [
        "fig,ax = plt.subplots()\n",
        "\n",
        "sns.scatterplot(\n",
        "    data=CFB_pb,\n",
        "    x=\"PB206_PB204\",\n",
        "    y=\"PB208_PB204\",\n",
        "    hue=\"Name\",\n",
        "    ax=ax\n",
        ")\n",
        "\n",
        "ax.plot(\n",
        "    np.arange(17,21),\n",
        "    (np.arange(17,21)*1.209)+15.627,\n",
        "    ls=\"-\",\n",
        "    color=\"k\"\n",
        ")\n",
        "\n",
        "ax.set(xlim=(16,21),ylim=(36,41))"
      ],
      "metadata": {
        "id": "JgECK5qo7U1k"
      },
      "execution_count": null,
      "outputs": []
    },
    {
      "cell_type": "code",
      "source": [
        "fig = pygmt.Figure()\n",
        "\n",
        "pygmt.config(COLOR_FOREGROUND=\"lightskyblue1\")\n",
        "\n",
        "fig.plot(\n",
        "    RT.geometry,\n",
        "    pen=\"1p,black\",\n",
        "    region=\"d\",\n",
        "    projection=\"W25c\",\n",
        "    frame=[\"afg\",f\"+t{time} Ma\"]\n",
        ")\n",
        "\n",
        "\n",
        "plot_subduction(SZ_L)\n",
        "plot_subduction(SZ_R,side=\"r\")\n",
        "\n",
        "\n",
        "\n",
        "fig.plot(\n",
        "    coastlines,\n",
        "    fill=\"gray\",\n",
        "    pen=\"thinnest\"\n",
        "\n",
        ")\n",
        "\n",
        "pygmt.makecpt(cmap=\"viridis\",series=[CFB_pb.delta86.quantile(0.1),CFB_pb.delta86.quantile(0.9),10])\n",
        "\n",
        "\n",
        "fig.plot(\n",
        "    x=CFB_pb.rlons,y=CFB_pb.rlats,\n",
        "    style=\"c0.4c\",\n",
        "    fill=CFB_pb.delta86,\n",
        "    cmap=True,\n",
        "    pen=\"thinnest\"\n",
        ")\n",
        "\n",
        "fig.colorbar(frame=[\"a15\"])\n",
        "\n",
        "\n",
        "fig.show()"
      ],
      "metadata": {
        "id": "E8fa5AHP7U3s"
      },
      "execution_count": null,
      "outputs": []
    },
    {
      "cell_type": "code",
      "source": [],
      "metadata": {
        "id": "69zFE-kr7U59"
      },
      "execution_count": null,
      "outputs": []
    },
    {
      "cell_type": "code",
      "source": [],
      "metadata": {
        "id": "1UUg48N-7U8F"
      },
      "execution_count": null,
      "outputs": []
    },
    {
      "cell_type": "code",
      "source": [],
      "metadata": {
        "id": "oHyZ6mSL7U-b"
      },
      "execution_count": null,
      "outputs": []
    }
  ]
}