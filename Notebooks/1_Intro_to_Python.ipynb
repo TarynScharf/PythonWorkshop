{
  "nbformat": 4,
  "nbformat_minor": 0,
  "metadata": {
    "colab": {
      "provenance": []
    },
    "kernelspec": {
      "name": "python3",
      "display_name": "Python 3"
    },
    "language_info": {
      "name": "python"
    }
  },
  "cells": [
    {
      "cell_type": "markdown",
      "source": [
        "# Welcome to the GESSS-WA 2023 Python for Geosciences Workshop!\n",
        "## Who are we?\n",
        "### Dr. Luc Doucet\n",
        "Co-leader of the Earth Dynamics Research Group (http://geodynamics.curtin.edu.au/), I come from Bourg-en-Bresse, a small town in France famously known for its blue-white-red tricoloured (delicious) chickens. After a PhD in St Etienne, France (2012), I was awarded a three years fellowship from the Belgium Fund for Scientific Research to apply the \"non-traditional\" stable-isotope systematics to study the formation of both oceanic and continental lithosphere. After a two-year academic career break (being a stay-at-home dad), I moved to Curtin University in March 2018 to join the Earth Dynamics Research Group to decipher the present-day and past connections between Earth's mantle, supercontinent and superocean cycles. In 2023, I was awarded an ARC Future Fellowship to study the link between the deep carbon cycle with critical mineral deposits.\n",
        "\n",
        "### Piero Sampaio (PhD Student - Curtin)\n",
        "I did my undergraduate and MSc. in the Federal University of Rio de Janeiro (UFRJ), where I was born and raised. My research is in geochemistry and igneous petrology, more specifically, I use isotopic signatures from ophiolites to try to understand how Earth's mantle composition evolved since the Neoproterozoic. I use Python on a daily basis to process my data, perform advanced data analysis and generate good-looking visuals.\n",
        "\n",
        "\n",
        "## The notebook environment\n",
        "Notebooks such as the present one are handy ways to run bits of code (in this case Python) without having to run a full program or script, which allows for flexibility and testing. To run a code cell we simply need to press Shift + Enter\n",
        "\n",
        "## ChatGPT, GPT4 and generative AI\n",
        "Since the advent of ChatGPT and other generative AI, it has never been easier to learn coding. Using the new AI tools to debug and learn, we strongly encourage newcomers to use these new tools. However, bear in mind that they are just tools and therefore need to be treated as such: they only do what the user wants them to do, and we all are making mistake all the time!"
      ],
      "metadata": {
        "id": "lTjUkLJq20je"
      }
    },
    {
      "cell_type": "markdown",
      "source": [
        "# (Very) simple math\n",
        "Python has a series of in-built mathematical operators\n",
        "- Addition: +\n",
        "- Subtraction: -\n",
        "- Multiplication: *\n",
        "- Division: /\n",
        "- Modulus: %\n",
        "- Exponentiation: **\n",
        "\n"
      ],
      "metadata": {
        "id": "i6xEJ2q58Zbf"
      }
    },
    {
      "cell_type": "code",
      "execution_count": null,
      "metadata": {
        "colab": {
          "base_uri": "https://localhost:8080/"
        },
        "id": "PGNwhCFa2wx2",
        "outputId": "2f8c3ab1-e50d-4e93-c736-8f51edb34995"
      },
      "outputs": [
        {
          "output_type": "execute_result",
          "data": {
            "text/plain": [
              "2"
            ]
          },
          "metadata": {},
          "execution_count": 27
        }
      ],
      "source": [
        "1+1 #Addition: +"
      ]
    },
    {
      "cell_type": "code",
      "source": [
        "2-1 #Subtraction:-"
      ],
      "metadata": {
        "colab": {
          "base_uri": "https://localhost:8080/"
        },
        "id": "G4_lANLg_e62",
        "outputId": "e677cfd4-cb9f-464f-bab6-155b04effa41"
      },
      "execution_count": null,
      "outputs": [
        {
          "output_type": "execute_result",
          "data": {
            "text/plain": [
              "1"
            ]
          },
          "metadata": {},
          "execution_count": 28
        }
      ]
    },
    {
      "cell_type": "code",
      "source": [
        "2*3 #Multiplication: *"
      ],
      "metadata": {
        "colab": {
          "base_uri": "https://localhost:8080/"
        },
        "id": "zAI1wv1T3exc",
        "outputId": "232371c0-d343-46c1-bbdd-524732e1d27d"
      },
      "execution_count": null,
      "outputs": [
        {
          "output_type": "execute_result",
          "data": {
            "text/plain": [
              "6"
            ]
          },
          "metadata": {},
          "execution_count": 29
        }
      ]
    },
    {
      "cell_type": "code",
      "source": [
        "3/4 #Division: /"
      ],
      "metadata": {
        "colab": {
          "base_uri": "https://localhost:8080/"
        },
        "id": "0YgRC8q4_e9T",
        "outputId": "8ca9ca9a-80db-4363-e0db-a846e0376369"
      },
      "execution_count": null,
      "outputs": [
        {
          "output_type": "execute_result",
          "data": {
            "text/plain": [
              "0.75"
            ]
          },
          "metadata": {},
          "execution_count": 30
        }
      ]
    },
    {
      "cell_type": "code",
      "source": [
        "26%8 #Modulus: %"
      ],
      "metadata": {
        "colab": {
          "base_uri": "https://localhost:8080/"
        },
        "id": "ogE50LbZ_e_x",
        "outputId": "a0d08ef9-fb81-4513-9efb-80c865cbb19c"
      },
      "execution_count": null,
      "outputs": [
        {
          "output_type": "execute_result",
          "data": {
            "text/plain": [
              "2"
            ]
          },
          "metadata": {},
          "execution_count": 31
        }
      ]
    },
    {
      "cell_type": "code",
      "source": [
        " 2**3 #Exponentiation: **"
      ],
      "metadata": {
        "colab": {
          "base_uri": "https://localhost:8080/"
        },
        "id": "PLJ7ETBM3sKe",
        "outputId": "09ec167d-882c-471a-8323-9dd0fb51cbb2"
      },
      "execution_count": null,
      "outputs": [
        {
          "output_type": "execute_result",
          "data": {
            "text/plain": [
              "8"
            ]
          },
          "metadata": {},
          "execution_count": 32
        }
      ]
    },
    {
      "cell_type": "markdown",
      "source": [
        "We can assign values to **variables**, which will store the value and make it easier to work with no matter the **data type**. Data types determine how the data behaves and what we can do to it. Examples of data types are:\n",
        "- int: integer numbers\n",
        "- float: numbers with decimal values\n",
        "- str: text - strings of characters\n",
        "- bool: True/False values\n",
        "\n",
        "We can also have **composite data types**:\n",
        "- list: mutable object that contains other values\n",
        "- tuple: same, but immutable\n",
        "- dict: key-value pairs"
      ],
      "metadata": {
        "id": "rbgLKK_T7hdr"
      }
    },
    {
      "cell_type": "code",
      "source": [
        "i = 42 # integer number\n",
        "s = \"Python\" # string (text)\n",
        "f = 4.56 # float (decimal values or fractional numbers)\n",
        "b = True # boolean value (condition that be True or False)\n",
        "l = [\"a\",23,399.8,False] # a list of numbers\n",
        "d = {\n",
        "    \"str\":\"a\",\n",
        "    \"int\":23,\n",
        "    \"float\":399.8,\n",
        "    \"bool\":False\n",
        "} # a dictionary"
      ],
      "metadata": {
        "id": "KwUmP3up7g_G"
      },
      "execution_count": null,
      "outputs": []
    },
    {
      "cell_type": "markdown",
      "source": [
        "In the above cell we called the `print` **function**, which prints (😲) something to the console. A function is a piece of code that performs an action.\n",
        "The classic introduction to any programming language is the `hello world` function. In Python we declare functions using the `def` statement in the beginning of the line."
      ],
      "metadata": {
        "id": "e6lkGrcw8FT5"
      }
    },
    {
      "cell_type": "code",
      "source": [
        "def hello_world(): #def define the function hellop_world\n",
        "  print(\"hello world!\") # the function print hello world\n",
        "\n",
        "hello_world()"
      ],
      "metadata": {
        "colab": {
          "base_uri": "https://localhost:8080/"
        },
        "id": "JDVQb449_2gl",
        "outputId": "e599575a-4b2f-4770-b97c-05372dca5539"
      },
      "execution_count": null,
      "outputs": [
        {
          "output_type": "stream",
          "name": "stdout",
          "text": [
            "hello world!\n"
          ]
        }
      ]
    },
    {
      "cell_type": "code",
      "source": [
        "def addition(a,b): #def define the function addition\n",
        "  return a+b # in this case we are returning a value that can be stored as a new variable\n",
        "\n",
        "x = addition(3,4) #x is using the function addition to do the addition 3 + 4, so x = 7\n",
        "print(x)\n"
      ],
      "metadata": {
        "colab": {
          "base_uri": "https://localhost:8080/"
        },
        "id": "ZE0mynVSABqb",
        "outputId": "83bcab67-a619-4742-9e8f-931d332b8728"
      },
      "execution_count": null,
      "outputs": [
        {
          "output_type": "stream",
          "name": "stdout",
          "text": [
            "7\n"
          ]
        }
      ]
    },
    {
      "cell_type": "markdown",
      "source": [
        "# Loops\n",
        "If we want to repeat an action multiple times, sometimes changing only a few factors, we can use a loop to automate that action. Loops come in two flavours:\n",
        "`while` and `for` loops.\n",
        "## `While` loop:\n",
        "A `while` loop repeats an action for as long as a condition is `True`\n",
        "\n",
        "## `For` loop:\n",
        "A `for` loop repeats an action for every object in a given group (list, dict, array, etc)\n",
        "\n",
        "The loop will be performed for all code that is within the next **indentation** level. Each indentation is performed by pressing the `tab` key. We can press `shift` + `tab` to go back to the previous indentation"
      ],
      "metadata": {
        "id": "MP5cKlV6VToU"
      }
    },
    {
      "cell_type": "code",
      "source": [
        "# different indentation levels\n",
        "a\n",
        "  b\n",
        "    c\n",
        "      d\n"
      ],
      "metadata": {
        "id": "Kppht9xLZvG6"
      },
      "execution_count": null,
      "outputs": []
    },
    {
      "cell_type": "code",
      "source": [
        "# While loop example\n",
        "Max_number = 10 # we set up the max value\n",
        "counter = 0 # set up a value that will change\n",
        "while counter < Max_number: # while this condition is true we will repeat the actions underneath\n",
        "  print(counter) # print the number\n",
        "  counter += 1 # increase the number by adding 1\n",
        "\n",
        "# What would happen if we didn't increase the counter variable?\n",
        "# Try to change \"counter +=\" 1 to 0\n"
      ],
      "metadata": {
        "id": "Q3WTvvDQWKMt",
        "colab": {
          "base_uri": "https://localhost:8080/"
        },
        "outputId": "621794e7-af5a-44ee-e298-a1f0393bc34e"
      },
      "execution_count": null,
      "outputs": [
        {
          "output_type": "stream",
          "name": "stdout",
          "text": [
            "0\n",
            "1\n",
            "2\n",
            "3\n",
            "4\n",
            "5\n",
            "6\n",
            "7\n",
            "8\n",
            "9\n"
          ]
        }
      ]
    },
    {
      "cell_type": "code",
      "source": [
        "# For loop example\n",
        "lst = [0,1,2,3,4,5,6,7,8,9] # a group of objects, in this case a list\n",
        "for obj in lst: # repeat the action for every item in the list\n",
        "  print(obj*2)"
      ],
      "metadata": {
        "id": "P8mPE2wnYLmT",
        "colab": {
          "base_uri": "https://localhost:8080/"
        },
        "outputId": "4624295a-d936-4260-eb91-126800398bb4"
      },
      "execution_count": null,
      "outputs": [
        {
          "output_type": "stream",
          "name": "stdout",
          "text": [
            "0\n",
            "2\n",
            "4\n",
            "6\n",
            "8\n",
            "10\n",
            "12\n",
            "14\n",
            "16\n",
            "18\n"
          ]
        }
      ]
    },
    {
      "cell_type": "markdown",
      "source": [
        "# Conditionals and control\n",
        "Conditionals in Python, like in many other programming languages, allow you to make decisions in your code. They help your programs to behave differently based on certain conditions. In Python, you use if, elif (else if), and else statements to create conditionals.\n",
        "\n",
        "1. if Statements:\n",
        "The if statement is used to execute a block of code if a condition is true.\n",
        "\n",
        "2. elif Statements:\n",
        "elif is short for \"else if\". It allows you to check multiple conditions. If the first if condition is false, it checks the next elif condition, and so on.\n",
        "\n",
        "3. else Statements:\n",
        "The else statement is used to execute a block of code if none of the conditions in the if and elif statements are true.\n",
        "\n",
        "4. Nesting Conditionals:\n",
        "You can also nest conditionals inside each other to handle more complex situations."
      ],
      "metadata": {
        "id": "_NwBOqO3an_2"
      }
    },
    {
      "cell_type": "code",
      "source": [
        "# if statement:\n",
        "a = 18\n",
        "if a >= 18:\n",
        "  print(\"You are an adult.\")"
      ],
      "metadata": {
        "id": "BoQUtCKPanIg",
        "colab": {
          "base_uri": "https://localhost:8080/"
        },
        "outputId": "fa25a694-6984-4988-e624-124bc74cd696"
      },
      "execution_count": null,
      "outputs": [
        {
          "output_type": "stream",
          "name": "stdout",
          "text": [
            "You are an adult.\n"
          ]
        }
      ]
    },
    {
      "cell_type": "code",
      "source": [
        "# elif statement:\n",
        "\n",
        "grade = 85\n",
        "if grade >= 90:\n",
        "    print(\"A\")\n",
        "elif grade >= 80:\n",
        "    print(\"B\")\n",
        "elif grade >= 70:\n",
        "    print(\"C\")\n"
      ],
      "metadata": {
        "id": "Bvgd8HMSbaw0",
        "colab": {
          "base_uri": "https://localhost:8080/"
        },
        "outputId": "3e4b487a-d5fb-4c8c-8a28-501d2028aade"
      },
      "execution_count": null,
      "outputs": [
        {
          "output_type": "stream",
          "name": "stdout",
          "text": [
            "B\n"
          ]
        }
      ]
    },
    {
      "cell_type": "code",
      "source": [
        "# else statement\n",
        "\n",
        "num = 7\n",
        "if num % 2 == 0:\n",
        "    print(\"Even\")\n",
        "else:\n",
        "    print(\"Odd\")"
      ],
      "metadata": {
        "id": "C2WqOLzgbc9O",
        "colab": {
          "base_uri": "https://localhost:8080/"
        },
        "outputId": "e6fa6fe6-4449-4fcd-9ce2-e311dc1ad5ff"
      },
      "execution_count": null,
      "outputs": [
        {
          "output_type": "stream",
          "name": "stdout",
          "text": [
            "Odd\n"
          ]
        }
      ]
    },
    {
      "cell_type": "code",
      "source": [
        "# nested conditionals\n",
        "\n",
        "x = 10\n",
        "if x > 0:\n",
        "    if x < 20:\n",
        "        print(\"x is between 0 and 20\")\n",
        "    else:\n",
        "        print(\"x is greater than or equal to 20\")\n",
        "else:\n",
        "    print(\"x is less than or equal to 0\")"
      ],
      "metadata": {
        "id": "vnxtGE62bdjF",
        "colab": {
          "base_uri": "https://localhost:8080/"
        },
        "outputId": "c7183064-946b-4c66-d243-ef6c23bec84a"
      },
      "execution_count": null,
      "outputs": [
        {
          "output_type": "stream",
          "name": "stdout",
          "text": [
            "x is between 0 and 20\n"
          ]
        }
      ]
    },
    {
      "cell_type": "markdown",
      "source": [
        "## We can mix loops and conditionals to make more complex actions\n",
        "Create a list of the even numbers below 20"
      ],
      "metadata": {
        "id": "hoyoq6_XcUJO"
      }
    },
    {
      "cell_type": "code",
      "source": [
        "# option 1:\n",
        "counter = 0\n",
        "max_value = 20\n",
        "numbers = [] #create an empty list\n",
        "while counter < max_value:\n",
        "  if counter % 2 == 0:\n",
        "    numbers.append(counter) # the .append method appends an object to the end of the list\n",
        "  counter += 1\n",
        "print(numbers)\n"
      ],
      "metadata": {
        "colab": {
          "base_uri": "https://localhost:8080/"
        },
        "id": "QSIubGPLb-Ce",
        "outputId": "2c7bba02-339d-49ef-8423-3c97e340f020"
      },
      "execution_count": null,
      "outputs": [
        {
          "output_type": "stream",
          "name": "stdout",
          "text": [
            "[0, 2, 4, 6, 8, 10, 12, 14, 16, 18]\n"
          ]
        }
      ]
    },
    {
      "cell_type": "code",
      "source": [
        "# option 2 (a bit more advanced but more concise):\n",
        "numbers = [i for i in range(20) if i % 2 == 0]\n",
        "print(numbers)"
      ],
      "metadata": {
        "colab": {
          "base_uri": "https://localhost:8080/"
        },
        "id": "brn6HwjRdRvz",
        "outputId": "9df59fe7-cfbf-4e85-c31f-7103cf0403ce"
      },
      "execution_count": null,
      "outputs": [
        {
          "output_type": "stream",
          "name": "stdout",
          "text": [
            "[0, 2, 4, 6, 8, 10, 12, 14, 16, 18]\n"
          ]
        }
      ]
    },
    {
      "cell_type": "code",
      "source": [
        "# Simple geology related example\n",
        "def plg_name(compositions):\n",
        "  \"\"\" Returns a list of the names of the plagioclase minerals given their\n",
        "  %An content\"\"\"\n",
        "  names = []\n",
        "\n",
        "  for p in compositions:\n",
        "    if p >= 90:\n",
        "      names.append(\"Anorthite\")\n",
        "    elif p < 90 and p >= 70:\n",
        "      names.append(\"Bytownite\")\n",
        "    elif p < 70 and p >= 50:\n",
        "      names.append(\"Labradorite\")\n",
        "    elif p < 50 and p >= 30:\n",
        "      names.append(\"Andesine\")\n",
        "    elif p < 30 and p >= 10:\n",
        "      names.append(\"Oligoclase\")\n",
        "    else:\n",
        "      names.append(\"Albite\")\n",
        "\n",
        "  return names\n",
        "\n",
        "Example_comps = [25,31,87,92,53,68,72] # %An contents from plagioclase\n",
        "\n",
        "Minerals = plg_name(Example_comps)\n",
        "print(Minerals)"
      ],
      "metadata": {
        "colab": {
          "base_uri": "https://localhost:8080/"
        },
        "id": "tTHVmAGbdnsu",
        "outputId": "b6e77996-7782-4636-d092-bac9c07ca8f4"
      },
      "execution_count": null,
      "outputs": [
        {
          "output_type": "stream",
          "name": "stdout",
          "text": [
            "['Oligoclase', 'Andesine', 'Bytownite', 'Anorthite', 'Labradorite', 'Labradorite', 'Bytownite']\n"
          ]
        }
      ]
    },
    {
      "cell_type": "markdown",
      "source": [
        "# The true power of Python: Libraries (or modules)\n",
        "Python goes way beyond by using different libraries. Libraries extend the functionality of Python. There are some built-in Python libraries (e.g. math), but there are heaps of user-created libraries. Whenever you want to do something on Python, chances are someone already created a library to make your life easier. First, we must import the desired library using the `import` statement. Generally, imports are in the first part of the code.\n",
        "\n",
        "Examples of built-in libraries are `math`, `os`, `time`,`stats`, etc\n",
        "\n",
        "The `math` library, for example, has many useful mathematical functions already implemented. Once we import the library we can access the functions in the library by using the `.` after the name of the library:\n",
        "`math.cos()` would give you the cosine function. Certain libraries also have attributes which can be accessed in the same way, such as `math.pi`. Note that this is not a function, so it does not need the parentheses after it."
      ],
      "metadata": {
        "id": "Epx8JQcy_vj6"
      }
    },
    {
      "cell_type": "code",
      "source": [
        "import math\n",
        "c = math.cos(math.pi) # we use the dot the access the cosine function\n",
        "print(c)"
      ],
      "metadata": {
        "id": "VUxKPC2W_pzU",
        "colab": {
          "base_uri": "https://localhost:8080/"
        },
        "outputId": "ff4257d5-25cf-45d9-b023-d17e9cf6b13b"
      },
      "execution_count": null,
      "outputs": [
        {
          "output_type": "stream",
          "name": "stdout",
          "text": [
            "-1.0\n"
          ]
        }
      ]
    },
    {
      "cell_type": "markdown",
      "source": [
        "We can also import only certain functions of a library. In that case we do not need to use the `math.cos()` anymore, we can call the function directly."
      ],
      "metadata": {
        "id": "gHZu6eMo6bEk"
      }
    },
    {
      "cell_type": "code",
      "source": [
        "from math import cos\n",
        "c = cos(math.pi)\n",
        "print(c)"
      ],
      "metadata": {
        "id": "HkgxHVYBvrut",
        "colab": {
          "base_uri": "https://localhost:8080/"
        },
        "outputId": "1da19ff5-73f0-4d46-bf36-c36bb3c344bd"
      },
      "execution_count": null,
      "outputs": [
        {
          "output_type": "stream",
          "name": "stdout",
          "text": [
            "-1.0\n"
          ]
        }
      ]
    },
    {
      "cell_type": "markdown",
      "source": [
        "Finally, we can also import a library with an alias that will be used throughout the code. For the `math` library that doesn't really matter but for libraries with longer names (classic example would be `matplotlib.pyplot`) it is useful."
      ],
      "metadata": {
        "id": "XfaS6BJMwhZU"
      }
    },
    {
      "cell_type": "code",
      "source": [
        "import math as m\n",
        "c = m.cos(m.pi)\n",
        "print(c)"
      ],
      "metadata": {
        "id": "I-xuVnU46vs9",
        "colab": {
          "base_uri": "https://localhost:8080/"
        },
        "outputId": "3164668b-c990-4ead-9806-7fa51f3b1a09"
      },
      "execution_count": null,
      "outputs": [
        {
          "output_type": "stream",
          "name": "stdout",
          "text": [
            "-1.0\n"
          ]
        }
      ]
    },
    {
      "cell_type": "markdown",
      "source": [
        "## External libraries\n",
        "\n",
        "These libraries, created and shared by the global Python community, cater to diverse needs such as data analysis, web development, machine learning, and more. For instance, the Pandas library simplifies data manipulation and analysis through its powerful data structures, the Matplotlib library enables high-quality data visualization and numpy for numerical calculations. These libraries expand Python's capabilities dramatically, allowing developers to leverage pre-built solutions and focus more on problem-solving rather than reinventing the wheel.\n",
        "\n",
        "In this workshop, we`ll be using mostly external libraries and applying them to geology related problems. The main libraries we'll use are:\n",
        "- [numpy](https://numpy.org/)\n",
        "- [scipy](https://scipy.org/)\n",
        "- [matplotlib](https://matplotlib.org/)\n",
        "- [pandas](https://pandas.pydata.org/)\n",
        "- [geopandas](https://geopandas.org/en/stable/)\n",
        "- [seaborn](https://seaborn.pydata.org/)\n",
        "- [pyrolite](https://pyrolite.readthedocs.io/en/main/) (developed by Morgan Williams of CSIRO)\n",
        "- [PyGMT](https://www.pygmt.org/latest/index.html) (maintained by a group of geophysicists in various places)\n",
        "- [PyGPlates](https://www.gplates.org/docs/pygplates/) (developed by EarthByte Group of USydney)\n",
        "\n",
        "For example the `numpy` library extends (a lot) the functionality of the `math` library. One use case is that `math` operates on single objects, whereas `numpy` operates on arrays (a type of group of objects) directly, which saves us from using loops all the time. This is great, because loops are very inefficient in terms of speed. It might not be vital for short tasks, but it scales very quickly.\n",
        "\n",
        "## Numpy\n",
        "This is your go-to for almost all numerical applications in Python. Fast, highly optimized library for working with arrays of numbers."
      ],
      "metadata": {
        "id": "3ZayDi_MxKb0"
      }
    },
    {
      "cell_type": "code",
      "source": [
        "# with math\n",
        "import math\n",
        "\n",
        "gp1 = range(0,20,1) # built-in function to define a range of numbers\n",
        "results = [] # create list to store results\n",
        "for i in gp1:\n",
        "  results.append(math.sqrt(i))\n",
        "print(results)\n",
        "\n",
        "# math only takes real numbers as input"
      ],
      "metadata": {
        "id": "6GZX8d2k7Lx4",
        "colab": {
          "base_uri": "https://localhost:8080/"
        },
        "outputId": "43537e48-6a44-42cb-8cb3-bb3696f65de0"
      },
      "execution_count": null,
      "outputs": [
        {
          "output_type": "stream",
          "name": "stdout",
          "text": [
            "[0.0, 1.0, 1.4142135623730951, 1.7320508075688772, 2.0, 2.23606797749979, 2.449489742783178, 2.6457513110645907, 2.8284271247461903, 3.0, 3.1622776601683795, 3.3166247903554, 3.4641016151377544, 3.605551275463989, 3.7416573867739413, 3.872983346207417, 4.0, 4.123105625617661, 4.242640687119285, 4.358898943540674]\n"
          ]
        }
      ]
    },
    {
      "cell_type": "code",
      "source": [
        "# with numpy\n",
        "import numpy as np # common alias for numpy\n",
        "\n",
        "results = np.sqrt(gp1) # we can operate directly on the range object\n",
        "results # the object is returned as an array data type, which is the type on which numpy operates"
      ],
      "metadata": {
        "colab": {
          "base_uri": "https://localhost:8080/"
        },
        "id": "6_30bUC3xJFW",
        "outputId": "049b87df-369f-47c9-9e2e-ba2c66ae9a6f"
      },
      "execution_count": null,
      "outputs": [
        {
          "output_type": "execute_result",
          "data": {
            "text/plain": [
              "array([0.        , 1.        , 1.41421356, 1.73205081, 2.        ,\n",
              "       2.23606798, 2.44948974, 2.64575131, 2.82842712, 3.        ,\n",
              "       3.16227766, 3.31662479, 3.46410162, 3.60555128, 3.74165739,\n",
              "       3.87298335, 4.        , 4.12310563, 4.24264069, 4.35889894])"
            ]
          },
          "metadata": {},
          "execution_count": 50
        }
      ]
    },
    {
      "cell_type": "code",
      "source": [
        "# numpy also has its own version of the range function which automatically generates an array\n",
        "arr = np.arange(0,100,5) # start, stop, step\n",
        "\n",
        "arr2 = np.linspace(0,100,20) # (start, stop, num) this creates an array with evenly spaced values between start and stop\n",
        "\n",
        "# arrays also don't need to be 1d, they can have how many dimensions as you want, a matrix for example\n",
        "arr_2d = arr.reshape(2,10)\n",
        "arr_2d"
      ],
      "metadata": {
        "colab": {
          "base_uri": "https://localhost:8080/"
        },
        "id": "7jeOS_QVyYcY",
        "outputId": "aa2382e3-23fe-4277-e3f2-5502d6257f6e"
      },
      "execution_count": null,
      "outputs": [
        {
          "output_type": "execute_result",
          "data": {
            "text/plain": [
              "array([[ 0,  5, 10, 15, 20, 25, 30, 35, 40, 45],\n",
              "       [50, 55, 60, 65, 70, 75, 80, 85, 90, 95]])"
            ]
          },
          "metadata": {},
          "execution_count": 51
        }
      ]
    },
    {
      "cell_type": "code",
      "source": [
        "# We can access items in the array by using indexes\n",
        "# Just keep in mind that python starts counting from 0\n",
        "\n",
        "arr = np.arange(0,100,5) # start, stop, step\n",
        "arr[0] # returns the first item in the array"
      ],
      "metadata": {
        "colab": {
          "base_uri": "https://localhost:8080/"
        },
        "id": "0OGLVYq-0f7f",
        "outputId": "e481b331-96b3-4c0b-9c35-9bb731174aa7"
      },
      "execution_count": null,
      "outputs": [
        {
          "output_type": "execute_result",
          "data": {
            "text/plain": [
              "0"
            ]
          },
          "metadata": {},
          "execution_count": 52
        }
      ]
    },
    {
      "cell_type": "code",
      "source": [
        "arr[-1] # is a shortcut for last item. We can count backwards from -1"
      ],
      "metadata": {
        "colab": {
          "base_uri": "https://localhost:8080/"
        },
        "id": "JaqPRPuf09WM",
        "outputId": "3639e79f-0f33-46ae-8b9d-dd97f4a88c75"
      },
      "execution_count": null,
      "outputs": [
        {
          "output_type": "execute_result",
          "data": {
            "text/plain": [
              "95"
            ]
          },
          "metadata": {},
          "execution_count": 53
        }
      ]
    },
    {
      "cell_type": "code",
      "source": [
        "# we can also index with slices\n",
        "# [start:stop] where stop is not inclusive\n",
        "\n",
        "arr[0:5] # first five items"
      ],
      "metadata": {
        "id": "i9ILgIJv1ONX"
      },
      "execution_count": null,
      "outputs": []
    },
    {
      "cell_type": "code",
      "source": [
        "# And finally this works for multidimensional arrays as well\n",
        "# The dimensions are separated by commas, so notation is similar to that of a matrix\n",
        "\n",
        "arr_2d[0,4] # returns the item in the fifth column of the first line (remember we count from 0)"
      ],
      "metadata": {
        "colab": {
          "base_uri": "https://localhost:8080/"
        },
        "id": "HVEHM-DL1c5R",
        "outputId": "b020e064-f1f0-46c9-e427-0a76b0d4ac88"
      },
      "execution_count": null,
      "outputs": [
        {
          "output_type": "execute_result",
          "data": {
            "text/plain": [
              "20"
            ]
          },
          "metadata": {},
          "execution_count": 55
        }
      ]
    },
    {
      "cell_type": "markdown",
      "source": [
        "## Matplotlib"
      ],
      "metadata": {
        "id": "ASamCBYa27e3"
      }
    },
    {
      "cell_type": "code",
      "source": [
        "import matplotlib.pyplot as plt"
      ],
      "metadata": {
        "id": "r5JFUqE9101j"
      },
      "execution_count": null,
      "outputs": []
    },
    {
      "cell_type": "code",
      "source": [
        "# What is being plotted\n",
        "\n",
        "x = np.arange(0, 2*math.pi+1, math.pi/18)\n",
        "\n",
        "y1 = np.sin(x)**2\n",
        "y2 = 2*np.cos(x)\n",
        "\n",
        "plt.figure(figsize=(6, 4))  # create a figure, you can adjust the numbers (10, 6) to your desired width and height\n",
        "\n",
        "# actually plotting\n",
        "plt.plot(x, # what's on the x-axis\n",
        "         y1, # what's on the y-axis\n",
        "         color=\"blue\", # colour of the line\n",
        "         ls=\"--\", # linestyle\n",
        "         label=\"sine**2\" # label for the legend\n",
        ")\n",
        "\n",
        "plt.plot(x,\n",
        "         y2,\n",
        "         color=\"red\",\n",
        "         ls=\":\",\n",
        "         label=\"2*cosine\"\n",
        "  )\n",
        "\n",
        "plt.grid() # place a grid on our plot\n",
        "plt.legend(title=\"Legend\") # place a legend\n",
        "plt.title(\"Example Plot\") # give a title to your plot\n",
        "plt.xlabel(\"x-axis\") # give label to your x axis\n",
        "plt.ylabel(\"y-axis\") # give label to your y axis\n",
        "\n",
        "# Changing the ticks on the x-axis to be a function of pi\n",
        "plt.xticks(np.arange(0,2*math.pi+1,math.pi/2),\n",
        "           labels=[\"$0$\",\"$\\pi/2$\",\"$\\pi$\",\"$3\\pi/2$\",\"$2\\pi$\"]) # $$ is just to render the letter pi\n",
        "\n"
      ],
      "metadata": {
        "colab": {
          "base_uri": "https://localhost:8080/",
          "height": 590
        },
        "id": "PHa-7P9E3JoF",
        "outputId": "0a413c58-730b-4a26-af07-18f5bca34c48"
      },
      "execution_count": null,
      "outputs": [
        {
          "output_type": "execute_result",
          "data": {
            "text/plain": [
              "([<matplotlib.axis.XTick at 0x7d75ab51e500>,\n",
              "  <matplotlib.axis.XTick at 0x7d75ab51e530>,\n",
              "  <matplotlib.axis.XTick at 0x7d75ab51e620>,\n",
              "  <matplotlib.axis.XTick at 0x7d75ab5c02e0>,\n",
              "  <matplotlib.axis.XTick at 0x7d75ab5c0d90>],\n",
              " [Text(0.0, 0, '$0$'),\n",
              "  Text(1.5707963267948966, 0, '$\\\\pi/2$'),\n",
              "  Text(3.141592653589793, 0, '$\\\\pi$'),\n",
              "  Text(4.71238898038469, 0, '$3\\\\pi/2$'),\n",
              "  Text(6.283185307179586, 0, '$2\\\\pi$')])"
            ]
          },
          "metadata": {},
          "execution_count": 63
        },
        {
          "output_type": "display_data",
          "data": {
            "text/plain": [
              "<Figure size 600x400 with 1 Axes>"
            ],
            "image/png": "[encoded data removed]"
          },
          "metadata": {}
        }
      ]
    },
    {
      "cell_type": "markdown",
      "source": [
        "We can also create a figure with multiple plots in it.\n",
        "\n",
        "1. Figure (fig):\n",
        "A Figure in Matplotlib represents the whole figure or window in the GUI environment. It's the top-level container that holds everything on a canvas. When you create a new figure, you're creating a new blank canvas where you can plot your data.\n",
        "\n",
        "2. Axes (ax):\n",
        "An Axes in Matplotlib represents a subplot, which is an individual plot inside a figure. A figure can have multiple subplots arranged in rows and columns. The Axes object is what you work with to create plots and set plot properties.\n",
        "\n",
        "When you use plt.subplots(), it creates a new Figure and a single Axes. The fig variable holds the Figure object, and the ax variable holds the Axes object. You can create multiple subplots using plt.subplots(nrows, ncols) to create an array of Axes objects within a single Figure."
      ],
      "metadata": {
        "id": "UipNYz9E62Qx"
      }
    },
    {
      "cell_type": "code",
      "source": [
        "fig, axes = plt.subplots(1,2,figsize=(10,4), sharey=True) # a figure with two plots in two different columns sharing the y-axis\n",
        "\n",
        "axes[0].plot(x,y1,color=\"blue\",ls=\"--\")\n",
        "axes[1].plot(x,y2,color=\"red\",ls=\":\")\n",
        "\n",
        "for ax in axes.flatten():\n",
        "  ax.grid()\n",
        "  # when using the ax objects the syntax might be slightly different, but the rationale is the same\n",
        "  ax.set_xticks(np.arange(0,2*math.pi+1,math.pi/2))\n",
        "  ax.set_xticklabels([\"$0$\",\"$\\pi/2$\",\"$\\pi$\",\"$3\\pi/2$\",\"$2\\pi$\"])\n",
        "\n",
        "fig.suptitle(\"Figure with multiple plots\")"
      ],
      "metadata": {
        "colab": {
          "base_uri": "https://localhost:8080/",
          "height": 427
        },
        "id": "jLozWZ-C4B19",
        "outputId": "0b1013aa-8714-4bf7-90c2-b7fc6055b74b"
      },
      "execution_count": null,
      "outputs": [
        {
          "output_type": "execute_result",
          "data": {
            "text/plain": [
              "Text(0.5, 0.98, 'Figure with multiple plots')"
            ]
          },
          "metadata": {},
          "execution_count": 61
        },
        {
          "output_type": "display_data",
          "data": {
            "text/plain": [
              "<Figure size 1000x400 with 2 Axes>"
            ],
            "image/png": "[encoded data removed]"
          },
          "metadata": {}
        }
      ]
    },
    {
      "cell_type": "code",
      "source": [],
      "metadata": {
        "id": "ULECUJjT7CLb"
      },
      "execution_count": null,
      "outputs": []
    },
    {
      "cell_type": "code",
      "source": [],
      "metadata": {
        "id": "4xoyPbJU7WZy"
      },
      "execution_count": null,
      "outputs": []
    }
  ]
}