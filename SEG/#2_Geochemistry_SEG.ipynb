{
 "cells": [
  {
   "cell_type": "markdown",
   "id": "4df95294",
   "metadata": {},
   "source": [
    "# Geochemistry\n",
    "\n",
    "In this notebook we will go interrogate tables of geochemical data using the Python packages 'pandas' and 'pyrolite'. Pandas makes handling tabular data in Python incredibly easy and, as it runs numpy in the background, the calculations are fast. Most packages that rely on tabular data are built to work with pandas, so mastering is fundamental for performing data analysis in Python. `Pyrolite`, developed by Morgan Williams (CSIRO), provides built-in functions that can simplify geochemical data manipulations. While Pyrolite provides some functionality specific to geochemical data (e.g. geochemical plot templates), it is not the only library useful for geological plotting and compositional data. As we go, this notebook will demonstrate several packages for achieve plotting tasks.\n",
    "\n",
    "- You can read the pandas docs here: https://pandas.pydata.org/\n",
    "\n",
    "- You can read the pyrolite docs here: https://pyrolite.readthedocs.io/en/main/\n",
    "\n",
    "\n",
    "---\n",
    "\n"
   ]
  },
  {
   "cell_type": "code",
   "execution_count": null,
   "id": "64419b8c-bcb6-41fe-bf81-f674cb5bdbf8",
   "metadata": {
    "scrolled": true
   },
   "outputs": [],
   "source": [
    "# This cell is only necessary if we're running in Google colab\n",
    "!pip install pandas numpy pyrolite seaborn matplotlib"
   ]
  },
  {
   "cell_type": "markdown",
   "id": "747bd8c4-65d6-4be1-8afd-a79bd9b99988",
   "metadata": {},
   "source": [
    "First, we must import the packages we are going to use."
   ]
  },
  {
   "cell_type": "code",
   "execution_count": null,
   "id": "4a3fef17",
   "metadata": {},
   "outputs": [],
   "source": [
    "# For data processing\n",
    "import pandas as pd\n",
    "import numpy as np\n",
    "from pyrolite.geochem.norm import all_reference_compositions,get_reference_composition\n",
    "\n",
    "# For visualization\n",
    "import seaborn as sns\n",
    "import pyrolite.plot\n",
    "import matplotlib.pyplot as plt\n",
    "\n"
   ]
  },
  {
   "cell_type": "markdown",
   "id": "b02d733a-31a3-4b73-9ccb-432bb34dd99c",
   "metadata": {},
   "source": [
    "## Example 1: Geochem QA/QC using standards\n",
    "In this example, we will:\n",
    "1. Load assay data measured from the standard SY-4\n",
    "2. Load the reference data for standard SY-4\n",
    "3. Create an XY plot of measured versus reference values for SY-4\n",
    "4. Optional: Try it yourself using the data for SY-2 "
   ]
  },
  {
   "cell_type": "markdown",
   "id": "c3c6675d-c364-4c67-aa70-31aaf6538280",
   "metadata": {},
   "source": [
    "Let's start my loading the data into pandas."
   ]
  },
  {
   "cell_type": "code",
   "execution_count": null,
   "id": "4438e6dc-c097-4783-80be-3c40d39e9c29",
   "metadata": {
    "scrolled": true
   },
   "outputs": [],
   "source": [
    "#Load the measured trace element values for the Y4 standard, from the drillhole trace element csv file\n",
    "\n",
    "#measured_SY4 = pd.read_csv('Data_for_exercises/DH 1&2 trace elements.csv',header = 4,skiprows=range(5, 35), nrows=1) this path will work on binder only\n",
    "measured_SY4 = pd.read_csv('https://raw.githubusercontent.com/TarynScharf/PythonWorkshop/refs/heads/main/SEG/Data_for_exercises/DH%201%262%20trace%20elements.csv',header = 4,skiprows=range(5, 35), nrows=1)\n",
    "measured_SY4"
   ]
  },
  {
   "cell_type": "code",
   "execution_count": null,
   "id": "fce780f6-6017-456c-ad82-53683e7b05a8",
   "metadata": {},
   "outputs": [],
   "source": [
    "#Load the reference values for the standard, from the SY-4.csv file.\n",
    "#standard_SY4 = pd.read_csv('Data_for_exercises/SY-4.csv')  this path will work on binder only\n",
    "standard_SY4 = pd.read_csv('https://raw.githubusercontent.com/TarynScharf/PythonWorkshop/refs/heads/main/SEG/Data_for_exercises/SY-4.csv')\n",
    "standard_SY4"
   ]
  },
  {
   "cell_type": "markdown",
   "id": "e231f75e-7518-4f73-ae03-ef97173c6548",
   "metadata": {},
   "source": [
    "The standard-SY4 dataframe (SY4 reference values) contains more columns (measured chemical species) than the measured-SY4 dataframe. Let's select only those columns that are common to both dataframes. We'll use pandas' intersection method."
   ]
  },
  {
   "cell_type": "code",
   "execution_count": null,
   "id": "7b81f634-610f-4b2b-a40f-b148ea385ec5",
   "metadata": {
    "scrolled": true
   },
   "outputs": [],
   "source": [
    "common_cols = standard_SY4.columns.intersection(measured_SY4.columns)\n",
    "print(common_cols)\n"
   ]
  },
  {
   "cell_type": "code",
   "execution_count": null,
   "id": "e497169b-fc85-47e7-94ac-e8015095500d",
   "metadata": {},
   "outputs": [],
   "source": [
    "standard_SY4_common = standard_SY4[common_cols]\n",
    "standard_SY4_common"
   ]
  },
  {
   "cell_type": "code",
   "execution_count": null,
   "id": "5b80a32c-67b0-4d12-9671-d182bb481479",
   "metadata": {},
   "outputs": [],
   "source": [
    "measured_SY4_common = measured_SY4[common_cols]\n",
    "measured_SY4_common"
   ]
  },
  {
   "cell_type": "markdown",
   "id": "af981b63-0821-4283-8a68-3abc1304533f",
   "metadata": {},
   "source": [
    "Let's transpose our data so that our rows become columns. We'll create a function so that we can easily reuse the code to repeat the procedure for future dataframes."
   ]
  },
  {
   "cell_type": "code",
   "execution_count": null,
   "id": "2c394a2a-ee4f-4fd2-be63-a0465a836a04",
   "metadata": {},
   "outputs": [],
   "source": [
    "def transpose_data(dataframe, data_column_labels):\n",
    "    '''\n",
    "    dataframe (df): dataframe to transpose rows to columns\n",
    "    data_column_labels (list): User-defined column labels, comprises two column lables 1)chemical species 2) value\n",
    "    '''\n",
    "    dataframe_transposed = dataframe.T\n",
    "    dataframe_transposed.reset_index(inplace=True)\n",
    "    dataframe_transposed.columns = data_column_labels\n",
    "    \n",
    "    return dataframe_transposed\n"
   ]
  },
  {
   "cell_type": "code",
   "execution_count": null,
   "id": "9dd2d3a2-e1a7-4fa7-a6c6-42c63a128ab4",
   "metadata": {
    "scrolled": true
   },
   "outputs": [],
   "source": [
    "standard_SY4_data_labels = ['chemical_species','reference_values']\n",
    "standard_SY4_transposed = transpose_data(standard_SY4_common,standard_SY4_data_labels)\n",
    "\n",
    "measured_SY4_data_labels = ['chemical_species','measured_values']\n",
    "measured_SY4_transposed = transpose_data(measured_SY4_common, measured_SY4_data_labels)\n",
    "\n",
    "#TIP:when typing a function call, place cursor inside the brackets and type shift+tab to see the docstring notes\n",
    "\n",
    "standard_SY4_transposed.head()"
   ]
  },
  {
   "cell_type": "code",
   "execution_count": null,
   "id": "f14f7c39-39e7-4cb2-89ea-92ed824e49a7",
   "metadata": {},
   "outputs": [],
   "source": [
    "#Join the two dataframes together. This will make it very easy to create a plot because we can simply reference columns from the merged dataframe.\n",
    "# An inner join will join those rows that have matching keys. In this case, we'll use 'chemical_species' as the key.\n",
    "df_merged = pd.merge(standard_SY4_transposed, measured_SY4_transposed, on='chemical_species', how='inner')\n",
    "df_merged.sort_values(by='reference_values', inplace=True)\n",
    "df_merged.head()"
   ]
  },
  {
   "cell_type": "markdown",
   "id": "d1d66659-74b2-49cd-b93b-84332ef3ee7d",
   "metadata": {},
   "source": [
    "Let's make a function that will plot our measured versus reference values. "
   ]
  },
  {
   "cell_type": "code",
   "execution_count": null,
   "id": "4cb3ea89-048a-4d6a-b8bf-661095c83a6a",
   "metadata": {},
   "outputs": [],
   "source": [
    "def make_scatter_plot(dataframe, x_column_name, y_column_name, data_column_name):\n",
    "    ax = sns.scatterplot(data = dataframe,x = x_column_name, y = y_column_name) #plot the data\n",
    "    plt.xscale('log') #let's use a log scale so that we can see all our data points clearly\n",
    "    plt.yscale('log')\n",
    "    plt.xlabel(x_column_name) #'Reference values'\n",
    "    plt.ylabel(y_column_name) #'Measured values'\n",
    "    plt.title(f'{y_column_name} vs {x_column_name}')\n",
    "    \n",
    "    for i in range(len(dataframe[data_column_name])):\n",
    "        ax.annotate(dataframe[data_column_name][i], (dataframe[x_column_name][i], dataframe[y_column_name][i]),\n",
    "                    textcoords=\"offset points\", xytext=(0,20), ha='left')\n",
    "    plt.show()\n",
    "\n",
    "    "
   ]
  },
  {
   "cell_type": "code",
   "execution_count": null,
   "id": "a94c38d2-4c50-4995-9a46-293c641bcab6",
   "metadata": {},
   "outputs": [],
   "source": [
    "%matplotlib inline\n",
    "make_scatter_plot(\n",
    "    df_merged, \n",
    "    'reference_values',\n",
    "    'measured_values',\n",
    "    'chemical_species'\n",
    ")\n"
   ]
  },
  {
   "cell_type": "markdown",
   "id": "222a20a2-4ffb-4af7-a6f9-5b5ab3897728",
   "metadata": {},
   "source": [
    "<font color=\"green\"><b>TRY IT YOURSELF:</b> \n",
    "<ol style=\"color: green\";\">\n",
    "<li>Read in the data for standard SY-2 from SY-2.csv in the Data_for_exercises folder.</li>\n",
    "<li>Read in the data for measured SY-2 from the trace element csv the Data_for_exercises folder.</li>\n",
    " <li>Find the columns that are common to SY-2.csv and the measured trace element data. Select only the common columns from each dataframe.</li>\n",
    " <li>Transpose both dataframes using the transpose_data function. </li>\n",
    "<li>Merge the transposed dataframes</li>\n",
    "<li>Plot the measured versus reference value using the make_scatter_plot function </li>\n",
    "</ol>  "
   ]
  },
  {
   "cell_type": "code",
   "execution_count": null,
   "id": "40d23b35-af14-40f7-8661-dcd0a29f369d",
   "metadata": {},
   "outputs": [],
   "source": [
    "# write your code here"
   ]
  },
  {
   "cell_type": "code",
   "execution_count": null,
   "id": "5df12630-6001-4324-92bd-4b673ff2e05a",
   "metadata": {},
   "outputs": [],
   "source": [
    "# Expand to see how it's done\n",
    "\n",
    "#import the data into pandas\n",
    "measured_SY2 = pd.read_csv('https://raw.githubusercontent.com/TarynScharf/PythonWorkshop/refs/heads/main/SEG/Data_for_exercises/DH%201%262%20trace%20elements.csv',header = 4,skiprows=range(5, 34), nrows=1)\n",
    "standard_SY2 = pd.read_csv('https://raw.githubusercontent.com/TarynScharf/PythonWorkshop/refs/heads/main/SEG/Data_for_exercises/SY-2.csv')\n",
    "\n",
    "#find the columns in common and filter each dataframe for the common columns\n",
    "common_cols = standard_SY2.columns.intersection(measured_SY2.columns)\n",
    "standard_SY2_common = standard_SY4[common_cols]\n",
    "measured_SY2_common = measured_SY4[common_cols]\n",
    "\n",
    "#transpose the two dataframes using the transpose_data function\n",
    "standard_SY2_transposed = transpose_data(standard_SY2_common,['chemical_species','reference_values'])\n",
    "measured_SY2_transposed = transpose_data(measured_SY2_common,['chemical_species', 'measured_values'])\n",
    "\n",
    "#merge the two dataframes\n",
    "df_merged_SY2 = pd.merge(standard_SY2_transposed, measured_SY2_transposed, on='chemical_species', how='inner')\n",
    "df_merged_SY2.sort_values(by='reference_values', inplace=True)\n",
    "\n",
    "#Create a scatter plot using the make_scatter_plot function\n",
    "make_scatter_plot(df_merged_SY2,\n",
    "                  'reference_values',\n",
    "                  'measured_values',\n",
    "                  'chemical_species'\n",
    "                 )"
   ]
  },
  {
   "cell_type": "markdown",
   "id": "687b5a6b-95cf-40f7-a56d-66272f3c6da3",
   "metadata": {},
   "source": [
    "## Example 2: Plot chemistry versus depth\n",
    "In this example we will:\n",
    "1.  Load the major element data\n",
    "2.  Create a new pandas column, to hold interval mid-point.\n",
    "3.  Plot chemistry versus depth (sampling interval midpoint)\n",
    "4.  See how matplotlib axes may be inverted\n",
    "5.  See how to share a common axis between two plots\n",
    "\n",
    "Our depth plot will look like this:\n"
   ]
  },
  {
   "attachments": {},
   "cell_type": "markdown",
   "id": "47c4c871-8226-4536-b9d1-ff8e023373ce",
   "metadata": {},
   "source": [
    "![depth_plots.png](https://raw.githubusercontent.com/TarynScharf/PythonWorkshop/refs/heads/main/SEG/NotebookImages/depth_profiles.png)"
   ]
  },
  {
   "cell_type": "code",
   "execution_count": null,
   "id": "b10ae94b-d26a-483f-b2da-fd3104109eca",
   "metadata": {},
   "outputs": [],
   "source": [
    "#Load the major element data\n",
    "\n",
    "major_elements = pd.read_csv('Data_for_exercises/DH1&2 major elements.csv', header = 4)\n",
    "major_elements.head()\n"
   ]
  },
  {
   "cell_type": "code",
   "execution_count": null,
   "id": "2458cf08-3a67-4a4b-8d45-38cc53b68cb2",
   "metadata": {},
   "outputs": [],
   "source": [
    "#Create a new pandas column that will hold the calculated sampling intersection midpoint\n",
    "\n",
    "def calculate_midpoint(row):\n",
    "    from_depth = float(row['Interval'].split('-')[0])\n",
    "    to_depth = float(row['Interval'].split('-')[1])\n",
    "    midpoint = from_depth + (to_depth - from_depth)/2\n",
    "    return midpoint\n",
    "\n",
    "major_elements['depth'] = major_elements.apply(calculate_midpoint, axis=1)\n",
    "major_elements.head()"
   ]
  },
  {
   "cell_type": "code",
   "execution_count": null,
   "id": "8a300728-2055-4d49-83b0-e72b4fdf5dad",
   "metadata": {},
   "outputs": [],
   "source": [
    "#Create a matplotlib plot that contains two subplots, placed side-by-side\n",
    "\n",
    "def plot_major_element_versus_depth(dataframe, element1, element2):\n",
    "    fig, ax = plt.subplots(1, 2, figsize=(8,6), sharey=True)\n",
    "\n",
    "    for drillhole in major_elements['Location'].unique():\n",
    "        drillhole_data = major_elements[major_elements['Location']==drillhole]\n",
    "        \n",
    "        ax[0].plot(drillhole_data[element1], drillhole_data['depth'], label = drillhole)\n",
    "        ax[0].set_xlabel(f'{element1} (wt%)')\n",
    "        ax[0].set_ylabel('Depth (m)')\n",
    "        \n",
    "\n",
    "        ax[1].plot(drillhole_data[element2], drillhole_data['depth'], label = drillhole)\n",
    "        ax[1].set_xlabel(f'{element2} (wt%)')\n",
    "        ax[1].legend(title='Drillhole')\n",
    "    ax[0].invert_yaxis()\n",
    "\n",
    "    plt.tight_layout()\n",
    "    plt.show()\n",
    "\n",
    "        \n",
    "plot_major_element_versus_depth(major_elements, 'Fe2O3', 'MgO')"
   ]
  },
  {
   "cell_type": "markdown",
   "id": "0e90d1ae-f1c9-4f81-b6b5-62249658979b",
   "metadata": {},
   "source": [
    " <font color=\"green\"><b>TRY IT YOURSELF:</b> Call the plot_major_element_versus_depth function to plot Al2O3 and K2O with depth. </font>  "
   ]
  },
  {
   "cell_type": "code",
   "execution_count": null,
   "id": "b32bb385-3c56-45b7-9e99-f6f2819f9a31",
   "metadata": {},
   "outputs": [],
   "source": [
    "# write your code here"
   ]
  },
  {
   "cell_type": "code",
   "execution_count": null,
   "id": "9715cac7-1536-4a1c-a052-3b245b193fdd",
   "metadata": {
    "jupyter": {
     "source_hidden": true
    }
   },
   "outputs": [],
   "source": [
    "# Expand to see how it's done\n",
    "\n",
    "plot_major_element_versus_depth(major_elements, 'Al2O3', 'K2O')"
   ]
  },
  {
   "cell_type": "markdown",
   "id": "3abd366c-1968-46a6-b699-0c84599541e3",
   "metadata": {},
   "source": [
    "Let's change the asthetics of this plot"
   ]
  },
  {
   "cell_type": "code",
   "execution_count": null,
   "id": "b0d02f81-9e06-4f54-b5c0-00f081341473",
   "metadata": {},
   "outputs": [],
   "source": [
    "def plot_major_element_versus_depth(dataframe, element1, element2):\n",
    "    fig, ax = plt.subplots(1, 2, figsize=(12, 7), sharey=True)\n",
    "\n",
    "    # Define colors and markers cycles\n",
    "    colours = plt.cm.tab20.colors  # Matplotlib has several colour maps. This one has 20 colours. You can read more here: https://matplotlib.org/stable/users/explain/colors/colormaps.html\n",
    "    markers = ['o', 's'] # matplotlib has different marker styles. You can read more here: https://matplotlib.org/stable/api/markers_api.html\n",
    "\n",
    "    drillholes = dataframe['Location'].unique()\n",
    "    num_colors = len(colours)\n",
    "    num_markers = len(markers)\n",
    "\n",
    "    for idx, drillhole in enumerate(drillholes):\n",
    "        drillhole_data = dataframe[dataframe['Location'] == drillhole]\n",
    "\n",
    "        colour = colours[idx]\n",
    "        marker = markers[idx]\n",
    "\n",
    "        ax[0].plot(drillhole_data[element1], drillhole_data['depth'],label=drillhole, color=colour, marker=marker, linestyle='-', markersize=5)\n",
    "        ax[1].plot(drillhole_data[element2], drillhole_data['depth'],label=drillhole, color=colour, marker=marker, linestyle='-', markersize=5)\n",
    "\n",
    "    # Labels and titles\n",
    "    ax[0].set_xlabel(f'{element1} (wt%)', fontsize=12)\n",
    "    ax[1].set_xlabel(f'{element2} (wt%)', fontsize=12)\n",
    "    ax[0].set_ylabel('Depth (m)', fontsize=12)\n",
    "\n",
    "    ax[0].set_title(f'{element1} vs Depth', fontsize=14, fontweight='bold')\n",
    "    ax[1].set_title(f'{element2} vs Depth', fontsize=14, fontweight='bold')\n",
    "\n",
    "    for axis in ax:\n",
    "        axis.grid(True, linestyle='--', alpha=0.6)\n",
    "        axis.minorticks_on()\n",
    "        axis.tick_params(axis='both', which='major', labelsize=10)\n",
    "        axis.tick_params(axis='both', which='minor', length=4)\n",
    "\n",
    "    ax[1].legend(title='Drillhole', fontsize=10, title_fontsize=12, loc='upper right',frameon=True, facecolor='white')\n",
    "    ax[0].invert_yaxis()\n",
    "    plt.tight_layout(rect=[0, 0, 0.85, 1])  # leave space on right for legend\n",
    "    plt.show()\n",
    "\n",
    "plot_major_element_versus_depth(major_elements, 'Fe2O3', 'MgO')"
   ]
  },
  {
   "cell_type": "markdown",
   "id": "869a6d18-1d25-4ca1-9954-4ba062dcd91a",
   "metadata": {},
   "source": [
    "## Example 3: Creating geochemical plots - oxide-oxide plot, TAS diagram, ternary diagram, spidergram"
   ]
  },
  {
   "cell_type": "markdown",
   "id": "d37ea44e-1a3e-446c-9f8f-525cbc29e2c9",
   "metadata": {},
   "source": [
    "We'll use a dataset of mafic extrusive igneous rocks in Western Australia, downloaded from the Ausgeochem online portal."
   ]
  },
  {
   "attachments": {
    "4f3cd647-9de1-43a1-ba52-61399f60722c.png": {
     "image/png": "[encoded data removed]"
    }
   },
   "cell_type": "markdown",
   "id": "cbba13ec-ca51-4d9f-8e51-eb0eb39ae12c",
   "metadata": {},
   "source": [
    "![ausgeochemsamples.png](attachment:4f3cd647-9de1-43a1-ba52-61399f60722c.png)"
   ]
  },
  {
   "cell_type": "code",
   "execution_count": null,
   "id": "ba7e09e6-9074-499a-b436-d7643bea6651",
   "metadata": {},
   "outputs": [],
   "source": [
    "df = pd.read_csv('https://raw.githubusercontent.com/TarynScharf/PythonWorkshop/refs/heads/main/SEG/Data_for_exercises/Rock_sample_geochem.csv')\n",
    "df.head()"
   ]
  },
  {
   "cell_type": "markdown",
   "id": "84b59e9a-f794-43f8-bcdd-bbc4ba84d5d1",
   "metadata": {},
   "source": [
    "We can get rid of unwanted columnns using the 'drop' method. "
   ]
  },
  {
   "cell_type": "code",
   "execution_count": null,
   "id": "444bf1ce-5b25-450e-83b1-e65392c7ba92",
   "metadata": {},
   "outputs": [],
   "source": [
    "df.drop(columns = ['location_type', 'location_comment'], inplace=True)\n",
    "df.head()"
   ]
  },
  {
   "cell_type": "markdown",
   "id": "87ff9822-257f-4a72-a94c-4502d04ce530",
   "metadata": {},
   "source": [
    "### Example 3.1: Data preparation\n",
    "- Filter the data to extract major oxide columns.\n",
    "- Get an overview  of the data: how many rows, missing values etc.\n",
    "- Drop rows with missing values\n",
    "- Replace zeros\n",
    "- Execute closure of oxides so that compositional data sums to 100"
   ]
  },
  {
   "cell_type": "markdown",
   "id": "a9a31674-dd46-410d-89b4-3a511c9667f4",
   "metadata": {},
   "source": [
    "We can filter data by row and column index using the .iloc method. (iloc standads for interger-location)"
   ]
  },
  {
   "cell_type": "code",
   "execution_count": null,
   "id": "4120b4ae-7082-4ed7-ae4d-92f6a521f2c4",
   "metadata": {},
   "outputs": [],
   "source": [
    "df.iloc[0:3, [42, 47, 51]]"
   ]
  },
  {
   "cell_type": "markdown",
   "id": "301b08cd-2e3c-4018-aed4-fb368e3e4cbb",
   "metadata": {},
   "source": [
    "<font color=\"green\"><b>TRY IT YOURSELF:</b> Instead of counting the column headers to get the index of the column of interest, we could get the indices of interest programmatically. Below, we extract the column indexes programmatically. Use these variables to filter out the SiO2, K2O and Na2O data.</font>  \n"
   ]
  },
  {
   "cell_type": "code",
   "execution_count": null,
   "id": "b0529829-78f7-403d-a6d7-fd013db03d4c",
   "metadata": {},
   "outputs": [],
   "source": [
    "index_of_SiO2 = df.columns.get_loc('SiO2')\n",
    "index_of_Na2O = df.columns.get_loc('Na2O')\n",
    "index_of_K2O = df.columns.get_loc('K2O')\n",
    "\n",
    "print(f'index of SiO2: {index_of_SiO2}')\n",
    "print(f'index of Na2O: {index_of_Na2O}')\n",
    "print(f'index of K2O: {index_of_K2O}')\n",
    "\n",
    "#Type your code here. Hint: use the .iloc method\n",
    "\n"
   ]
  },
  {
   "cell_type": "code",
   "execution_count": null,
   "id": "ebe86b18-5200-4cd5-ab1c-bab8f97ba3cc",
   "metadata": {
    "jupyter": {
     "source_hidden": true
    }
   },
   "outputs": [],
   "source": [
    "# Expand to see how it's done\n",
    "\n",
    "df.iloc[0:3, [index_of_SiO2, index_of_Na2O, index_of_K2O]]"
   ]
  },
  {
   "cell_type": "markdown",
   "id": "cd18f345-88de-4632-9759-0fd2dfe4713c",
   "metadata": {},
   "source": [
    "We can also filter by column and row name using the .loc method. (loc stands for location)"
   ]
  },
  {
   "cell_type": "code",
   "execution_count": null,
   "id": "ede15d8a-381a-46b5-abb5-e738ac62f0b2",
   "metadata": {},
   "outputs": [],
   "source": [
    "element_oxides = ['SiO2', 'Al2O3', 'Fe2O3', 'CaO', 'MgO', 'Na2O', 'K2O', 'MnO', 'TiO2', 'P2O5', 'Cr2O3']\n",
    "oxides = df.loc[:,element_oxides]\n",
    "oxides.head()"
   ]
  },
  {
   "cell_type": "markdown",
   "id": "a714b581-0b3c-4178-9f68-be00e13fc0cb",
   "metadata": {},
   "source": [
    "Pyrolite has some built-in methods for quick data filtering of geochem data. For example, you can easily filter out the oxide and REE columns."
   ]
  },
  {
   "cell_type": "code",
   "execution_count": null,
   "id": "392b104e-463f-4488-b37c-552a4d6639dd",
   "metadata": {},
   "outputs": [],
   "source": [
    "oxides_pyrochem = df.pyrochem.oxides\n",
    "oxides_pyrochem.head()"
   ]
  },
  {
   "cell_type": "markdown",
   "id": "610948d0-d3f4-4802-965c-8e309be73598",
   "metadata": {},
   "source": [
    " <font color=\"green\"><b>TRY IT YOURSELF:</b> Select rare earth elements using df.pyrochem.REE. Print out the results using the .head() method</font>  "
   ]
  },
  {
   "cell_type": "code",
   "execution_count": null,
   "id": "b8de2672-6dfe-420c-b905-561b57c78b18",
   "metadata": {},
   "outputs": [],
   "source": [
    "# Write your code here"
   ]
  },
  {
   "cell_type": "code",
   "execution_count": null,
   "id": "9ac9b957-a9e8-4143-8f56-526075ee0f7d",
   "metadata": {
    "jupyter": {
     "source_hidden": true
    }
   },
   "outputs": [],
   "source": [
    "# Expand to see how it's done\n",
    "\n",
    "REE_pyrochem = df.pyrochem.REE\n",
    "REE_pyrochem.head()"
   ]
  },
  {
   "cell_type": "markdown",
   "id": "a4caeff3-276a-4374-95a9-0696e0628767",
   "metadata": {},
   "source": [
    "You can quickly assess the numerical data to understand data max, min, average etc., and missing data using the .describe() and .info() methods. Let's assess the oxide data."
   ]
  },
  {
   "cell_type": "code",
   "execution_count": null,
   "id": "450f0907-c56d-4df1-9ff2-f9437889ce69",
   "metadata": {},
   "outputs": [],
   "source": [
    "oxides.describe()"
   ]
  },
  {
   "cell_type": "code",
   "execution_count": null,
   "id": "8a0a5e5b-cac2-41b0-81e1-f458b252acfc",
   "metadata": {},
   "outputs": [],
   "source": [
    "oxides.info()"
   ]
  },
  {
   "cell_type": "markdown",
   "id": "5d03780b-595c-4050-b3ad-3e9fd5ed16fa",
   "metadata": {},
   "source": [
    "### What do we do with zero values? When values are below detection limit...\n",
    "\n",
    "Some columns contain zero values. Zero values can be problematic in calculations and statistical analysis! There are many ways to handle zeros. \n",
    "- Delete all rows or columns with zero values. This can cause us to lose a lot of data, though!\n",
    "- We can replace zeros with a small value, or some fraction of detection limit.\n",
    "- We can impute the missing values."
   ]
  },
  {
   "cell_type": "code",
   "execution_count": null,
   "id": "d9995858-0831-4d74-b31d-f80c9f5e7b40",
   "metadata": {},
   "outputs": [],
   "source": [
    "#Let's replace zero values with very small values. Similarly, we could replace the values with e.g. half detection limit\n",
    "oxides_replaced = oxides.replace(0, 1e-10)\n",
    "oxides_replaced.describe()"
   ]
  },
  {
   "cell_type": "code",
   "execution_count": null,
   "id": "5e0d3b63-bb2b-46fb-aeca-a3eb10a76f4f",
   "metadata": {},
   "outputs": [],
   "source": [
    "#If we're replacing the zero values, we'll need to ensure that the compositional data still sum to 100. This means we need to renormalise the data.\n",
    "oxides_renormalised = pyrolite.comp.codata.renormalise(oxides_replaced, scale=100)\n",
    "\n",
    "#We'll create a 'sum' column, just to demonstrate that the data sum to 100\n",
    "oxides_renormalised['sum'] = oxides_renormalised.sum(axis=1, skipna=False)\n",
    "\n",
    "#Visualise the data\n",
    "oxides_renormalised.head()\n"
   ]
  },
  {
   "cell_type": "code",
   "execution_count": null,
   "id": "53deba2f-a0b7-44b9-bfa7-2713c63ddb0f",
   "metadata": {},
   "outputs": [],
   "source": [
    "#remove the now-unwanted sum column\n",
    "oxides_renormalised.drop(columns = 'sum', inplace=True)\n",
    "oxides_renormalised.head()"
   ]
  },
  {
   "cell_type": "markdown",
   "id": "a1cc506a-6654-44b5-84ac-57c8b21ff023",
   "metadata": {},
   "source": [
    "## Example 3.2: Creating a scatterplot of whole-rock oxides"
   ]
  },
  {
   "cell_type": "markdown",
   "id": "39e84518-eb0f-47c8-bb98-d75ebf172368",
   "metadata": {},
   "source": [
    "Let's create a scatterplot of CaO versus MgO"
   ]
  },
  {
   "cell_type": "code",
   "execution_count": null,
   "id": "79fd7392-942a-496b-93be-e2c7b87d0996",
   "metadata": {},
   "outputs": [],
   "source": [
    "fig, axis = plt.subplots(1,1, figsize = (10,4))\n",
    "\n",
    "#Plot oxides\n",
    "oxide_scatter_plot = axis.scatter(\n",
    "    oxides_renormalised[\"MgO\"], # x-variable\n",
    "    oxides_renormalised[\"CaO\"], # y-variable\n",
    "    marker=\"o\",\n",
    "    c=oxides_renormalised[\"SiO2\"],\n",
    "    s=60,\n",
    "    cmap='rainbow',\n",
    "    edgecolors='black',\n",
    "    alpha = 0.6\n",
    ")\n",
    "\n",
    "colour_bar = plt.colorbar(oxide_scatter_plot, ax=axis)\n",
    "colour_bar.set_label('SiO2')\n",
    "\n",
    "axis.set_xlabel(\"$MgO$ (wt%)\")\n",
    "axis.set_ylabel(\"$Al_{2}O_{3}$ (wt%)\")"
   ]
  },
  {
   "cell_type": "markdown",
   "id": "4b1974f1-aae2-46cf-95cc-f3c93f9b56f7",
   "metadata": {},
   "source": [
    " <font color=\"green\"><b>TRY IT YOURSELF:</b> Create a scatterplot of TiO2 (y) versus Fe2O3 (x). Colour by MgO using cmap='gnuplot2'</font>  "
   ]
  },
  {
   "cell_type": "code",
   "execution_count": null,
   "id": "db80279d-43e3-4b79-bc8c-6c8b1c096aa6",
   "metadata": {},
   "outputs": [],
   "source": [
    "# Write your code here\n"
   ]
  },
  {
   "cell_type": "code",
   "execution_count": null,
   "id": "b90908dd-f6f8-4bab-99e1-be6c4785609e",
   "metadata": {
    "jupyter": {
     "source_hidden": true
    }
   },
   "outputs": [],
   "source": [
    "# Expand to see how it's done\n",
    "\n",
    "fig, axis = plt.subplots(1,1, figsize = (10,4))\n",
    "\n",
    "oxide_scatter_plot = axis.scatter(\n",
    "    oxides_renormalised[\"Fe2O3\"], # x-variable\n",
    "    oxides_renormalised[\"TiO2\"], # y-variable\n",
    "    marker=\"o\",\n",
    "    c=oxides_renormalised[\"MgO\"],\n",
    "    s=60,\n",
    "    cmap='gnuplot2',\n",
    "    edgecolors='black',\n",
    "    alpha = 0.6\n",
    ")\n",
    "\n",
    "colour_bar = plt.colorbar(oxide_scatter_plot, ax=axis)\n",
    "colour_bar.set_label('MgO')\n",
    "\n",
    "axis.set_xlabel(\"$Fe_{2}O_{3}$ (wt%)\")\n",
    "axis.set_ylabel(\"$TiO_{2}$ (wt%)\");"
   ]
  },
  {
   "cell_type": "markdown",
   "id": "26960a3a-f039-48d3-8546-f4670b7c800f",
   "metadata": {},
   "source": [
    "## Example 3.3: Classifying data using a TAS diagram\n"
   ]
  },
  {
   "cell_type": "markdown",
   "id": "49739c06-b965-410b-a7dd-dbbe16d002c7",
   "metadata": {},
   "source": [
    "Let's pause here for a moment and discuss what we're about to do:\n",
    "- We'll going to to use the renormalised oxide data to plot our data points on a TAS diagram.\n",
    "- Using the TAS diagram, we'll be able to **classify** our datapoints into volcanic rock types\n",
    "- We will filter out the volcanic rock types, based on this classification. The filtered data will be plotted on a spidergram\n",
    "- Spidergrams plot the REE content. This means we will need both the **oxide and the REE data**! However, in the previous exercise, we extracted the oxide data only...\n",
    "- Let's fix this by creating a dataset that includes both the oxide and REE data, with zeros replaced, and the oxides renormalised.\n",
    "\n",
    "This is how we'll do it:"
   ]
  },
  {
   "cell_type": "code",
   "execution_count": null,
   "id": "bbca728a-b866-4d9a-9553-88e68b0c5811",
   "metadata": {},
   "outputs": [],
   "source": [
    "#Firstly, let's take our original dataframe, and replace all the zeros with small values, just like we did before. \n",
    "#The difference is that we will do this to the full dataset, not only the oxide subset\n",
    "\n",
    "df_no_zeros = df.replace(0, 1e-10)\n",
    "df_no_zeros.describe() #No columns have a min of zero anymore!"
   ]
  },
  {
   "cell_type": "code",
   "execution_count": null,
   "id": "faca9668-2066-4aad-8730-9ec16c19e15e",
   "metadata": {},
   "outputs": [],
   "source": [
    "#Next, we want to make sure our oxides are normalised to 100, so that we can plot the data on a TAS diagram.\n",
    "#Pyrolite actually allows us to normalise a subset of our columns, if we provide the column names\n",
    "\n",
    "df_normalised_oxides = pyrolite.comp.codata.renormalise(\n",
    "    df = df_no_zeros, \n",
    "    components = df.pyrochem.list_oxides, # this is another pyrolite function, to extract oxide columns from the dataframe\n",
    "    scale=100\n",
    ")\n",
    "\n",
    "# So do we know that worked? Let's take a look:\n",
    "oxides = df_normalised_oxides.pyrochem.oxides #let's isolate the oxide columns in our df_normalised_oxides\n",
    "oxides['sum'] = oxides.sum(axis=1) #manually create a sum column, where we total the oxide values\n",
    "oxides.head() # Visualise the result. Oxides sum to 100!\n"
   ]
  },
  {
   "cell_type": "code",
   "execution_count": null,
   "id": "f0127a39-9a1d-4611-b042-d5eda4fc6181",
   "metadata": {},
   "outputs": [],
   "source": [
    "#TAS diagrams plot alkalis versus silica. Let's create a new column to contain total Na2O + K2O\n",
    "df_normalised_oxides[\"Na2O + K2O\"] = df_normalised_oxides[\"Na2O\"] + df_normalised_oxides[\"K2O\"]\n",
    "\n",
    "#Other ways to execute the same calculation:\n",
    "df_normalised_oxides[\"Na2O + K2O\"] = df_normalised_oxides.eval(\"Na2O + K2O\")\n",
    "df_normalised_oxides[\"Na2O + K2O\"] = df_normalised_oxides.apply(lambda x: x[\"K2O\"]+x[\"Na2O\"], axis=1)\n",
    "\n",
    "df_normalised_oxides.head()"
   ]
  },
  {
   "cell_type": "markdown",
   "id": "95220cd3-5c5c-4c28-bc6c-284fc5fed069",
   "metadata": {},
   "source": [
    "Pyrolite provides templates for a number of classical geochemistry diagrams. Let's use pyrolite to make a TAS plot."
   ]
  },
  {
   "cell_type": "code",
   "execution_count": null,
   "id": "bc8f197e-bea7-4a22-a6c1-3543fc8fe30b",
   "metadata": {},
   "outputs": [],
   "source": [
    "from pyrolite.plot.templates import TAS # Middlemost(1994)\n",
    "from matplotlib.patches import Patch\n",
    "\n",
    "#Let's colour the data according to the sample material description n the dataframe\n",
    "rocknames = df_normalised_oxides['sample_material'].unique()\n",
    "named_colours = [\"blue\", \"orange\", \"green\", \"red\", \"purple\"] #these are matplotlib named colours. There are 5 of them, as there are 5 unique rock names in sample_material\n",
    "color_to_rock=zip(rocknames, named_colours) #zip returns an iterator of tuples. \n",
    "color_to_rock_dictionary = dict(color_to_rock) #this converts the zip to a dictionary, with rock name as key and colour as the value\n",
    "\n",
    "#Now we can use the TAS template provided by pyrolite\n",
    "ax = TAS(\n",
    "    linewidth = 0.5, \n",
    "    add_labels = True, \n",
    "    which_labels = 'volcanic'\n",
    ")\n",
    "\n",
    "ax.scatter(\n",
    "    df_normalised_oxides[\"SiO2\"],\n",
    "    df_normalised_oxides[\"Na2O + K2O\"],\n",
    "    c= df_normalised_oxides[\"sample_material\"].map(color_to_rock_dictionary) #we will use the color_to_rock dictionary to MAP the colours to the datapoints in the dataframe, using the rock name as a key\n",
    ")\n",
    "\n",
    "legend_elements = [\n",
    "    Patch(facecolor=color, label=rock)\n",
    "    for rock, color in color_to_rock_dictionary.items()\n",
    "]\n",
    "\n",
    "ax.legend(handles=legend_elements, title='Sample material')\n",
    "\n",
    "plt.show()   \n"
   ]
  },
  {
   "cell_type": "markdown",
   "id": "f927a44d-5957-4705-a91e-37452e6a87a2",
   "metadata": {},
   "source": [
    "We can see that the rock descriptions don't always agree with the TAS classification. Pyrolite also provides the utility to do TAS classification, which will allow us to classify the data points according to which TAS field they fall into. This means we will be able to assign the TAS classification to the data points, in the form of at dataframe column."
   ]
  },
  {
   "cell_type": "code",
   "execution_count": null,
   "id": "2ec34fa8-bdb3-4d0d-9316-4c33c28b2581",
   "metadata": {},
   "outputs": [],
   "source": [
    "from pyrolite.util.classification import TAS as TAS_clf\n",
    "\n",
    "TAS_classifier = TAS_clf() #instantiate an instance of the TAS classifier\n",
    "df_normalised_oxides[\"TAS\"] = TAS_classifier.predict(df_normalised_oxides) # assign the classification to a new column called 'TAS'\n",
    "df_normalised_oxides[\"Rocknames\"] = df_normalised_oxides.TAS.apply(lambda x: TAS_classifier.fields.get(x, {\"name\": None})[\"name\"][0])\n",
    "df_normalised_oxides.head()"
   ]
  },
  {
   "cell_type": "code",
   "execution_count": null,
   "id": "0a1b911e-0e9f-4370-a939-1d3ea6e50bbc",
   "metadata": {},
   "outputs": [],
   "source": [
    "#Let's plot the classified data and colour by the new column containing the TAS classification\n",
    "ax = TAS(linewidth = 0.5, add_labels = True)\n",
    "sns.scatterplot(\n",
    "    x=df_normalised_oxides[\"SiO2\"], \n",
    "    y=df_normalised_oxides[\"Na2O + K2O\"], \n",
    "    ax=ax, \n",
    "    hue = df_normalised_oxides['Rocknames'], \n",
    "    s = 70, \n",
    "    alpha = 0.5, \n",
    "    marker = 'o'\n",
    ")\n",
    "plt.show()  "
   ]
  },
  {
   "cell_type": "markdown",
   "id": "1125c602-2bfd-44a0-a7bc-d21f7e16452a",
   "metadata": {},
   "source": [
    "Some of the rock samples do not fall in a TAS field and are thus classified as N/A. Let's remove them and replot the TAS diagram."
   ]
  },
  {
   "cell_type": "code",
   "execution_count": null,
   "id": "007346ce-4477-47b2-82de-373c1fb7adb9",
   "metadata": {},
   "outputs": [],
   "source": [
    "df_classified = df_normalised_oxides[df_normalised_oxides['Rocknames'] !='N/A']\n",
    "\n",
    "ax = TAS(linewidth = 0.5, add_labels = True)\n",
    "sns.scatterplot(\n",
    "    x=df_classified[\"SiO2\"], \n",
    "    y=df_classified[\"Na2O + K2O\"], \n",
    "    ax=ax, \n",
    "    hue = df_classified['Rocknames'], \n",
    "    s = 70, \n",
    "    alpha = 0.5, \n",
    "    marker = 'o'\n",
    ")\n",
    "plt.show()  \n"
   ]
  },
  {
   "cell_type": "markdown",
   "id": "d4203b4d",
   "metadata": {},
   "source": [
    "We can define our own legend and color scheme on the TAS diagram. Matplotlib has a long list of [named colors](https://matplotlib.org/stable/gallery/color/named_colors.html), but you can also set colors as RGB values or HEX values. There is also a wide variety of marker types, as well as it being possible to create custom markers."
   ]
  },
  {
   "cell_type": "code",
   "execution_count": null,
   "id": "800448a4-dc1d-4ce5-b34d-24685e620c0e",
   "metadata": {},
   "outputs": [],
   "source": [
    "#Let's create our own colour-to-rocktype mapping (like a legend)\n",
    "named_colours = [\n",
    "    \"blue\", \"orange\", \"green\", \"red\", \"purple\",\n",
    "    \"brown\", \"pink\", \"gray\", \"olive\", \"cyan\",\n",
    "    \"gold\", \"teal\", \"navy\", \"goldenred\", 'darkseagreen'\n",
    "]\n",
    "\n",
    "unique_rocktypes = df_classified[\"Rocknames\"].unique()\n",
    "colour_map = dict(zip(unique_rocktypes, named_colours))"
   ]
  },
  {
   "cell_type": "code",
   "execution_count": null,
   "id": "a2aaa4b3-71ba-4711-b6f7-896f3896be1e",
   "metadata": {},
   "outputs": [],
   "source": [
    "# Now that we have the mapping, we can create a legend\n",
    "# Usually legends are fairly simple. In this case, because we're using a pyrolie function that calls matplotlib, it's a bit harder.\n",
    "# We will therefore manually create the legend. In most cases, this isn't required. But it's useful to know it can be done!\n",
    "\n",
    "from matplotlib.patches import Patch #patches are 2D shapes. This will allow us to draw rectangles filled with colour, to make a legend\n",
    "\n",
    "ax = TAS(linewidth = 0.5, add_labels = True) # get the TAS plot template\n",
    "\n",
    "ax.scatter( #plot the data on the templae\n",
    "    x=df_classified[\"SiO2\"], \n",
    "    y=df_classified[\"Na2O + K2O\"], \n",
    "    c = df_classified[\"Rocknames\"].map(colour_map), \n",
    "    s = 50, \n",
    "    alpha = 0.5, \n",
    "    marker = 'o'\n",
    ")\n",
    "\n",
    "legend_elements = [\n",
    "    Patch(facecolor=colour, label=rocktype)\n",
    "    for rocktype, colour in colour_map.items()\n",
    "]\n",
    "\n",
    "ax.legend(handles=legend_elements, title=\"TAS Rocktype\")\n",
    "plt.show()  "
   ]
  },
  {
   "cell_type": "markdown",
   "id": "6a85a3c6",
   "metadata": {},
   "source": [
    "## Example 3.4: Ternary plots with pyrolite"
   ]
  },
  {
   "cell_type": "markdown",
   "id": "786107a2-7cff-4b3d-bb75-8706f27f965e",
   "metadata": {},
   "source": [
    "Pyrolite has functionality to product ternary scatter plots. Simply provide the three fields to plot, and it will understand that you're creating a ternary diagram."
   ]
  },
  {
   "cell_type": "code",
   "execution_count": null,
   "id": "15bc77a3",
   "metadata": {},
   "outputs": [],
   "source": [
    "from matplotlib.lines import Line2D\n",
    "\n",
    "df_classified.loc[:,\"FeOt\"] = df_classified.loc[:,\"Fe2O3\"] * 0.8998\n",
    "\n",
    "fig,ax = plt.subplots()\n",
    "\n",
    "ax = df_classified[[\"FeOt\",\"Na2O + K2O\", \"MgO\"]].pyroplot.scatter(\n",
    "    marker=\"o\",\n",
    "    s=50,\n",
    "    alpha=0.5,\n",
    "    ax=ax,\n",
    "    c = df_classified[\"Rocknames\"].map(colour_map),\n",
    "  )\n",
    "ax.grid()\n",
    "#ax.grid(axis=\"t\", linestyle=\"--\") #\n",
    "#ax.set_ternary_lim(0.0, 0.5, 0, 1, 0.0, 1)  # top axis min  # top axis max  # left axis min  #left axis max  # right axis min  # right axis max\n",
    "plt.tight_layout()\n",
    "plt.show()"
   ]
  },
  {
   "cell_type": "markdown",
   "id": "c43b37c0-0ded-41d4-9447-c0fba43bcf0e",
   "metadata": {},
   "source": [
    "In Python, there is often more than one way to achieve an objective! Pyrolite is not the only way to plot a ternary diagram. Let's plot the ternary diagram using some alternative packages:  \n",
    "- 'mpltern': In fact, pyrolite uses mpltern, which is built on matplotlib.\n",
    "- 'plotly': Plotly creates interacive plots, and can also make ternary diagrams  \n",
    "\n"
   ]
  },
  {
   "cell_type": "code",
   "execution_count": null,
   "id": "d44deb94-8486-4bca-981d-c306936ec0f1",
   "metadata": {
    "scrolled": true
   },
   "outputs": [],
   "source": [
    "#Ternary plot with mpltern (this is what pyrolite uses, under the hood)\n",
    "\n",
    "import matplotlib.pyplot as plt\n",
    "import mpltern\n",
    "ax = plt.subplot(projection=\"ternary\", ternary_sum=100.0)\n",
    "\n",
    "ax.scatter(\n",
    "    df_classified[\"FeOt\"],\n",
    "    df_classified[\"Na2O + K2O\"], \n",
    "    df_classified[\"MgO\"],\n",
    "    marker=\"o\",\n",
    "    s=50,\n",
    "    alpha=0.5,\n",
    "    c = df_classified[\"Rocknames\"].map(colour_map),\n",
    "  )\n",
    "ax.set_tlabel(\"FeOt\")\n",
    "ax.set_llabel(\"Na2O + K2O\")\n",
    "ax.set_rlabel(\"MgO\")\n",
    "\n",
    "ax.grid()\n",
    "\n",
    "plt.show()\n"
   ]
  },
  {
   "cell_type": "code",
   "execution_count": null,
   "id": "6d586f49-1544-4609-8106-a7fe35a96e67",
   "metadata": {},
   "outputs": [],
   "source": [
    "# Interactive ternary plot using plotly\n",
    "import plotly.express as px\n",
    "\n",
    "fig = px.scatter_ternary(\n",
    "    df_classified, \n",
    "    a=\"FeOt\", \n",
    "    b=\"Na2O + K2O\", \n",
    "    c=\"MgO\",\n",
    "    color='Rocknames',\n",
    "    color_discrete_map = colour_map #I've added colour_map to set the colouring to match the previous examples. Without this, random colours would be assigned.\n",
    ")\n",
    "\n",
    "fig.update_traces(marker=dict(size=12, opacity=0.5)) # Here I'm setting the marker size to match that of the previous examples.\n",
    "\n",
    "fig.show()"
   ]
  },
  {
   "cell_type": "markdown",
   "id": "5d323e04-6fa9-444c-976e-56ca7dfc7bb8",
   "metadata": {},
   "source": [
    " <font color=\"green\"><b>TRY IT YOURSELF:</b> Plot a ternary diagram of any 3 oxides, using pyrolite, mpltern, or plotly. </font>  "
   ]
  },
  {
   "cell_type": "code",
   "execution_count": null,
   "id": "32e629ce-e93d-4a56-a73b-fc61ceb939df",
   "metadata": {},
   "outputs": [],
   "source": [
    "# Write your code here"
   ]
  },
  {
   "cell_type": "markdown",
   "id": "8a7a3127",
   "metadata": {},
   "source": [
    "## Example 3.5: Spidergrams with pyrolite"
   ]
  },
  {
   "cell_type": "markdown",
   "id": "45aa4bde-6a66-4f04-a317-0a5587840817",
   "metadata": {},
   "source": [
    "Let's plot a spidergram of the basalts, only. We'll use the 'subakalic basalt' classification assigned from the TAS diagram.  \n",
    "Well normalise the REE using pyrolite's built in datasets. In this case, we'll use the Chondrite_SM89 model of chondrite from Sun & McDonough (1989)."
   ]
  },
  {
   "cell_type": "code",
   "execution_count": null,
   "id": "281448f9-3e1b-467f-ab5f-7c324e3e44a9",
   "metadata": {},
   "outputs": [],
   "source": [
    "#Filter out the subalkalic basalts\n",
    "basalt = df_classified[df_classified['Rocknames'].isin(['Subalkalic \\nBasalt'])]\n",
    "\n",
    "#Subset to get REE's only (optional)\n",
    "basalt_REE = basalt.pyrochem.REE\n",
    "basalt_REE_normalised = basalt_REE.pyrochem.normalize_to(\"Chondrite_SM89\")\n",
    "basalt_REE_normalised.head()"
   ]
  },
  {
   "cell_type": "markdown",
   "id": "55823869-d4f1-45be-ac39-53360c22c0a9",
   "metadata": {},
   "source": [
    "We can immediately see that there is at least one row where all values are NAN. Let's remove rows where all values are NAN"
   ]
  },
  {
   "cell_type": "code",
   "execution_count": null,
   "id": "dc570bf2-cdc0-458b-b17f-9f4c9759d59c",
   "metadata": {},
   "outputs": [],
   "source": [
    "basalt_REE_normalised.dropna(axis = 0, how='all', inplace = True)\n",
    "basalt_REE_normalised.head()"
   ]
  },
  {
   "cell_type": "markdown",
   "id": "d993e2cf-567b-4f7b-b77b-80605991dbb6",
   "metadata": {},
   "source": [
    "We can also have a quick look at how many null values are in our columns"
   ]
  },
  {
   "cell_type": "code",
   "execution_count": null,
   "id": "82786405-0c46-404e-845c-4d6b08aa712f",
   "metadata": {},
   "outputs": [],
   "source": [
    "basalt_REE_normalised.info()"
   ]
  },
  {
   "cell_type": "markdown",
   "id": "520b886c-3a21-4739-8231-07be657867ed",
   "metadata": {},
   "source": [
    "Time to plot the spidergram"
   ]
  },
  {
   "cell_type": "code",
   "execution_count": null,
   "id": "a7a2afa1-853b-49ee-ba07-6ac60e366d2a",
   "metadata": {},
   "outputs": [],
   "source": [
    "fig, ax = plt.subplots()\n",
    "\n",
    "basalt_REE_normalised.pyroplot.spider(ax=ax)"
   ]
  },
  {
   "cell_type": "markdown",
   "id": "1ca45768-abd6-4c5a-bff1-ceee67d03fcc",
   "metadata": {},
   "source": [
    "Let's plot the data again, but this time, we'll colour for MgO.  \n",
    "This means we need to join the normalised REE dataframe to the oxide data we previously had.  \n",
    "We can use pandas.merge to merge the dataframe, using dataframe index as key."
   ]
  },
  {
   "cell_type": "code",
   "execution_count": null,
   "id": "9189fb50-938f-491f-aeb8-219066448d5a",
   "metadata": {},
   "outputs": [],
   "source": [
    "Basalt_REE_and_oxide = basalt_REE_normalised.merge(df_classified.pyrochem.oxides, right_index=True, left_index=True, how='inner')\n",
    "Basalt_REE_and_oxide.head()"
   ]
  },
  {
   "cell_type": "code",
   "execution_count": null,
   "id": "79cae97d",
   "metadata": {},
   "outputs": [],
   "source": [
    "from matplotlib import colors, cm\n",
    "\n",
    "ax = Basalt_REE_and_oxide.pyroplot.spider(\n",
    "    cmap='plasma_r',\n",
    "    alpha=0.5,\n",
    "    color=Basalt_REE_and_oxide[\"MgO\"]\n",
    ")\n",
    "\n",
    "cmap = cm.plasma\n",
    "norm = colors.Normalize(\n",
    "vmin=Basalt_REE_and_oxide[\"MgO\"].min(),\n",
    "vmax=Basalt_REE_and_oxide[\"MgO\"].max())\n",
    "\n",
    "fig.colorbar(cm.ScalarMappable(norm=norm, cmap=cmap), ax=ax, label=\"MgO (wt%)\")"
   ]
  },
  {
   "cell_type": "markdown",
   "id": "0e06bcfd-58ea-485d-939a-314f3d493dc1",
   "metadata": {},
   "source": [
    " <font color=\"green\"><b>TRY IT YOURSELF:</b> Plot a spidergram of the Basaltic Andesite samples and colour by K2O </font>  "
   ]
  },
  {
   "cell_type": "code",
   "execution_count": null,
   "id": "053f500d-dbcd-445d-a8c5-e27bd5e0d231",
   "metadata": {},
   "outputs": [],
   "source": [
    "# Write your code here"
   ]
  },
  {
   "cell_type": "code",
   "execution_count": null,
   "id": "4b1c52f2-5d47-47e2-b407-66e71ef7133f",
   "metadata": {
    "jupyter": {
     "source_hidden": true
    }
   },
   "outputs": [],
   "source": [
    "# Expand to see how it's done\n",
    "\n",
    "# 1) filter the dataframe for the andesite samples. \n",
    "andesite = df_classified[df_classified['Rocknames'].isin(['Basaltic Andesite'])]\n",
    "\n",
    "# 2) Select the REE data\n",
    "andesite_REE = andesite.pyrochem.REE\n",
    "\n",
    "# 3) Normalise the REE data\n",
    "andesite_REE_normalised = andesite_REE.pyrochem.normalize_to(\"Chondrite_SM89\")\n",
    "\n",
    "# 4) Merge the K2O data onto the normalised REE data, using index as key\n",
    "andesite_REE_and_oxide = andesite_REE_normalised.merge(df_classified[['K2O']], right_index=True, left_index=True, how='inner')\n",
    "\n",
    "# 5) Plot the spidergram\n",
    "from matplotlib import colors, cm\n",
    "\n",
    "ax = andesite_REE_and_oxide.pyroplot.spider(\n",
    "    cmap='plasma_r',\n",
    "    alpha=0.5,\n",
    "    color=andesite_REE_and_oxide[\"K2O\"]\n",
    ")\n",
    "\n",
    "cmap = cm.plasma\n",
    "norm = colors.Normalize(\n",
    "vmin=Basalt_REE_and_oxide[\"K2O\"].min(),\n",
    "vmax=Basalt_REE_and_oxide[\"K2O\"].max())\n",
    "\n",
    "fig.colorbar(cm.ScalarMappable(norm=norm, cmap=cmap), ax=ax, label=\"K2O (wt%)\")\n",
    "\n"
   ]
  },
  {
   "cell_type": "code",
   "execution_count": null,
   "id": "5acdf33c-177e-4d1f-b746-dcbcbf04aecd",
   "metadata": {},
   "outputs": [],
   "source": []
  }
 ],
 "metadata": {
  "kernelspec": {
   "display_name": "Python 3 (ipykernel)",
   "language": "python",
   "name": "python3"
  },
  "language_info": {
   "codemirror_mode": {
    "name": "ipython",
    "version": 3
   },
   "file_extension": ".py",
   "mimetype": "text/x-python",
   "name": "python",
   "nbconvert_exporter": "python",
   "pygments_lexer": "ipython3",
   "version": "3.13.5"
  }
 },
 "nbformat": 4,
 "nbformat_minor": 5
}
