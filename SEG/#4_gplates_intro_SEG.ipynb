{
 "cells": [
  {
   "cell_type": "markdown",
   "id": "c232cf2b",
   "metadata": {},
   "source": [
    "# Overview: Plate tectonic reconstructions and porphyry copper deposit formation in the Andes\n",
    "\n",
    "This notebook demonstrates a workflow for reconstructing the subduction dynamics along the Andean margin and investigating their relationship with the timing and location of porphyry copper deposit formation. Using the **gplately** Python package and related geospatial libraries, the notebook guides the user through:\n",
    "\n",
    "- Importing and filtering a geospatial dataset of Andean porphyry copper deposits.\n",
    "- Visualizing deposit locations and ages within a defined South American extent.\n",
    "- Initializing a plate reconstruction model (Muller2019) and anchoring reconstructions to the South American plate.\n",
    "- Reconstructing deposit locations through geological time.\n",
    "- Extracting and visualizing subduction zone properties (e.g., convergence rates, seafloor age, carbonate sediment thickness) along the trench as functions of latitude and time.\n",
    "- Interpolating subduction parameters to the birth age and location of each deposit.\n",
    "- Analyzing relationships and correlations between subduction zone properties and deposit formation, including clustering analysis.\n",
    "\n",
    "\n",
    "The notebook provides a reproducible approach to examine how variations in subduction flux, seafloor age, and sediment flux may have influenced the formation of porphyry copper deposits in the Andes. This example is fairly straightforward compared to the analysis outlined in Mather et al. (2025) and related references.\n",
    "\n",
    "\n"
   ]
  },
  {
   "cell_type": "markdown",
   "id": "5cfd533a",
   "metadata": {},
   "source": [
    "-----\n",
    "## 1. Setup and Package Import\n",
    "\n",
    "**Purpose**  \n",
    "Load all Python modules needed for geospatial data handling, plotting, and plate reconstructions.\n",
    "\n",
    "**Key imports**  \n",
    "- `gplately`: tools for plate reconstructions and tectonic visualization.  \n",
    "- `PlateModelManager`: interface to retrieve rotation models and topologies.  \n",
    "- `numpy`, `pandas`: numeric and table data handling.  \n",
    "- `matplotlib`, `geopandas`: plotting and geospatial data structures."
   ]
  },
  {
   "cell_type": "code",
   "execution_count": null,
   "id": "86742113-8275-48de-87cd-40f796910745",
   "metadata": {},
   "outputs": [],
   "source": [
    "# This cell is only required if we're running in Google Colab\n",
    "! pip install pandas geopandas numpy matplotlib seaborn scikit-learn cartopy scipy gplately\n"
   ]
  },
  {
   "cell_type": "code",
   "execution_count": null,
   "id": "3b5f7611",
   "metadata": {},
   "outputs": [],
   "source": [
    "import gplately\n",
    "from plate_model_manager import PlateModelManager\n",
    "import numpy as np\n",
    "import pandas as pd\n",
    "import matplotlib.pyplot as plt\n",
    "import geopandas as gpd\n",
    "import seaborn as sns\n",
    "from sklearn.cluster import KMeans\n",
    "\n",
    "import cartopy.crs as ccrs\n",
    "import cartopy.feature as cfeature\n",
    "\n",
    "from scipy.ndimage import uniform_filter1d\n",
    "from scipy.interpolate import griddata\n",
    "from scipy.stats import pearsonr\n"
   ]
  },
  {
   "cell_type": "markdown",
   "id": "cf8a13f9",
   "metadata": {},
   "source": [
    "---\n",
    "## 2. Import and Prepare Deposit Data\n",
    "\n",
    "**Purpose**  \n",
    "Read the porphyry copper deposit dataset and filter for entries that include age information.\n",
    "\n",
    "**What happens here**  \n",
    "1. Load a geodatabase file containing deposit locations and ages.  \n",
    "2. Remove any records where age (`Min_Age_Ma`) is missing, since subsequent analysis requires a valid age."
   ]
  },
  {
   "cell_type": "code",
   "execution_count": null,
   "id": "4fb5a34b",
   "metadata": {},
   "outputs": [],
   "source": [
    "# Load deposit data from a geodatabase file.\n",
    "Andes_porphyry_deposits = gpd.read_file(\"https://github.com/TarynScharf/PythonWorkshop/raw/95907ef48eb87d25be1fb8acc349ab0c07b86fe7/SEG/Data_for_exercises/Andes%20Porphyry%20Copper.gdb\")\n",
    "\n",
    "# Keep only rows where 'Min_Age_Ma' is not null\n",
    "Andes_porphyry_deposits.dropna(inplace=True, subset=['Min_Age_Ma'])"
   ]
  },
  {
   "cell_type": "markdown",
   "id": "a9dedc33",
   "metadata": {},
   "source": [
    "---\n",
    "\n",
    "\n",
    "## 3. Define Geographic Extent\n",
    "\n",
    "**Purpose**  \n",
    "Specify the bounding box for South America so that maps and reconstructions focus on the region of interest.\n",
    "\n",
    "**Details**  \n",
    "- The extent is `[west_lon, east_lon, south_lat, north_lat]`.  \n",
    "- Coordinates are in degrees."
   ]
  },
  {
   "cell_type": "code",
   "execution_count": null,
   "id": "a1089467",
   "metadata": {},
   "outputs": [],
   "source": [
    "SA_extent = [-90, -50, -60, 20]"
   ]
  },
  {
   "cell_type": "markdown",
   "id": "1f491c56",
   "metadata": {},
   "source": [
    "---\n",
    "\n",
    "## 4. Visualize Deposits on a Map\n",
    "\n",
    "**Purpose**  \n",
    "Create a map of porphyry deposit locations, colored by their formation age.\n",
    "\n",
    "**Steps**  \n",
    "1. Initialize a Cartopy map with PlateCarree projection.  \n",
    "2. Add land, ocean, coastline, borders, lakes, and rivers for context.  \n",
    "3. Plot each deposit as a colored marker where the color scale represents age in million years."
   ]
  },
  {
   "cell_type": "code",
   "execution_count": null,
   "id": "173af088",
   "metadata": {},
   "outputs": [],
   "source": [
    "fig, ax = plt.subplots(subplot_kw={'projection': ccrs.PlateCarree()})\n",
    "ax.set_extent(SA_extent, crs=ccrs.PlateCarree())\n",
    "\n",
    "# Add map features for context.\n",
    "ax.gridlines(draw_labels=True, dms=True, x_inline=False, y_inline=False)\n",
    "ax.add_feature(cfeature.LAND)\n",
    "ax.add_feature(cfeature.OCEAN)\n",
    "ax.add_feature(cfeature.COASTLINE)\n",
    "ax.add_feature(cfeature.BORDERS, linestyle=':')\n",
    "ax.add_feature(cfeature.LAKES, alpha=0.5)\n",
    "ax.add_feature(cfeature.RIVERS)\n",
    "\n",
    "# Plot the deposits, colored by age.\n",
    "Andes_porphyry_deposits.plot(\n",
    "    column='Min_Age_Ma', ax=ax, cmap='viridis', markersize=20, edgecolor='k',\n",
    "    legend=True, legend_kwds={'label': \"Deposit Age (Ma)\"}, vmin=0, vmax=100,\n",
    "    transform=ccrs.PlateCarree()\n",
    ")"
   ]
  },
  {
   "cell_type": "markdown",
   "id": "8f02877d",
   "metadata": {},
   "source": [
    "*Result*: You should see a scatter of deposit points over South America, coloured by age of deposit"
   ]
  },
  {
   "cell_type": "markdown",
   "id": "f8270d34",
   "metadata": {},
   "source": [
    "---\n",
    "\n",
    "## 5. Plate Reconstruction Setup\n",
    "\n",
    "**Purpose**  \n",
    "Initialize the plate reconstruction model and anchor South America so\n",
    "all reconstructions are relative to its fixed position.\n",
    "\n",
    "**Details**  \n",
    "- We fetch the `Muller2019` plate rotation model.  \n",
    "- We fix plate ID 202 (South America) in place.  \n",
    "- We prepare topology layers for coastlines, continental outlines, and\n",
    "conjugate oceanic basins."
   ]
  },
  {
   "cell_type": "code",
   "execution_count": null,
   "id": "90096258",
   "metadata": {},
   "outputs": [],
   "source": [
    "pm_manager = PlateModelManager()\n",
    "plate_model = pm_manager.get_model(\"Muller2019\", data_dir=\"plate-model-repo\")\n",
    "\n",
    "# Fix the South American plate in place for reconstructions.\n",
    "anchor_plate_id = 202\n",
    "\n",
    "model = gplately.PlateReconstruction(\n",
    "    plate_model.get_rotation_model(),\n",
    "    plate_model.get_topologies(),\n",
    "    plate_model.get_static_polygons(),\n",
    "    anchor_plate_id=anchor_plate_id\n",
    ")\n",
    "\n",
    "# Set up plotting for reconstructed tectonic features.\n",
    "gplot = gplately.plot.PlotTopologies(\n",
    "    model,\n",
    "    plate_model.get_layer('Coastlines'),\n",
    "    plate_model.get_layer('ContinentalPolygons'),\n",
    "    plate_model.get_layer('COBs')\n",
    ")"
   ]
  },
  {
   "cell_type": "markdown",
   "id": "711f2b32",
   "metadata": {},
   "source": [
    "---\n",
    "\n",
    "## 6. Add Deposits as Reconstructable Points\n",
    "\n",
    "**Purpose**  \n",
    "Convert deposit coordinates into a `gplately.Points` object so we can reconstruct their positions through geological time.\n",
    "\n",
    "**Key inputs**  \n",
    "- Longitude and latitude arrays from the deposit GeoDataFrame.  \n",
    "- Birth ages of each deposit (`Min_Age_Ma`).  \n",
    "- The same anchor plate ID to keep South America fixed."
   ]
  },
  {
   "cell_type": "code",
   "execution_count": null,
   "id": "7f0dad0f",
   "metadata": {},
   "outputs": [],
   "source": [
    "gpts = gplately.Points(\n",
    "    model,\n",
    "    Andes_porphyry_deposits.Longtitude.values,\n",
    "    Andes_porphyry_deposits.Latitude.values,\n",
    "    age=Andes_porphyry_deposits.Min_Age_Ma.values,\n",
    "    anchor_plate_id=anchor_plate_id\n",
    ")"
   ]
  },
  {
   "cell_type": "markdown",
   "id": "bbbfd78e",
   "metadata": {},
   "source": [
    "---\n",
    "\n",
    "## 7. Visualization of Plate Configurations\n",
    "\n",
    "**Purpose**  \n",
    "Plot reconstructed coastlines, trenches, and deposit points at a chosen time slice (100 Ma in this example).\n",
    "\n",
    "**Steps**  \n",
    "1. Set `gplot.time` to the desired reconstruction age.  \n",
    "2. Draw coastlines, subduction trenches, and subduction teeth.  \n",
    "3. Reconstruct deposit point positions and plot with age coloring."
   ]
  },
  {
   "cell_type": "code",
   "execution_count": null,
   "id": "2c5a50e2",
   "metadata": {},
   "outputs": [],
   "source": [
    "time_ma = 100\n",
    "gplot.time = time_ma\n",
    "\n",
    "fig = plt.figure(figsize=(16,12))\n",
    "ax = fig.add_subplot(111, projection=ccrs.PlateCarree())\n",
    "\n",
    "ax.gridlines(draw_labels=True, dms=True, x_inline=False, y_inline=False)\n",
    "gplot.plot_coastlines(ax, color='0.5')\n",
    "gplot.plot_trenches(ax, color='k')\n",
    "gplot.plot_subduction_teeth(ax, color='k')\n",
    "\n",
    "long, lat, ind = gpts.reconstruct(time_ma, return_array=True, return_point_indices=True, anchor_plate_id=anchor_plate_id)\n",
    "cmap = ax.scatter(long, lat, cmap='viridis', c=gpts.age[ind], s=15, transform=ccrs.PlateCarree(), vmin=0, vmax=200)\n",
    "plt.colorbar(cmap, ax=ax, label='Deposit Age (Ma)', shrink=0.5)"
   ]
  },
  {
   "cell_type": "markdown",
   "id": "031d6d82",
   "metadata": {},
   "source": [
    "*This plot shows the reconstructed positions of deposits and tectonic features at 100 million years ago.*"
   ]
  },
  {
   "cell_type": "markdown",
   "id": "d36663a5",
   "metadata": {},
   "source": [
    "---\n",
    "\n",
    "## 8. Extract Subduction Zone Data Function\n",
    "\n",
    "**Purpose**  \n",
    "Define a helper function to sample subduction trench properties (convergence rate, trench velocity, etc.) within the South American extent at any given time.\n",
    "\n",
    "**Function details**  \n",
    "- Calls `model.tessellate_subduction_zones` to retrieve data at trench.\n",
    "- Filters by longitude/latitude box (`SA_extent`).  \n",
    "- Returns a pandas DataFrame with columns:  \n",
    "- `lon`, `lat`: sample position  \n",
    "- `conv_rate`, `conv_angle`: convergence magnitude and obliquity  \n",
    "- `trench_velocity`, `trench_velocity_angle`: trench motion relative to\n",
    "anchor plate  \n",
    "- `arc_length`, `trench_azimuth_angle`, `subducting_pid`, `trench_pid`"
   ]
  },
  {
   "cell_type": "code",
   "execution_count": null,
   "id": "0d84cd6e",
   "metadata": {},
   "outputs": [],
   "source": [
    "lat_samples = np.arange(-55, 20, 0.1)\n",
    "\n",
    "def get_south_america_subduction_zone_data(r12n_time):\n",
    "    \"\"\"\n",
    "    Extract subduction zone data for South America at a given time.\n",
    "    Filters for points within the South American region.\n",
    "    \"\"\"\n",
    "    subduction_data = model.tessellate_subduction_zones(\n",
    "        r12n_time,\n",
    "        tessellation_threshold_radians=0.01,\n",
    "        anchor_plate_id=anchor_plate_id\n",
    "    )\n",
    "    ret = []\n",
    "    for row in subduction_data:\n",
    "        # Keep only points within the South American extent.\n",
    "        if row[0] > SA_extent[0] and row[0] < SA_extent[1] and row[1] > SA_extent[2] and row[1] < SA_extent[3]:\n",
    "            ret.append(row)\n",
    "    ret.sort(key=lambda row: row[1])\n",
    "    ret_df = pd.DataFrame(ret, columns=['lon', 'lat', 'conv_rate', 'conv_angle', 'trench_velocity', 'trench_velocity_angle', 'arc_length',\n",
    "                                        'trench_azimuth_angle', 'subducting_pid', 'trench_pid'])\n",
    "    return ret_df[(ret_df.lat > lat_samples.min()) & (ret_df.lat < lat_samples.max())]"
   ]
  },
  {
   "cell_type": "markdown",
   "id": "0b12936d",
   "metadata": {},
   "source": [
    "### 8a. Visualize Subduction Data at a Single Time\n",
    "\n",
    "**Purpose**  \n",
    "Use our helper function to plot convergence velocity samples at 50 Ma on a Mollweide projection."
   ]
  },
  {
   "cell_type": "code",
   "execution_count": null,
   "id": "d94d2056",
   "metadata": {},
   "outputs": [],
   "source": [
    "reconstruction_time = 50\n",
    "# Retrieve subduction data at 50 Ma\n",
    "south_america_subduction_data = get_south_america_subduction_zone_data(reconstruction_time)\n",
    "\n",
    "fig = plt.figure(figsize=(10,6), dpi=100)\n",
    "ax = fig.add_subplot(111, projection=ccrs.Mollweide(central_longitude = 0))\n",
    "\n",
    "\n",
    "\n",
    "gl=ax.gridlines(color='0.7',linestyle='--', xlocs=np.arange(-180,180,15), ylocs=np.arange(-90,90,15))\n",
    "gl.left_labels = True\n",
    "\n",
    "plt.title(f'{reconstruction_time} Ma')\n",
    "# you may change the extent to global to see the sample points in a world map.\n",
    "#ax.set_global()\n",
    "ax.set_extent(SA_extent, crs=ccrs.PlateCarree())\n",
    "\n",
    "gplot.time = reconstruction_time\n",
    "gplot.plot_coastlines(ax, color='grey')\n",
    "\n",
    "# Latitudes and longitudes of points along trench segments\n",
    "subduction_lon = south_america_subduction_data.lon\n",
    "subduction_lat = south_america_subduction_data.lat\n",
    "\n",
    "conv_rate = south_america_subduction_data.conv_rate # subducting convergence (relative to trench) velocity magnitude (in cm/yr)\n",
    "cb=ax.scatter(subduction_lon,subduction_lat, marker=\".\", s=5, c=conv_rate, transform=ccrs.PlateCarree(), cmap=\"inferno_r\")\n",
    "\n",
    "cbar = plt.colorbar(cb)\n",
    "cbar.ax.get_yaxis().labelpad = 15\n",
    "cbar.ax.set_ylabel('Convergence Velocity Magnitude (in cm/yr)', rotation=90)\n",
    "plt.show()\n"
   ]
  },
  {
   "cell_type": "markdown",
   "id": "93eddb18",
   "metadata": {},
   "source": [
    "### 8b. Compute Subduction Flux and Sample Grids Over Time\n",
    "\n",
    "**Purpose**  \n",
    "Loop from 0 to 80 Ma to compute:\n",
    "- Area flux: trench-orthogonal convergence rate × arc length. \n",
    "- Volume flux (approximate) using a square-root age scaling. \n",
    "- Gridded arrays of convergence rate, seafloor age, and carbonate thickness for interpolation."
   ]
  },
  {
   "cell_type": "code",
   "execution_count": null,
   "id": "b705a416",
   "metadata": {},
   "outputs": [],
   "source": [
    "# We are only interested in the reconstruction time from 80Ma to 0Ma\n",
    "time_series = np.arange(0,81,1)\n",
    "\n",
    "area_flux_series=[]\n",
    "volume_flux_series=[]\n",
    "age_array = []\n",
    "conv_array = []\n",
    "carbonate_array = []\n",
    "\n",
    "for time in time_series:\n",
    "    sa_sub_data = get_south_america_subduction_zone_data(time)\n",
    "    conv_rate = sa_sub_data.conv_rate # subducting convergence (relative to trench) velocity magnitude (in cm/yr)\n",
    "    conv_obliq = sa_sub_data.conv_angle # subducting convergence velocity obliquity angle (angle between trench normal vector and convergence velocity vector)\n",
    "    arc_length = sa_sub_data.arc_length # length of arc segment (in degrees) that current point is on\n",
    "    # Latitudes and longitudes of points along trench segments\n",
    "    subduction_lon = sa_sub_data.lon\n",
    "    subduction_lat = sa_sub_data.lat\n",
    "\n",
    "    ortho_conv_rate = conv_rate*np.abs(np.cos(np.radians(conv_obliq)))\n",
    "    area_flux = ortho_conv_rate * 100. * arc_length * 2 * np.pi * 6371000. / 360. # formula copied from Simon's Notebook\n",
    "\n",
    "    #\n",
    "    # Query age grid rasters\n",
    "    #\n",
    "    age_grid_raster = gplately.Raster(\n",
    "        data=plate_model.get_raster(\"AgeGrids\",time),\n",
    "        plate_reconstruction=model,\n",
    "        extent=SA_extent,\n",
    "    )\n",
    "    age_grid_raster=age_grid_raster.clip_by_extent(SA_extent)\n",
    "    ages = age_grid_raster.query(subduction_lon, subduction_lat,region_of_interest=200)\n",
    "\n",
    "    #\n",
    "    # Query carbonate sediment thickness rasters\n",
    "    #\n",
    "    carbonate_thickness_raster = gplately.Raster(\n",
    "        data=plate_model.get_raster(\"SedimentThickness\",time),\n",
    "        plate_reconstruction=model,\n",
    "        extent=SA_extent,\n",
    "    )\n",
    "    carbonate_thickness_raster=carbonate_thickness_raster.clip_by_extent(SA_extent)\n",
    "    carbonate_thickness = carbonate_thickness_raster.query(subduction_lon, subduction_lat,region_of_interest=200)\n",
    "    \n",
    "    #\n",
    "    # we have two methods to get the volume flux\n",
    "    #\n",
    "    # method 1: use gplately.tools.plate_isotherm_depth\n",
    "    # plate_depth = [gplately.tools.plate_isotherm_depth(seafloor_age) for seafloor_age in ages]\n",
    "    # volume_flux = area_flux * plate_depth \n",
    "    \n",
    "    # method 2: use Simon's formula\n",
    "    volume_flux = area_flux * np.sqrt(ages) * 10.  # UNITS????\n",
    "\n",
    "    area_flux_series.append(area_flux.sum())\n",
    "    volume_flux_series.append(np.nansum(volume_flux))\n",
    "\n",
    "    conv_array.append(np.interp(lat_samples, subduction_lat, ortho_conv_rate, left=np.nan, right=np.nan))\n",
    "    age_array.append(np.interp(lat_samples, subduction_lat, ages, left=np.nan, right=np.nan))\n",
    "    carbonate_array.append(np.interp(lat_samples, subduction_lat, carbonate_thickness, left=np.nan, right=np.nan))\n",
    "    \n",
    "    gplately.tools.update_progress(time/time_series.size)  \n",
    "gplately.tools.update_progress(1)"
   ]
  },
  {
   "cell_type": "markdown",
   "id": "c99e9041",
   "metadata": {},
   "source": [
    "---\n",
    "\n",
    "## 9. Analyze and Visualize Subduction Properties\n",
    "\n",
    "With our computed time series and gridded samples, we can now create plots that reveal how subduction flux, convergence rate, seafloor age, and carbonate thickness varied through time and latitude."
   ]
  },
  {
   "cell_type": "markdown",
   "id": "eed3bb98",
   "metadata": {},
   "source": [
    "### 9a. Prepare Deposit Birth Reconstructions\n",
    "\n",
    "**Purpose**  \n",
    "Get each deposit’s reconstructed birth coordinates (longitude, latitude) and age for overlaying on our time–latitude diagrams."
   ]
  },
  {
   "cell_type": "code",
   "execution_count": null,
   "id": "fb47ce3e",
   "metadata": {},
   "outputs": [],
   "source": [
    "points_loglat_at_birth = np.array(gpts.reconstruct_to_birth_age(ages=gpts.age))\n",
    "points_age = gpts.age"
   ]
  },
  {
   "cell_type": "markdown",
   "id": "38878631",
   "metadata": {},
   "source": [
    "### 9b. Plot Reconstructed Subduction Flux Time Series\n",
    "\n",
    "**Purpose**  \n",
    "Compare total area flux and volume flux through time, and mark deposit formation ages.\n",
    "-   Left axis: area flux (m²/yr)  \n",
    "-   Right axis: volume flux (m³/yr)  \n",
    "-   Vertical markers: deposit ages"
   ]
  },
  {
   "cell_type": "code",
   "execution_count": null,
   "id": "96119be9",
   "metadata": {},
   "outputs": [],
   "source": [
    "from scipy.ndimage import uniform_filter1d\n",
    "\n",
    "fig = plt.figure(figsize=(8,4), dpi=100)\n",
    "ax = fig.add_subplot(111)\n",
    "\n",
    "N=3\n",
    "ax.plot(time_series, uniform_filter1d(area_flux_series, size=N), 'b', label='area flux')\n",
    "ax.set_xlim(80,0)\n",
    "ax.set_ylim(1e9,11e9)\n",
    "ax.grid(axis='x', linestyle=':')\n",
    "#ax.set_xticklabels([])\n",
    "ax.set_ylabel('Area Flux', fontsize=14, color='b')\n",
    "ax.tick_params(axis='y', labelcolor='b')\n",
    "\n",
    "ax1 = ax.twinx() \n",
    "ax1.plot(time_series, uniform_filter1d(np.array(volume_flux_series), size=N), 'r', label='volume flux')\n",
    "ax.set_xlabel('Reconstruction Time [Ma]', fontsize=14)\n",
    "ax1.set_ylabel('Volume Flux', fontsize=14, color='r')\n",
    "ax1.set_ylim(0e11,7e11)\n",
    "ax1.tick_params(axis='y', labelcolor='r')\n",
    "#ax.legend()\n",
    "ax.set_title('Reconstructed Subduction Flux', fontsize=16)\n",
    "\n",
    "### plot formation age to see if there is any correlation\n",
    "ax.plot(Andes_porphyry_deposits['Min_Age_Ma'], np.full(Andes_porphyry_deposits['Min_Age_Ma'].shape, 1e9), 'k|', markersize=20, label='Deposit Ages')\n",
    "\n",
    "plt.show()\n",
    "\n",
    "\n"
   ]
  },
  {
   "cell_type": "markdown",
   "id": "2d61cccf",
   "metadata": {},
   "source": [
    "### 9c. Visualize Trench-Orthogonal Convergence Rate\n",
    "\n",
    "**Purpose**  \n",
    "Display how the orthogonal component of convergence varied with latitude and time, and overlay deposit birth points."
   ]
  },
  {
   "cell_type": "code",
   "execution_count": null,
   "id": "e541133f",
   "metadata": {},
   "outputs": [],
   "source": [
    "fig = plt.figure(figsize=(8,4), dpi=100)\n",
    "ax = fig.add_subplot(111)\n",
    "\n",
    "m = ax.pcolormesh(time_series, \n",
    "               lat_samples, \n",
    "               np.array(conv_array).T, \n",
    "               vmin=5, vmax=15, cmap='Oranges')\n",
    "\n",
    "fig.colorbar(m, orientation=\"vertical\", extend='max', shrink=0.9, pad=0.03, label='Convergence Rate [cm/yr]')\n",
    "\n",
    "ax.scatter(points_age, points_loglat_at_birth.T[:,1], c='k', s=5, alpha=0.9)\n",
    "\n",
    "ax.set_xlim(80,0)\n",
    "ax.set_ylim(-50,5)\n",
    "ax.set_xlabel('Reconstruction Time [Ma]', fontsize=14)\n",
    "ax.set_ylabel('Latitude', fontsize=14)\n",
    "ax.set_title('Trench-Orthogonal Convergence Rate', fontsize=16)\n",
    "plt.show()\n",
    "\n"
   ]
  },
  {
   "cell_type": "markdown",
   "id": "ddd80c1c",
   "metadata": {},
   "source": [
    "### 9d. Visualize Subducting Seafloor Age\n",
    "\n",
    "**Purpose**  \n",
    "Show the age of the subducting seafloor along the trench as a function of time and latitude."
   ]
  },
  {
   "cell_type": "code",
   "execution_count": null,
   "id": "01bab850",
   "metadata": {},
   "outputs": [],
   "source": [
    "fig = plt.figure(figsize=(8,4), dpi=100)\n",
    "ax = fig.add_subplot(111)\n",
    "\n",
    "m = ax.contourf(time_series, \n",
    "               lat_samples, \n",
    "               np.array(age_array).T, \n",
    "               levels=np.arange(0,101,5), cmap='plasma_r', extend='max')\n",
    "\n",
    "fig.colorbar(m, orientation=\"vertical\", extend='max', shrink=0.9, pad=0.03, label='Seafloor Age [Myr]')\n",
    "\n",
    "ax.scatter(points_age, points_loglat_at_birth.T[:,1], c='k', s=5, alpha=0.9)\n",
    "\n",
    "ax.set_xlim(80,0)\n",
    "ax.set_ylim(-50,5)\n",
    "ax.set_xlabel('Reconstruction Time [Ma]', fontsize=14)\n",
    "ax.set_ylabel('Latitude', fontsize=14)\n",
    "ax.set_title('Subducting Seafloor Age', fontsize=16)\n",
    "plt.show()\n",
    "\n"
   ]
  },
  {
   "cell_type": "markdown",
   "id": "2e06c3e0",
   "metadata": {},
   "source": [
    "### 9e. Visualize Carbonate Sediment Thickness\n",
    "\n",
    "**Purpose**  \n",
    "Illustrate how carbonate sediment thickness on the subducting plate varied through time and latitude."
   ]
  },
  {
   "cell_type": "code",
   "execution_count": null,
   "id": "0f75ce92",
   "metadata": {},
   "outputs": [],
   "source": [
    "fig = plt.figure(figsize=(8,4), dpi=100)\n",
    "ax = fig.add_subplot(111)\n",
    "\n",
    "m = ax.contourf(time_series, \n",
    "               lat_samples, \n",
    "               np.array(carbonate_array).T, \n",
    "               levels=[0,25,50,75,100,125,150, 175, 200], vmax=200, cmap='GnBu', extend='max')\n",
    "\n",
    "fig.colorbar(m, orientation=\"vertical\", extend='max', shrink=0.9, pad=0.03, label='Carbonate Sediment Thickness [meter]')\n",
    "\n",
    "ax.scatter(points_age, points_loglat_at_birth.T[:,1], c='k', s=5, alpha=0.9)\n",
    "\n",
    "ax.set_xlim(80,0)\n",
    "ax.set_ylim(-50,5)\n",
    "ax.set_xlabel('Reconstruction Time [Ma]', fontsize=14)\n",
    "ax.set_ylabel('Latitude', fontsize=14)\n",
    "ax.set_title('Thickness of Subducting Carbonate Sediment', fontsize=16)\n",
    "plt.show()\n",
    "\n"
   ]
  },
  {
   "cell_type": "markdown",
   "id": "7d259d66",
   "metadata": {},
   "source": [
    "---\n",
    "\n",
    "## 10. Relate Subduction Properties to Deposit Formation\n",
    "\n",
    "**Purpose**  \n",
    "Interpolate subduction parameters (seafloor age, carbonate thickness) to the birth location and age of each deposit, then analyze relationships.."
   ]
  },
  {
   "cell_type": "markdown",
   "id": "1637e782",
   "metadata": {},
   "source": [
    "### 10a. Reconstruct Deposit Locations at Birth Age\n",
    "\n",
    "**Purpose**  \n",
    "Obtain the birth coordinates (lon, lat) and ages for each deposit from our `gpts` object."
   ]
  },
  {
   "cell_type": "code",
   "execution_count": null,
   "id": "82ce25d6",
   "metadata": {},
   "outputs": [],
   "source": [
    "#### get the seafloor age or thickness of sediments at the porphyry deposit locations\n",
    "points_loglat_at_birth = np.array(gpts.reconstruct_to_birth_age(ages=gpts.age))\n",
    "points_age = gpts.age\n",
    "points_lon = points_loglat_at_birth.T[:,0]\n",
    "points_lat = points_loglat_at_birth.T[:,1]"
   ]
  },
  {
   "cell_type": "markdown",
   "id": "d206d4df",
   "metadata": {},
   "source": [
    "### 10b. Interpolate Subduction Parameters at Deposit Points\n",
    "\n",
    "**Purpose**  \n",
    "Use our precomputed grids to interpolate seafloor age and carbonate thickness onto each deposit’s birth coordinates and age."
   ]
  },
  {
   "cell_type": "code",
   "execution_count": null,
   "id": "29af210b",
   "metadata": {},
   "outputs": [],
   "source": [
    "### we use the grids from above to interpolate the seafloor age and carbonate thickness at the deposit locations\n",
    "\n",
    "seafloor_age_at_deposits = griddata((lat_samples.repeat(time_series.size), np.tile(time_series, lat_samples.size)), np.array(age_array).flatten(), (points_lat, points_age), method='linear')\n",
    "\n",
    "carbonate_thickness_at_deposits = griddata((lat_samples.repeat(time_series.size), np.tile(time_series, lat_samples.size)), np.array(carbonate_array).flatten(), (points_lat, points_age), method='linear')\n",
    "\n",
    "Andes_porphyry_deposits['Seafloor_Age_at_Deposit'] = seafloor_age_at_deposits\n",
    "Andes_porphyry_deposits['Carbonate_Thickness_at_Deposit'] = carbonate_thickness_at_deposits\n",
    "\n",
    "### drop any rows with NaN values in either of the two new columns\n",
    "Andes_porphyry_deposits.dropna(inplace=True, subset=['Seafloor_Age_at_Deposit', 'Carbonate_Thickness_at_Deposit'])"
   ]
  },
  {
   "cell_type": "markdown",
   "id": "20f57705",
   "metadata": {},
   "source": [
    "### 10c. Map Interpolated Parameters\n",
    "\n",
    "**Purpose**  \n",
    "Plot two maps side by side showing seafloor age and carbonate thickness at each deposit’s birth point on a present-day basemap."
   ]
  },
  {
   "cell_type": "code",
   "execution_count": null,
   "id": "99aaba1e",
   "metadata": {},
   "outputs": [],
   "source": [
    "gplot.time = 0\n",
    "\n",
    "### plot seafloor age and carbonate thickness at deposit locations\n",
    "fig, ax = plt.subplots(1, 2, figsize=(8,6), dpi=100, subplot_kw={'projection': ccrs.PlateCarree()})\n",
    "cbar = Andes_porphyry_deposits.plot(column='Seafloor_Age_at_Deposit', ax=ax[0], cmap='plasma_r', markersize=50, edgecolor='k', legend=True, legend_kwds={'label': \"Seafloor Age at Deposit (Ma)\"}, vmin=0, vmax=100)\n",
    "\n",
    "gplot.plot_coastlines(ax[0], color='0.5')\n",
    "gplot.plot_trenches(ax[0], color='k')\n",
    "gplot.plot_subduction_teeth(ax[0], color='k')\n",
    "\n",
    "\n",
    "ax[0].set_title('Seafloor Age', fontsize=10,)\n",
    "\n",
    "ax[0].set_extent(SA_extent, crs=ccrs.PlateCarree())\n",
    "\n",
    "cbar1 = Andes_porphyry_deposits.plot(column='Carbonate_Thickness_at_Deposit', ax=ax[1], cmap='GnBu', markersize=50, edgecolor='k', legend=True, legend_kwds={'label': \"Carbonate Sediment Thickness at Deposit (m)\"}, vmin=0, vmax=200)\n",
    "ax[1].set_title('Carbonate Sediment Thickness', fontsize=10)\n",
    "\n",
    "gplot.plot_coastlines(ax[1], color='0.5')\n",
    "gplot.plot_trenches(ax[1], color='k')\n",
    "gplot.plot_subduction_teeth(ax[1], color='k')\n",
    "\n",
    "ax[1].set_extent(SA_extent, crs=ccrs.PlateCarree())\n",
    "\n",
    "plt.show()"
   ]
  },
  {
   "cell_type": "markdown",
   "id": "0bdbf013",
   "metadata": {},
   "source": [
    "### 10d. Scatter Plot and Correlation Analysis\n",
    "\n",
    "**Purpose**  \n",
    "Visualize the relationship between seafloor age and carbonate sediment thickness at deposit formation, and calculate the Pearson correlation coefficient."
   ]
  },
  {
   "cell_type": "code",
   "execution_count": null,
   "id": "9721d813",
   "metadata": {},
   "outputs": [],
   "source": [
    "plt.scatter(Andes_porphyry_deposits.Min_Age_Ma, Andes_porphyry_deposits.Carbonate_Thickness_at_Deposit)\n",
    "plt.xlabel('Deposit age (Ma)')\n",
    "plt.ylabel('Carbonate Sediment Thickness at deposit formation (m)')\n",
    "plt.grid()\n",
    "### get the correlation coefficient\n",
    "corrCoeff = np.corrcoef(Andes_porphyry_deposits.Min_Age_Ma, Andes_porphyry_deposits.Carbonate_Thickness_at_Deposit, rowvar=False)\n",
    "\n",
    "print(corrCoeff)\n"
   ]
  },
  {
   "cell_type": "code",
   "execution_count": null,
   "id": "53c52763",
   "metadata": {},
   "outputs": [],
   "source": [
    "plt.scatter(Andes_porphyry_deposits.Min_Age_Ma, Andes_porphyry_deposits.Seafloor_Age_at_Deposit)\n",
    "plt.xlabel('Deposit age (Ma)')\n",
    "plt.ylabel('Seafloor Age at deposit formation (Ma)')\n",
    "plt.grid()\n",
    "### get the correlation coefficient\n",
    "corrCoeff = np.corrcoef(Andes_porphyry_deposits.Min_Age_Ma, Andes_porphyry_deposits.Seafloor_Age_at_Deposit, rowvar=False)\n",
    "\n",
    "print(corrCoeff)\n"
   ]
  },
  {
   "cell_type": "code",
   "execution_count": null,
   "id": "b5940369",
   "metadata": {},
   "outputs": [],
   "source": [
    "plt.scatter(Andes_porphyry_deposits.Seafloor_Age_at_Deposit, Andes_porphyry_deposits.Carbonate_Thickness_at_Deposit)\n",
    "plt.xlabel('Seafloor Age at deposit formation (Ma)')\n",
    "plt.ylabel('Carbonate Sediment Thickness at deposit formation (m)')\n",
    "plt.grid()\n",
    "### get the correlation coefficient\n",
    "corrCoeff = np.corrcoef(Andes_porphyry_deposits.Seafloor_Age_at_Deposit, Andes_porphyry_deposits.Carbonate_Thickness_at_Deposit, rowvar=False)\n",
    "\n",
    "print(corrCoeff)\n",
    "\n",
    "\n"
   ]
  },
  {
   "cell_type": "markdown",
   "id": "26b64e95",
   "metadata": {},
   "source": [
    "### 10e. Cluster Analysis via K-Means\n",
    "\n",
    "**Purpose**  \n",
    "Identify potential clusters among deposits based on seafloor age and carbonate thickness using K-means clustering (k=2)."
   ]
  },
  {
   "cell_type": "code",
   "execution_count": null,
   "id": "20e1ef5a",
   "metadata": {},
   "outputs": [],
   "source": [
    "### K-mean clustering to see if there are any clusters\n",
    "kmeans = KMeans(n_clusters=2, random_state=1)\n",
    "X = Andes_porphyry_deposits[['Seafloor_Age_at_Deposit', 'Carbonate_Thickness_at_Deposit']].values\n",
    "kmeans.fit(X)\n",
    "y_kmeans = kmeans.predict(X)"
   ]
  },
  {
   "cell_type": "code",
   "execution_count": null,
   "id": "2472b265",
   "metadata": {},
   "outputs": [],
   "source": [
    "Andes_porphyry_deposits"
   ]
  },
  {
   "cell_type": "code",
   "execution_count": null,
   "id": "e454f05e",
   "metadata": {},
   "outputs": [],
   "source": [
    "plt.scatter(X[:, 0], X[:, 1], c=y_kmeans, s=50, cmap='viridis')\n",
    "cbar = plt.scatter(X[:, 0], X[:, 1], c=Andes_porphyry_deposits.Min_Age_Ma, s=20, )\n",
    "centers = kmeans.cluster_centers_\n",
    "plt.scatter(centers[:, 0], centers[:, 1], c='red', s=200, alpha=0.75, marker='X');\n",
    "plt.xlabel('Seafloor Age at deposit formation (Ma)')\n",
    "plt.ylabel('Carbonate Sediment Thickness at deposit formation (m)')\n",
    "plt.colorbar(cbar, label='Deposit Age (Ma)', shrink=0.9)\n",
    "plt.grid()\n",
    "plt.show()\n",
    "\n"
   ]
  },
  {
   "cell_type": "markdown",
   "id": "f08851be",
   "metadata": {},
   "source": [
    "References:\n",
    "-  Qin, X., Müller, R. D., Cannon, J., Landgrebe, T. C. W., Heine, C., Watson, R. J., and Turner, M. (2012) The GPlates Geological Information Model and Markup Language, Geosci. Instrum. Method. Data Syst., 1, 111–134, https://doi.org/10.5194/gi-1-111-2012.\n",
    "- Mather, B.R., Müller, R.D., Zahirovic, S., Cannon, J., Chin, M., Ilano, L., Wright, N.M., Alfonso, C., Williams, S., Tetley, M., Merdith, A. (2023) Deep time spatio-temporal data analysis using pyGPlates with PlateTectonicTools and GPlately. Geoscience Data Journal, 1–8. https://doi.org/10.1002/gdj3.185\n",
    "- Mather, B.R., Müller, R.D., Alfonso, C.P., Wright, N.M., Seton, M. (2025). Subducting seafloor anomalies promote porphyry copper formation. International Geology Review 1–17. https://doi.org/10.1080/00206814.2025.2508791\n"
   ]
  }
 ],
 "metadata": {
  "kernelspec": {
   "display_name": "Python 3 (ipykernel)",
   "language": "python",
   "name": "python3"
  },
  "language_info": {
   "codemirror_mode": {
    "name": "ipython",
    "version": 3
   },
   "file_extension": ".py",
   "mimetype": "text/x-python",
   "name": "python",
   "nbconvert_exporter": "python",
   "pygments_lexer": "ipython3",
   "version": "3.13.5"
  }
 },
 "nbformat": 4,
 "nbformat_minor": 5
}
