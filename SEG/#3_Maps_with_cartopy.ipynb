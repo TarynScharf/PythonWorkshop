{
 "cells": [
  {
   "cell_type": "markdown",
   "id": "f9a95798",
   "metadata": {},
   "source": [
    "# Cartopy Workshop: Geospatial Mapping in Python\n",
    "\n",
    "This practical workshop introduces Cartopy, a Python library for geospatial visualization and mapping, along with related tools for handling geospatial data. We will explore core mapping workflows including projections, topographic data, and shapefile visualization.\n",
    "\n",
    "> **Learning objectives:**\n",
    ">\n",
    "- Generate maps with custom projections and geographic features\n",
    "- Integrate topographic raster and vector datasets\n",
    "- Visualize shapefiles and geodatabases\n",
    "\n",
    "---\n",
    "## Requirements\n",
    "required packages:\n",
    "```\n",
    "cartopy geopandas matplotlib pygmt rasterio\n",
    "```\n",
    "Further documentation: [Cartopy](https://scitools.org.uk/cartopy/docs/latest/), [GeoPandas](https://geopandas.org/), [PyGMT](https://www.pygmt.org/), [Rasterio](https://rasterio.readthedocs.io/en/stable/)"
   ]
  },
  {
   "cell_type": "code",
   "execution_count": null,
   "id": "5777c059-86a7-4073-a0c5-d2a38b9a936f",
   "metadata": {},
   "outputs": [],
   "source": [
    "#This is only required if we're running in Google Colab\n",
    "!wget https://repo.anaconda.com/miniconda/Miniconda3-latest-Linux-x86_64.sh\n",
    "!chmod +x Miniconda3-latest-Linux-x86_64.sh\n",
    "!bash ./Miniconda3-latest-Linux-x86_64.sh -bfp /usr/local\n",
    "!conda update conda -y -q\n",
    "!conda config --prepend channels conda-forge\n",
    "!conda install -q -y --prefix /usr/local python=3.8 pygmt\n",
    "\n",
    "import sys\n",
    "import os\n",
    "sys.path.append('/usr/local/lib/python3.13/site-packages')\n",
    "os.environ[\"GMT_LIBRARY_PATH\"]=\"/usr/local/lib\""
   ]
  },
  {
   "cell_type": "code",
   "execution_count": null,
   "id": "bd20d102",
   "metadata": {},
   "outputs": [],
   "source": [
    "# Import required libraries\n",
    "import matplotlib.pyplot as plt\n",
    "import cartopy.crs as ccrs\n",
    "import cartopy.feature as cfeature\n",
    "import pygmt    # for accessing global topo datasets\n",
    "import rasterio # for reading GeoTIFF\n",
    "import geopandas as gpd\n",
    "\n",
    "from pyproj import Geod"
   ]
  },
  {
   "cell_type": "markdown",
   "id": "7b11b7fb",
   "metadata": {},
   "source": [
    "## 1. Map of Australia: Plotting Features and Locations\n",
    "\n",
    "Cartopy allows us to draw regional maps with built-in coastlines, state boundaries, and other features. Below, we plot Australia, add state boundaries, river networks, and highlight Brisbane, Queensland."
   ]
  },
  {
   "cell_type": "code",
   "execution_count": null,
   "id": "6d7768db",
   "metadata": {},
   "outputs": [],
   "source": [
    "# Coordinates for Brisbane\n",
    "brisbane_lon, brisbane_lat = 153.0251, -27.4698\n",
    "\n",
    "fig = plt.figure(figsize=(8, 8))\n",
    "ax = plt.axes(projection=ccrs.PlateCarree())\n",
    "ax.set_extent([110, 155, -45, -10]) # Australia extent\n",
    "\n",
    "# Add physical features\n",
    "ax.add_feature(cfeature.LAND, facecolor='whitesmoke')\n",
    "ax.add_feature(cfeature.OCEAN, facecolor='lightblue')\n",
    "ax.add_feature(cfeature.BORDERS, linestyle=':', lw=1)\n",
    "ax.add_feature(cfeature.STATES, edgecolor='k', ls='--', lw=0.7)\n",
    "ax.add_feature(cfeature.RIVERS, alpha=0.4)\n",
    "\n",
    "# Add gridlines\n",
    "gl = ax.gridlines(draw_labels=True, dms=True, x_inline=False, y_inline=False)\n",
    "\n",
    "# Mark Brisbane\n",
    "ax.plot(brisbane_lon, brisbane_lat, 'ro', markersize=8, label='Brisbane')\n",
    "ax.text(brisbane_lon + 1, brisbane_lat, 'Brisbane', fontsize=12, color='red')\n",
    "\n",
    "plt.title('Australia with State Boundaries and Brisbane')\n",
    "plt.show()"
   ]
  },
  {
   "cell_type": "markdown",
   "id": "3ddcfcca",
   "metadata": {},
   "source": [
    "## 2. Alternative Projections\n",
    "\n",
    "Cartopy supports a range of map projections for scientific and publication-quality figures. For a full list, see the [Cartopy projection documentation](https://scitools.org.uk/cartopy/docs/v0.15/crs/projections.html).\n",
    "\n",
    "> **Tip:**\n",
    ">\n",
    "- When using a projection, always specify the original data CRS (usually `ccrs.PlateCarree`) with `transform` when plotting points or setting extents.\n",
    "\n",
    "Below, we use a Robinson projection."
   ]
  },
  {
   "cell_type": "code",
   "execution_count": null,
   "id": "3bdecca1",
   "metadata": {},
   "outputs": [],
   "source": [
    "fig = plt.figure(figsize=(8, 8))\n",
    "ax = plt.axes(projection=ccrs.Robinson())\n",
    "ax.set_extent([110, 155, -45, -10], crs=ccrs.PlateCarree())\n",
    "\n",
    "ax.add_feature(cfeature.LAND, facecolor='w')\n",
    "ax.add_feature(cfeature.OCEAN, facecolor='lightblue')\n",
    "ax.add_feature(cfeature.BORDERS, linestyle=':')\n",
    "ax.add_feature(cfeature.STATES, edgecolor='k', ls='--')\n",
    "ax.add_feature(cfeature.RIVERS, alpha=0.4)\n",
    "gl = ax.gridlines(draw_labels=True, dms=True, x_inline=False, y_inline=False)\n",
    "\n",
    "ax.plot(brisbane_lon, brisbane_lat, marker='o', color='red', markersize=8,\n",
    "        transform=ccrs.PlateCarree(), label='Brisbane')\n",
    "ax.text(brisbane_lon + 1, brisbane_lat, 'Brisbane', transform=ccrs.PlateCarree(), color='red')\n",
    "\n",
    "plt.title('Australia: Robinson Projection')\n",
    "plt.show()"
   ]
  },
  {
   "cell_type": "markdown",
   "id": "316f158d",
   "metadata": {},
   "source": [
    "## 3. Zooming in: Mapping the Brisbane Region\n",
    "\n",
    "The coordinates for the Brisbane region are `[152.8, 153.3, -27.7, -27.2]`. Adjust the map extent for regional focus."
   ]
  },
  {
   "cell_type": "code",
   "execution_count": null,
   "id": "c5b59c0f",
   "metadata": {},
   "outputs": [],
   "source": [
    "### Type your code here"
   ]
  },
  {
   "cell_type": "markdown",
   "id": "1ef0f154",
   "metadata": {},
   "source": [
    "##### 3.1 Adding a scalebar to a map\n",
    "There is no built-in method to add a scalebar, so we have to manually calculate it"
   ]
  },
  {
   "cell_type": "code",
   "execution_count": null,
   "id": "4984fcb5",
   "metadata": {},
   "outputs": [],
   "source": [
    "def add_scalebar(ax, length_km, location=(0.1, 0.05), linewidth=3, text_fontsize=10, color='k'):\n",
    "    \"\"\"\n",
    "    Adds a scale bar to the map.\n",
    "    ax : The axis to draw a scalebar on.\n",
    "    length_km : The length of the scalebar in kilometers.\n",
    "    location : Tuple (x, y) in axes fraction coordinates (0 = left/bottom, 1 = right/top).\n",
    "    linewidth : Thickness of the scale bar.\n",
    "    \"\"\"\n",
    "    # Get axis extent in data coordinates\n",
    "    x0, x1, y0, y1 = ax.get_extent(crs=ccrs.PlateCarree())\n",
    "    # Start point in data coordinates\n",
    "    x_start = x0 + (x1 - x0) * location[0]\n",
    "    y_start = y0 + (y1 - y0) * location[1]\n",
    "    # Determine longitude offset for desired distance\n",
    "    geod = Geod(ellps=\"WGS84\")\n",
    "    lon2, lat2, _ = geod.fwd(x_start, y_start, 90, length_km * 1000)  # 90 deg = due east\n",
    "    # Plot scale bar\n",
    "    ax.plot([x_start, lon2], [y_start, y_start], color=color, linewidth=linewidth, transform=ccrs.PlateCarree())\n",
    "    # Text label\n",
    "    ax.text((x_start + lon2)/2, y_start - 0.01 * (y1 - y0), f'{length_km} km',\n",
    "            ha='center', va='top', fontsize=text_fontsize, color=color,\n",
    "            transform=ccrs.PlateCarree())"
   ]
  },
  {
   "cell_type": "code",
   "execution_count": null,
   "id": "1aceb3e6",
   "metadata": {},
   "outputs": [],
   "source": [
    "# Coordinates for Brisbane\n",
    "brisbane_lon, brisbane_lat = 153.0251, -27.4698\n",
    "\n",
    "fig = plt.figure(figsize=(8, 8))\n",
    "ax = plt.axes(projection=ccrs.PlateCarree())\n",
    "ax.set_extent([110, 155, -45, -10]) # Australia extent\n",
    "\n",
    "# Add physical features\n",
    "ax.add_feature(cfeature.LAND, facecolor='whitesmoke')\n",
    "ax.add_feature(cfeature.OCEAN, facecolor='lightblue')\n",
    "ax.add_feature(cfeature.BORDERS, linestyle=':', lw=1)\n",
    "ax.add_feature(cfeature.STATES, edgecolor='k', ls='--', lw=0.7)\n",
    "ax.add_feature(cfeature.RIVERS, alpha=0.4)\n",
    "\n",
    "# Add gridlines\n",
    "gl = ax.gridlines(draw_labels=True, dms=True, x_inline=False, y_inline=False)\n",
    "\n",
    "# Mark Brisbane\n",
    "ax.plot(brisbane_lon, brisbane_lat, 'ro', markersize=8, label='Brisbane')\n",
    "ax.text(brisbane_lon + 1, brisbane_lat, 'Brisbane', fontsize=12, color='red')\n",
    "\n",
    "add_scalebar(ax, length_km=500, location=(0.1, 0.05), linewidth=3, text_fontsize=10, color='black')\n",
    "# add_scalebar(ax, length_km=100, location=(0.137, 0.05), linewidth=3, text_fontsize=0, color='white')\n",
    "\n",
    "plt.title('Australia with State Boundaries and Brisbane')\n",
    "plt.show()\n",
    "\n"
   ]
  },
  {
   "cell_type": "markdown",
   "id": "0b6e4e13",
   "metadata": {},
   "source": [
    "## 4. Plotting Topographic Data: DEMs with PyGMT and Rasterio\n",
    "\n",
    "You can visualize digital elevation models (DEMs) using Cartopy, PyGMT (for data access), and Rasterio (for local GeoTIFFs)."
   ]
  },
  {
   "cell_type": "markdown",
   "id": "f631499e",
   "metadata": {},
   "source": [
    "### 4.1: Download and Plot Topography with PyGMT\n",
    "\n",
    "PyGMT provides access to the GEBCO global topographic dataset. Here, we download a high-resolution DEM for the Brisbane area and plot it as a raster overlay."
   ]
  },
  {
   "cell_type": "code",
   "execution_count": null,
   "id": "7136016f",
   "metadata": {},
   "outputs": [],
   "source": [
    "### get the DEM data from pygmt\n",
    "region = [152.8, 153.3, -27.7, -27.2]\n",
    "grid = pygmt.datasets.load_earth_relief(resolution=\"15s\", region=region)"
   ]
  },
  {
   "cell_type": "code",
   "execution_count": null,
   "id": "71f7de3e",
   "metadata": {},
   "outputs": [],
   "source": [
    "#### plot the figure\n",
    "fig = plt.figure(figsize=(8, 8))\n",
    "ax = plt.axes(projection=ccrs.PlateCarree())\n",
    "\n",
    "ax.set_extent(region)\n",
    "\n",
    "\n",
    "# Plot DEM as a raster\n",
    "dem = ax.imshow(grid.data, extent=[grid.lon.min(), grid.lon.max(), grid.lat.min(), grid.lat.max()],\n",
    "                origin='lower', cmap='terrain', transform=ccrs.PlateCarree(), vmin=-10, vmax=300, zorder=0)\n",
    "\n",
    "### add the coastlines on top\n",
    "ax.add_feature(cfeature.STATES, linestyle=':', lw=1, zorder=1)\n",
    "\n",
    "### add a contour at 0m (sea level)\n",
    "contour = ax.contour(grid.lon, grid.lat, grid.data, levels=[0], colors='black', linewidths=1, transform=ccrs.PlateCarree(), zorder=2)\n",
    "\n",
    "\n",
    "\n",
    "# Add gridlines and location\n",
    "gl = ax.gridlines(draw_labels=True, dms=True, x_inline=False, y_inline=False)\n",
    "\n",
    "ax.plot(brisbane_lon, brisbane_lat, 'ro', markersize=8)\n",
    "ax.text(brisbane_lon, brisbane_lat + 0.01, 'Brisbane', fontsize=12, color='red')\n",
    "\n",
    "# Colorbar for elevation\n",
    "cbar = plt.colorbar(dem, ax=ax, orientation='vertical', pad=0.05, aspect=30)\n",
    "cbar.set_label('Elevation (m)', fontsize=12)\n",
    "plt.title('Brisbane Region Topography (GEBCO DEM)')\n",
    "plt.show()"
   ]
  },
  {
   "cell_type": "markdown",
   "id": "85a2b0ac",
   "metadata": {},
   "source": [
    "### 4.2: Plotting Local GeoTIFF DEMs with Rasterio\n",
    "\n",
    "You can plot local topographic rasters (GeoTIFF format) with Rasterio. Download DEMs from sources like [OpenTopography](https://portal.opentopography.org/raster?opentopoID=OTSRTM.122019.4326.1)."
   ]
  },
  {
   "cell_type": "code",
   "execution_count": null,
   "id": "0b0bd489",
   "metadata": {},
   "outputs": [],
   "source": [
    "Aus_DEM_geotiff = 'https://github.com/TarynScharf/PythonWorkshop/raw/refs/heads/main/SEG/Data_for_exercises/output_SRTM15Plus.tif'\n",
    "\n",
    "with rasterio.open(Aus_DEM_geotiff) as src:\n",
    "    dem_data = src.read(1)\n",
    "    dem_bounds = src.bounds\n",
    "    dem_extent = [dem_bounds.left, dem_bounds.right, dem_bounds.bottom, dem_bounds.top]\n",
    "    dem_crs = src.crs"
   ]
  },
  {
   "cell_type": "code",
   "execution_count": null,
   "id": "9e4eb5ce",
   "metadata": {},
   "outputs": [],
   "source": [
    "fig = plt.figure(figsize=(8, 8))\n",
    "ax = plt.axes(projection=ccrs.PlateCarree())\n",
    "ax.set_extent(region)\n",
    "\n",
    "ax.imshow(dem_data, extent=dem_extent, origin='upper', cmap='terrain', transform=ccrs.PlateCarree(), vmin=-10, vmax=300, zorder=0)\n",
    "\n",
    "### add the coastlines on top\n",
    "ax.add_feature(cfeature.STATES, linestyle=':', lw=1, zorder=1)\n",
    "\n",
    "\n",
    "# Add gridlines and location\n",
    "gl = ax.gridlines(draw_labels=True, dms=True, x_inline=False, y_inline=False)\n",
    "\n",
    "### Add our location on top\n",
    "ax.plot(brisbane_lon, brisbane_lat, 'ro', markersize=8)\n",
    "ax.text(brisbane_lon, brisbane_lat + 0.01, 'Brisbane', fontsize=12, color='red')\n",
    "plt.title('DEM from Local GeoTIFF (SRTM15+)')\n",
    "plt.show()"
   ]
  },
  {
   "cell_type": "markdown",
   "id": "258febdc",
   "metadata": {},
   "source": [
    "### Try changing the location that is plotted to Airlie Beach\n",
    "- The extent is `[148.65, 148.83 -20.32, -20.176]`\n",
    "- long and lat is `[148.714, -20.268]`"
   ]
  },
  {
   "cell_type": "code",
   "execution_count": null,
   "id": "59a24a73",
   "metadata": {},
   "outputs": [],
   "source": [
    "### Type your code here"
   ]
  },
  {
   "cell_type": "markdown",
   "id": "81183877",
   "metadata": {},
   "source": [
    "## 5. Plotting Shapefiles and Geodatabases\n",
    "\n",
    "Shapefiles and geodatabases are standard formats for vector geospatial data. We use GeoPandas to read and plot these datasets."
   ]
  },
  {
   "cell_type": "markdown",
   "id": "lga-polygons",
   "metadata": {},
   "source": [
    "### 5.1: Shapefile Polygons (Australian LGAs)\n",
    "\n",
    "Australian Local Government Area (LGA) shapefiles are available from the [Australian Bureau of Statistics](https://www.abs.gov.au/statistics/standards/australian-statistical-geography-standard-asgs-edition-3/jul2021-jun2026/access-and-downloads/digital-boundary-files)."
   ]
  },
  {
   "cell_type": "code",
   "execution_count": null,
   "id": "9d20d2d5",
   "metadata": {},
   "outputs": [],
   "source": [
    "Australia_LGAs = gpd.read_file('https://github.com/TarynScharf/PythonWorkshop/raw/refs/heads/main/SEG/Data_for_exercises/LGA_2025_AUST_GDA2020/LGA_2025_AUST_GDA2020.shp')"
   ]
  },
  {
   "cell_type": "code",
   "execution_count": null,
   "id": "af68f5eb",
   "metadata": {},
   "outputs": [],
   "source": [
    "## Check the crs\n",
    "print(\"DEM CRS:\", dem_crs)\n",
    "print(\"Australia LGAs CRS:\", Australia_LGAs.crs)"
   ]
  },
  {
   "cell_type": "markdown",
   "id": "1d3c390a",
   "metadata": {},
   "source": [
    "#### Convert the crs to EPSG:4326\n",
    "Different CRS can be found [here](https://epsg.io/)"
   ]
  },
  {
   "cell_type": "code",
   "execution_count": null,
   "id": "01ee4631",
   "metadata": {},
   "outputs": [],
   "source": [
    "Australia_LGAs.to_crs(epsg=4326, inplace=True)\n",
    "print(\"Australia LGAs CRS updated:\", Australia_LGAs.crs)"
   ]
  },
  {
   "cell_type": "code",
   "execution_count": null,
   "id": "c24661a5",
   "metadata": {},
   "outputs": [],
   "source": [
    "fig = plt.figure(figsize=(8, 8))\n",
    "ax = plt.axes(projection=ccrs.PlateCarree())\n",
    "\n",
    "ax.set_extent([152.8, 153.3, -27.7, -27.2])\n",
    "\n",
    "\n",
    "ax.add_feature(cfeature.LAND, facecolor='w')\n",
    "ax.add_feature(cfeature.OCEAN, facecolor='lightblue')\n",
    "ax.add_feature(cfeature.BORDERS, linestyle=':')\n",
    "ax.add_feature(cfeature.STATES, edgecolor='k', ls='--')\n",
    "ax.add_feature(cfeature.RIVERS, alpha=0.4)\n",
    "\n",
    "gl = ax.gridlines(draw_labels=True, dms=True, x_inline=False, y_inline=False)\n",
    "\n",
    "### Add our location\n",
    "ax.plot(brisbane_lon, brisbane_lat, 'ro', markersize=8)\n",
    "ax.text(brisbane_lon, brisbane_lat + 0.01, 'Brisbane', fontsize=12, color='red')\n",
    "\n",
    "# Plot all LGAs as outlines\n",
    "Australia_LGAs.plot(ax=ax, edgecolor='blue', facecolor='none', linewidth=0.5, transform=ccrs.PlateCarree())\n",
    "\n",
    "# Highlight Brisbane LGA\n",
    "Brisbane_LGA = Australia_LGAs[Australia_LGAs['LGA_NAME25'] == 'Brisbane']\n",
    "\n",
    "Brisbane_LGA.plot(\n",
    "    ax=ax, edgecolor='red', facecolor='lime', linewidth=1.5, transform=ccrs.PlateCarree())\n",
    "\n",
    "plt.title('Brisbane Region: LGA Boundaries')\n",
    "plt.show()"
   ]
  },
  {
   "cell_type": "markdown",
   "id": "aa87372e",
   "metadata": {},
   "source": [
    "### Now try plotting another LGA\n",
    "- The list of LGAs can be obtained by  'Australia_LGAs['LGA_NAME25']'"
   ]
  },
  {
   "cell_type": "code",
   "execution_count": null,
   "id": "e238f4b0",
   "metadata": {},
   "outputs": [],
   "source": [
    "### Type your code here"
   ]
  },
  {
   "cell_type": "markdown",
   "id": "d30e0aad",
   "metadata": {},
   "source": [
    "### 5.2: Plotting other geospatial data (e.g., Mineral Deposits)\n",
    "\n",
    "Point and line data can be visualized similarly. For example, mineral deposit locations can be colored by commodity type. Data is available from [Data.gov.au](https://www.data.gov.au/data/dataset/14e96462-b029-469a-9af8-06410f39589b)."
   ]
  },
  {
   "cell_type": "code",
   "execution_count": null,
   "id": "f2081000",
   "metadata": {},
   "outputs": [],
   "source": [
    "aus_mineral_deposits = gpd.read_file('https://github.com/TarynScharf/PythonWorkshop/tree/main/SEG/Data_for_exercises/Mineral_Deposits_v01_20130729/Mineral_Deposits.gdb')\n",
    "print(\"Australia Mineral Deposits CRS:\", aus_mineral_deposits.crs)"
   ]
  },
  {
   "cell_type": "code",
   "execution_count": null,
   "id": "bd4e612f",
   "metadata": {},
   "outputs": [],
   "source": [
    "aus_mineral_deposits.to_crs(epsg=4326, inplace=True)\n",
    "print(\"Australia Mineral Deposits CRS updated:\", aus_mineral_deposits.crs)"
   ]
  },
  {
   "cell_type": "code",
   "execution_count": null,
   "id": "06e9c229",
   "metadata": {},
   "outputs": [],
   "source": [
    "fig = plt.figure(figsize=(8, 8))\n",
    "ax = plt.axes(projection=ccrs.PlateCarree())\n",
    "ax.set_extent([110, 155, -45, -10])\n",
    "\n",
    "### add our usual features\n",
    "ax.add_feature(cfeature.LAND, facecolor='w')\n",
    "ax.add_feature(cfeature.OCEAN, facecolor='lightblue')\n",
    "ax.add_feature(cfeature.BORDERS, linestyle=':')\n",
    "ax.add_feature(cfeature.STATES, edgecolor='k', ls='--')\n",
    "ax.add_feature(cfeature.RIVERS, alpha=0.4)\n",
    "\n",
    "gl = ax.gridlines(draw_labels=True, dms=True, x_inline=False, y_inline=False)\n",
    "\n",
    "# Plot mineral deposits, color-coded by commodity\n",
    "aus_mineral_deposits.plot(column='CT_COMMODNAME', ax=ax, markersize=20, alpha=0.7, transform=ccrs.PlateCarree(),\n",
    "                         legend=True, legend_kwds={'loc': 'lower left', 'bbox_to_anchor': (-0.1, -1.2), 'ncol': 3})\n",
    "\n",
    "### plot our location\n",
    "ax.plot(brisbane_lon, brisbane_lat, 'rx', markersize=8)\n",
    "ax.text(brisbane_lon + 1, brisbane_lat, 'Brisbane', fontsize=12, color='red')\n",
    "\n",
    "plt.title('Australia: Mineral Deposit Locations')\n",
    "plt.show()"
   ]
  },
  {
   "cell_type": "markdown",
   "id": "c6af6927",
   "metadata": {},
   "source": [
    "#### Now try plotting by a different column\n",
    "e.g. `OPERATING_STATUS`\n",
    "- The column names can be obtained by: `aus_mineral_deposits.columns`\n",
    "- The  first couple of rows can be obtained by: `aus_mineral_deposits.head()`"
   ]
  },
  {
   "cell_type": "code",
   "execution_count": null,
   "id": "11ee1428",
   "metadata": {},
   "outputs": [],
   "source": [
    "### Type your code here"
   ]
  }
 ],
 "metadata": {
  "kernelspec": {
   "display_name": "Python 3 (ipykernel)",
   "language": "python",
   "name": "python3"
  },
  "language_info": {
   "codemirror_mode": {
    "name": "ipython",
    "version": 3
   },
   "file_extension": ".py",
   "mimetype": "text/x-python",
   "name": "python",
   "nbconvert_exporter": "python",
   "pygments_lexer": "ipython3",
   "version": "3.13.5"
  }
 },
 "nbformat": 4,
 "nbformat_minor": 5
}
