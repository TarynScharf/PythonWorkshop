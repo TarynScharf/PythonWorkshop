{
 "cells": [
  {
   "cell_type": "markdown",
   "metadata": {
    "id": "lTjUkLJq20je"
   },
   "source": [
    "## Welcome to the CFIGS Python for Geosciences Workshop!\n",
    "### Who are we?\n",
    "\n",
    "#### Dr. Taryn Scharf (Postdoctoral Researcher - Curtin)\n",
    "I am a postdoctoral researcher in the Timescales of Mineral Systems Group, Curtin University (https://research.curtin.edu.au/scieng/research/timescales-of-mineral-systems/). I am involved in developing computational tools that can be integrated with standard geological approaches for mineral analysis. My toolkit includes machine learning (tabular and image data sets), data analytics, and a variety of coding languages. Python is my preferred programming language for scientific data analysis.  I completed my PhD in Applied Geoscience in 2024 at Curtin University. Prior to my PhD, I spent 7 years as a geologist in the mining industry of South Africa. I was initially involved with brown fields exploration, geostatistical resource estimation, and the development of custom scripted solutions for clients. I later gained exposure to mine design, mine scheduling, and requirements analysis for software development.\n",
    "\n",
    "#### Dr. Ben Knight (Postdoctoral Researcher - Curtin)\n",
    "I am a postdoctoral researcher in the Laboratory for Lithosphere Evolution and Geodynamics group (https://uhthp.com/). My current research spans multiple scales, aiming to link micro (mineral) and macro (plate) scale processes to unravel the deep-time evolution of Earth's crust and lithosphere through numerical modelling. I was first introduced to numerical modelling during a year abroad at Stockholm University, which led me to focus on modelling incipient subduction for my thesis back in Cardiff. This resulted in moving to Melbourne for my PhD at Monash University, where I used numerical modelling to investigate the geodynamic evolution of the Himalayas and Southern Tibet, exploring the forces that have shaped the region. After my PhD I collaborated with Geoscience Australia to study groundwater flow in the Great Artesian Basin, applying a Bayesian modelling approach to integrate lithology, structural data, and hydrological measurements (hydraulic head, recharge rates) to better understand large-scale groundwater flow across the basin. I am currently working on modelling diffusion-decay-ingrowth at the mineral scale, as well as large-scale models of continental collision, to better understand the amalgamation of Gondwana. \n",
    "\n",
    "\n",
    "#### Dr. Luc Doucet (Senior Research Fellow - Curtin)\n",
    "Co-leader of the Earth Dynamics Research Group (http://geodynamics.curtin.edu.au/), I come from Bourg-en-Bresse, a small town in France famously known for its blue-white-red tricoloured (delicious) chickens. After a PhD in St Etienne, France (2012), I was awarded a three years fellowship from the Belgium Fund for Scientific Research to apply the \"non-traditional\" stable-isotope systematics to study the formation of both oceanic and continental lithosphere. After a two-year academic career break (being a stay-at-home dad), I moved to Curtin University in March 2018 to join the Earth Dynamics Research Group to decipher the present-day and past connections between Earth's mantle, supercontinent and superocean cycles. In 2023, I was awarded an ARC Future Fellowship to study the link between the deep carbon cycle with critical mineral deposits.\n",
    "\n",
    "#### Piero Sampaio (PhD Student - Curtin)\n",
    "I did my undergraduate and MSc. in the Federal University of Rio de Janeiro (UFRJ), where I was born and raised. My research is in geochemistry and igneous petrology, more specifically, I use isotopic signatures from ophiolites to try to understand how Earth's mantle composition evolved since the Neoproterozoic. I use Python on a daily basis to process my data, perform advanced data analysis and generate good-looking visuals.\n",
    "\n",
    "### The notebok environment\n",
    "We'll be using Python notehooks to introduce you to the wonderful world of coding. Notebooks are handy ways to run short bits of code (in this case Python) and view results, without having to run a full program or script. This is ideal for practicing short examples or performing small pieces of analytics.\n",
    " "
   ]
  },
  {
   "cell_type": "code",
   "execution_count": null,
   "metadata": {},
   "outputs": [],
   "source": [
    "# This cell is only necessary if we're running in Google Colab\n",
    "!pip install numpy pandas matplotlib \n"
   ]
  },
  {
   "cell_type": "markdown",
   "metadata": {
    "id": "i6xEJ2q58Zbf"
   },
   "source": [
    "## (Very) simple math\n",
    "Python has a series of in-built mathematical operators.\n",
    "* Addition: + \n",
    "* Subtraction: _\n",
    "* Multiplication: *\n",
    "* Division: /\n",
    "* Modulo: %\n",
    "* Exponentiation: **"
   ]
  },
  {
   "cell_type": "code",
   "execution_count": null,
   "metadata": {},
   "outputs": [],
   "source": [
    "1+1 #Addition: +"
   ]
  },
  {
   "cell_type": "code",
   "execution_count": null,
   "metadata": {},
   "outputs": [],
   "source": [
    "2-1 #Substraction: -"
   ]
  },
  {
   "cell_type": "code",
   "execution_count": null,
   "metadata": {},
   "outputs": [],
   "source": [
    "2*3 #Multiplication: *"
   ]
  },
  {
   "cell_type": "code",
   "execution_count": null,
   "metadata": {},
   "outputs": [],
   "source": [
    "3/3 #Division: /"
   ]
  },
  {
   "cell_type": "code",
   "execution_count": null,
   "metadata": {},
   "outputs": [],
   "source": [
    "26%8 #Modulus: %"
   ]
  },
  {
   "cell_type": "code",
   "execution_count": null,
   "metadata": {},
   "outputs": [],
   "source": [
    "2**3 #Exponentiation: **"
   ]
  },
  {
   "cell_type": "markdown",
   "metadata": {
    "id": "rbgLKK_T7hdr"
   },
   "source": [
    " ## Variables\n",
    "We can assign values to variables, which will store the value and make it easier to work with no matter the data type. Data types determine how the data behaves and what we can do to it. Examples of data typyes are:\n",
    "\n",
    "- int: integer numbers\n",
    "- float: numbers with decimal values\n",
    "- str: text - strings of characters\n",
    "- bool: True/False values\n",
    "\n",
    "We can also have composite data types that store collections of data. Python has 4 built-in composite data types:\n",
    "\n",
    "- list: mutable (can be changed) object that contains other values\n",
    "- tuple: same, but immutable (cannot be changed)\n",
    "- dict: key-value pairs\n",
    "- set: like a list but only contains unique values"
   ]
  },
  {
   "cell_type": "code",
   "execution_count": null,
   "metadata": {},
   "outputs": [],
   "source": [
    "my_integer = 42 # integer number\n",
    "my_string = \"Python\" # string (text)\n",
    "my_float = 4.56 # float (decimal values or fractional numbers)\n",
    "my_boolean = True # boolean value (condition that be True or False)\n",
    "my_list = [\"a\",23,399.8,False] # Although a list can hold multiple variable types, it makes more sense to make a list of the SAME variable type). Note the square brackets\n",
    "my_dictionary = {\n",
    "    \"str\":\"a\",\n",
    "    \"int\":23,\n",
    "    \"float\":399.8,\n",
    "    \"bool\":False\n",
    "} # a dictionary is made of key: value pairs. Keys are always strings values. Note the curly brackets\n",
    "my_tuple = (3,4,5) #tuples are delcared with round brackets\n",
    "my_set = {3,4,5} #or my_set = set([3,4,5]) # sets are declared with curly brackets"
   ]
  },
  {
   "cell_type": "markdown",
   "metadata": {},
   "source": [
    "Depending on the **data type**, different actions can be performed on the data"
   ]
  },
  {
   "cell_type": "code",
   "execution_count": null,
   "metadata": {},
   "outputs": [],
   "source": [
    "my_integer = 42 \n",
    "print(my_integer + 5)\n",
    "\n",
    "my_float = 4.568 \n",
    "print(round(my_float,1))\n",
    "\n",
    "uppercase = my_string.upper()\n",
    "print(f'\\n Capitalise: {uppercase}')\n",
    "\n",
    "my_list.append(100) #you can add to a list\n",
    "print(my_list)\n",
    "\n",
    "print(my_dictionary[\"int\"])\n"
   ]
  },
  {
   "cell_type": "markdown",
   "metadata": {},
   "source": [
    "<font color=\"green\"><b>TRY IT YOURSELF:</b> \n",
    "<ol style=\"color: green\";\">\n",
    "<li>Print out the depth of drillhole ANT002</li>\n",
    " <li>Append 5 to list_1 and print the updated list</li>\n",
    " <li>Try add  3 and then 6 to my_set like this: my_set.add(3). Print out the updated set. What do you notice? </li>\n",
    "<li>Multiply list_1 by the 2nd number of list_1. Find find the length of the resultant list using len(). </li>\n",
    "</ol>  "
   ]
  },
  {
   "cell_type": "code",
   "execution_count": 3,
   "metadata": {},
   "outputs": [],
   "source": [
    "#1 - Print out the depth of drillhole ANT002.\n",
    "#HINT: drillhole_depths[key]\n",
    "\n",
    "drillhole_depths = {\n",
    "    \"ANT001\":755.7,\n",
    "    \"ANT002\":624.7,\n",
    "    \"ANT003\":342.7\n",
    "} "
   ]
  },
  {
   "cell_type": "code",
   "execution_count": null,
   "metadata": {
    "jupyter": {
     "source_hidden": true
    }
   },
   "outputs": [],
   "source": [
    "# Expand to see how it's done\n",
    "\n",
    "drillhole_depths = {\n",
    "    \"ANT001\":755.7,\n",
    "    \"ANT002\":624.7,\n",
    "    \"ANT003\":342.7\n",
    "}\n",
    "print(drillhole_depths['ANT002'])"
   ]
  },
  {
   "cell_type": "code",
   "execution_count": null,
   "metadata": {},
   "outputs": [],
   "source": [
    "# 2 - Append 5 to list_1 and print the updated list\n",
    "# HINT: list_1.append(...)\n",
    "\n",
    "list_1 = [2,4,7,4]"
   ]
  },
  {
   "cell_type": "code",
   "execution_count": null,
   "metadata": {
    "jupyter": {
     "source_hidden": true
    }
   },
   "outputs": [],
   "source": [
    "# Expand to see how it's done\n",
    "\n",
    "list_1 = [2,4,7,4]\n",
    "list_1.append(5)\n",
    "print(list_1)"
   ]
  },
  {
   "cell_type": "code",
   "execution_count": null,
   "metadata": {},
   "outputs": [],
   "source": [
    "# 3 - Try add 3 and then 6 to my_set like this: my_set.add(3). \n",
    "#Print out the updated set. What do you notice?\n",
    "#HINT: my_set.add(....) OR my_set.update((3,6))\n",
    "\n",
    "my_set = {3,4,5} "
   ]
  },
  {
   "cell_type": "code",
   "execution_count": null,
   "metadata": {
    "jupyter": {
     "source_hidden": true
    }
   },
   "outputs": [],
   "source": [
    "# Expand to see how it's done\n",
    "\n",
    "my_set = {3,4,5} \n",
    "my_set.add(3)\n",
    "my_set.add(6)\n",
    "print(my_set)\n"
   ]
  },
  {
   "cell_type": "code",
   "execution_count": null,
   "metadata": {},
   "outputs": [],
   "source": [
    "# 4 - Multiply list_1 by the 2nd number of list_1. \n",
    "#Find find the length of the resultant list using len().\n",
    "#Type your code here: len(list_1 * list_1[index]) \n",
    "\n",
    "list_1 = [2,4,7,4]"
   ]
  },
  {
   "cell_type": "code",
   "execution_count": null,
   "metadata": {
    "jupyter": {
     "source_hidden": true
    }
   },
   "outputs": [],
   "source": [
    "# Expand to see how it's done\n",
    "\n",
    "list_1 = [2,4,7,4]\n",
    "list_2 = list_1*list_1[1]\n",
    "len(list_2)"
   ]
  },
  {
   "cell_type": "markdown",
   "metadata": {
    "id": "e6lkGrcw8FT5"
   },
   "source": [
    "## Functions\n",
    "A function is a piece of code that performs an action. Code is often broken up into a series of functions, each performing a specific task. \n",
    "\n",
    "* In Python we declare functions using the `def` keyword at the beginning of the line. \n",
    "* All code that forms part of the function is placed on the next **indentation** level. Each indentation is performed by pressing the tab key. \n",
    "* We can press shift + tab to go back to the previous indentation\n",
    "* We can use a function when we call it by name. \n",
    "\n",
    "The classic introduction to any programming language is the hello world function. We will also use the print function, which prints (😲) something to the console."
   ]
  },
  {
   "cell_type": "code",
   "execution_count": null,
   "metadata": {
    "colab": {
     "base_uri": "https://localhost:8080/"
    },
    "executionInfo": {
     "elapsed": 661,
     "status": "ok",
     "timestamp": 1723103166110,
     "user": {
      "displayName": "T S",
      "userId": "01569976147042665237"
     },
     "user_tz": -480
    },
    "id": "JDVQb449_2gl",
    "outputId": "e1f6c136-c063-466e-a03f-dc75344211e5"
   },
   "outputs": [],
   "source": [
    "def hello_world(): #def define the function hello_world. You can name your function anything you like, but it's best to make it sensible\n",
    "  print(\"hello world!\") # the function print hello world\n",
    "\n",
    "hello_world()"
   ]
  },
  {
   "cell_type": "code",
   "execution_count": null,
   "metadata": {
    "colab": {
     "base_uri": "https://localhost:8080/"
    },
    "executionInfo": {
     "elapsed": 191,
     "status": "ok",
     "timestamp": 1723847475807,
     "user": {
      "displayName": "T S",
      "userId": "01569976147042665237"
     },
     "user_tz": -480
    },
    "id": "ZE0mynVSABqb",
    "outputId": "06257d18-3dcd-4a3f-9781-3a653a3e594d"
   },
   "outputs": [],
   "source": [
    "def addition(a,b): \n",
    "  c = a + b\n",
    "  return c \n",
    "\n",
    "addition_result = addition(3,4) \n",
    "print(addition_result)\n"
   ]
  },
  {
   "cell_type": "markdown",
   "metadata": {},
   "source": [
    " <font color=\"green\"><b>TRY IT YOURSELF:</b> Create a function that calculates the average of 3 numbers and prints the result. Use variables so that the 3 inputs can be changed by the user without having to change the code inside the function.</font>  \n",
    " "
   ]
  },
  {
   "cell_type": "code",
   "execution_count": null,
   "metadata": {},
   "outputs": [],
   "source": [
    "#Type your code here\n"
   ]
  },
  {
   "cell_type": "code",
   "execution_count": null,
   "metadata": {
    "jupyter": {
     "source_hidden": true
    }
   },
   "outputs": [],
   "source": [
    "#@title Expand to see how its done\n",
    "\n",
    "def average_of_three_numbers(num1, num2, num3):\n",
    "    average = (num1 + num2 + num3)/3\n",
    "    print(average)\n",
    "\n",
    "average_of_three_numbers(2,4,12)"
   ]
  },
  {
   "cell_type": "markdown",
   "metadata": {
    "id": "MP5cKlV6VToU"
   },
   "source": [
    "# Loops\n",
    "If we want to repeat an action multiple times, sometimes changing only a few factors, we can use a loop to automate that action. Loops come in two flavours:\n",
    "`for` and `while` loops.\n",
    "## `For` loop:\n",
    "A `for` loop repeats an action for every object in a given group (list, dict, array, etc). The loop will be performed for all code that is within the next **indentation** level. Each indentation is performed by pressing the `tab` key. We can press `shift` + `tab` to go back to the previous indentation"
   ]
  },
  {
   "cell_type": "code",
   "execution_count": null,
   "metadata": {
    "id": "Kppht9xLZvG6"
   },
   "outputs": [],
   "source": [
    "# different indentation levels\n",
    "a\n",
    "  b\n",
    "    c\n",
    "      d\n"
   ]
  },
  {
   "cell_type": "code",
   "execution_count": null,
   "metadata": {},
   "outputs": [],
   "source": [
    "#For loop example:\n",
    "\n",
    "file_names = ['ANT001_COLLAR.csv', 'Ant001_stratigraphy.csv', 'ANT002_COLLAR.csv', 'ant002_assay.csv', 'aNT003_COLLAR'] \n",
    "\n",
    "unique_drillhole_ids = set()\n",
    "\n",
    "for file in file_names:\n",
    "    file = file.lower() #make all characters in a string lowercase\n",
    "    drillhole_id = file.split(\"_\")[0] \n",
    "    unique_drillhole_ids.add(drillhole_id)\n",
    "\n",
    "print(f'There are {len(unique_drillhole_ids)} drillholes.')\n",
    "print(f'Unique drillhole IDs: {unique_drillhole_ids}')"
   ]
  },
  {
   "cell_type": "markdown",
   "metadata": {},
   "source": [
    " <font color=\"green\"><b>TRY IT YOURSELF:</b> Two dictionaries are provided. One is total drillhole depth, the other is rc precollar depth. Use a for-loop to loop through all drillholes and calculate the total diamond drill depth by substracting the precollar depth from the total depth.</font>  "
   ]
  },
  {
   "cell_type": "code",
   "execution_count": null,
   "metadata": {},
   "outputs": [],
   "source": [
    "drillhole_total_depths = {\n",
    "    \"ANT001\":755.7,\n",
    "    \"ANT002\":624.7,\n",
    "    \"ANT003\":342.7,\n",
    "    \"ANT004\": 150\n",
    "} \n",
    "\n",
    "drillhole_rc_precollar_depth = {\n",
    "    \"ANT001\":104.7,\n",
    "    \"ANT002\":117,\n",
    "    \"ANT003\":104.7,\n",
    "    \"ANT004\": 141\n",
    "}\n",
    "#Hint: you can get a list of dictionary keys as follows: drillhole_ids = list(drillhole_total_depths.keys())\n",
    "#Use a for-loop to loop through all IDS in drillhole_ids\n",
    "# Use the id's as dictionary keys to get total depth and rc depth per drillhole\n",
    "# Subtract precollar depth from total depth (inside the for-loop)\n",
    "# Print the key value and total diamond drill depth calculated (inside the for-loop)\n"
   ]
  },
  {
   "cell_type": "code",
   "execution_count": null,
   "metadata": {
    "jupyter": {
     "source_hidden": true
    }
   },
   "outputs": [],
   "source": [
    "#@title Expand to see how it's done\n",
    "\n",
    "drillhole_total_depths = {\n",
    "    \"ANT001\":755.7,\n",
    "    \"ANT002\":624.7,\n",
    "    \"ANT003\":342.7,\n",
    "    \"ANT004\": 150\n",
    "} \n",
    "\n",
    "drillhole_rc_precollar_depth = {\n",
    "    \"ANT001\":104.7,\n",
    "    \"ANT002\":117,\n",
    "    \"ANT003\":104.7,\n",
    "    \"ANT004\": 141\n",
    "}\n",
    "\n",
    "drillhole_ids = list(drillhole_total_depths.keys())\n",
    "\n",
    "for dh_id in drillhole_ids:\n",
    "    total_diamond_drill_depth = drillhole_total_depths[dh_id] - drillhole_rc_precollar_depth[dh_id]\n",
    "    print(dh_id, total_diamond_drill_depth)\n"
   ]
  },
  {
   "cell_type": "markdown",
   "metadata": {},
   "source": [
    "\n",
    "## `While` loop:\n",
    "A `while` loop repeats an action while a condition is `True`\n"
   ]
  },
  {
   "cell_type": "code",
   "execution_count": null,
   "metadata": {},
   "outputs": [],
   "source": [
    "#While loop example 1\n",
    "# IMPORTANT: Becareful when running this cell because Jupyter notebook doesn't handle interactive inputs well. \n",
    "#    If you run the cell, make sure you complete the interaction by typing 'exit' in the input box. \n",
    "#    If you navigate away and run another cell without exiting this loop, you may need to restart your kernel.\n",
    "\n",
    "user_input = \"\"\n",
    "\n",
    "while user_input != \"exit\":\n",
    "    user_input = input(\"Type 'exit' to stop: \")\n",
    "    print(\"You typed:\")\n",
    "print('You have exited.')"
   ]
  },
  {
   "cell_type": "code",
   "execution_count": null,
   "metadata": {},
   "outputs": [],
   "source": [
    "# While loop example 2 \n",
    "Max_number = 20 \n",
    "counter = 0 \n",
    "while counter < Max_number: \n",
    "  print(counter) \n",
    "  counter += 2 \n"
   ]
  },
  {
   "cell_type": "markdown",
   "metadata": {},
   "source": [
    " <font color=\"green\"><b>TRY IT YOURSELF:</b> We can use lists to iteratively store the outputs from a loop. A counter, a list, and a max_number have been provided. While the counter is LESS THAN the max_number, 1) increment the counter value by 1, 2) append the new counter value to the list, and 3) print out the list.</font>  "
   ]
  },
  {
   "cell_type": "code",
   "execution_count": null,
   "metadata": {},
   "outputs": [],
   "source": [
    "counter=0\n",
    "max_value = 10\n",
    "my_list = []\n",
    "\n",
    "#Type your code here"
   ]
  },
  {
   "cell_type": "code",
   "execution_count": null,
   "metadata": {
    "jupyter": {
     "source_hidden": true
    }
   },
   "outputs": [],
   "source": [
    "#@title Expand to see how it's done\n",
    "\n",
    "counter=0\n",
    "max_value = 10\n",
    "my_list = []\n",
    "\n",
    "while counter < max_value:\n",
    "    counter +=1 # could also write counter = counter + 1\n",
    "    my_list.append(counter)\n",
    "    print(my_list)"
   ]
  },
  {
   "cell_type": "markdown",
   "metadata": {
    "id": "_NwBOqO3an_2"
   },
   "source": [
    "# Conditionals and control\n",
    "Conditionals in Python, like in many other programming languages, allow you to make decisions in your code. They help your programs to behave differently based on certain conditions. In Python, you use if, elif (else if), and else statements to create conditionals.\n",
    "\n",
    "1. if Statements:\n",
    "The if statement is used to execute a block of code if a condition is true.\n",
    "\n",
    "2. elif Statements:\n",
    "elif is short for \"else if\". It allows you to check multiple conditions. If the first if condition is false, it checks the next elif condition, and so on.\n",
    "\n",
    "3. else Statements:\n",
    "The else statement is used to execute a block of code if none of the conditions in the if and elif statements are true.\n",
    "\n",
    "4. Nesting Conditionals:\n",
    "You can also nest conditionals inside each other to handle more complex situations."
   ]
  },
  {
   "cell_type": "code",
   "execution_count": null,
   "metadata": {
    "id": "BoQUtCKPanIg"
   },
   "outputs": [],
   "source": [
    "# if statement:\n",
    "num = 15\n",
    "if num % 2 == 0:\n",
    "    print(\"Even\")"
   ]
  },
  {
   "cell_type": "code",
   "execution_count": null,
   "metadata": {
    "colab": {
     "base_uri": "https://localhost:8080/"
    },
    "executionInfo": {
     "elapsed": 131,
     "status": "ok",
     "timestamp": 1723848238144,
     "user": {
      "displayName": "T S",
      "userId": "01569976147042665237"
     },
     "user_tz": -480
    },
    "id": "C2WqOLzgbc9O",
    "outputId": "2b455644-23ea-4885-de81-65d079144ce2"
   },
   "outputs": [],
   "source": [
    "# else statement\n",
    "num = 15\n",
    "if num % 2 == 0:\n",
    "    print(\"Even\")\n",
    "else:\n",
    "    print(\"Odd\")"
   ]
  },
  {
   "cell_type": "code",
   "execution_count": null,
   "metadata": {
    "colab": {
     "base_uri": "https://localhost:8080/"
    },
    "executionInfo": {
     "elapsed": 173,
     "status": "ok",
     "timestamp": 1723848213707,
     "user": {
      "displayName": "T S",
      "userId": "01569976147042665237"
     },
     "user_tz": -480
    },
    "id": "Bvgd8HMSbaw0",
    "outputId": "59e4fc36-8842-41ab-e91b-6ea9d31bfd13"
   },
   "outputs": [],
   "source": [
    "# elif statement:\n",
    "average_grams_per_tonne = 7.85\n",
    "if average_grams_per_tonne >= 10:\n",
    "    print(\"High grade\")\n",
    "elif average_grams_per_tonne >= 5:\n",
    "    print(\"Medium grade\")\n",
    "elif average_grams_per_tonne>=1:\n",
    "    print(\"Low grade\")\n",
    "else:\n",
    "    print('Subeconomic')\n"
   ]
  },
  {
   "cell_type": "markdown",
   "metadata": {
    "id": "hoyoq6_XcUJO"
   },
   "source": [
    "## We can mix loops and conditionals to make more complex actions\n",
    "Have you ever inhereted a messy  folder of project data? Let's standardise file names in the Antrim_Data folder provided."
   ]
  },
  {
   "cell_type": "code",
   "execution_count": null,
   "metadata": {
    "colab": {
     "base_uri": "https://localhost:8080/"
    },
    "executionInfo": {
     "elapsed": 695,
     "status": "ok",
     "timestamp": 1723103501617,
     "user": {
      "displayName": "T S",
      "userId": "01569976147042665237"
     },
     "user_tz": -480
    },
    "id": "QSIubGPLb-Ce",
    "outputId": "5dbaefe5-3437-4e07-9f41-7fbbec65cb2a"
   },
   "outputs": [],
   "source": [
    "counter = 0\n",
    "max_value = 20\n",
    "numbers = [] #create an empty list\n",
    "while counter < max_value:\n",
    "  if counter % 2 == 0:\n",
    "    numbers.append(counter) # the .append method appends an object to the end of the list\n",
    "  counter += 1\n",
    "print(numbers)\n"
   ]
  },
  {
   "cell_type": "markdown",
   "metadata": {},
   "source": [
    " <font color=\"green\"><b>TRY IT YOURSELF:</b> We'll try out the classic \"Fizz-Buzz\" exercise. Write a piece of code that will print all numbers until 50. Replace multiples of 3 with  \"fizz\". Replace multiples of 5 with \"buzz\". Replace multiples of both 3 and 5 with \"fizz-buzz\".</font>  "
   ]
  },
  {
   "cell_type": "code",
   "execution_count": null,
   "metadata": {},
   "outputs": [],
   "source": [
    "for number in range(51):\n",
    "    if ....:\n",
    "        \n",
    "    elif....:\n",
    "    \n",
    "    elif....:\n",
    "    \n",
    "    else:\n",
    "      \n",
    "     "
   ]
  },
  {
   "cell_type": "code",
   "execution_count": null,
   "metadata": {
    "jupyter": {
     "source_hidden": true
    }
   },
   "outputs": [],
   "source": [
    "# Expand to see how it's done\n",
    "\n",
    "for number in range(51):\n",
    "    if number%5 == 0 and number%3 == 0:\n",
    "        print(\"fizz-buzz\")\n",
    "        \n",
    "    elif number%5 == 0:\n",
    "        print(\"buzz\")\n",
    "    \n",
    "    elif number%3 == 0:\n",
    "        print(\"fizz\")\n",
    "    \n",
    "    else:\n",
    "        print(number)"
   ]
  },
  {
   "cell_type": "markdown",
   "metadata": {
    "id": "Epx8JQcy_vj6"
   },
   "source": [
    "# The true power of Python: Libraries (or modules)\n",
    "Libraries extend the functionality of Python. There are some built-in Python libraries (e.g. math), but there are many more libraries created by the Python community. Whenever you want to do something on Python, chances are that someone has already created a library to make your life easier. First, we must import the desired library using the `import` statement. Generally, imports are in the first part of the code.\n",
    "\n",
    "Examples of built-in libraries are `math`, `os`, `time`,`stats`, etc\n",
    "\n",
    "The `math` library, for example, has many useful mathematical functions already implemented. Once we import the library we can access the functions in the library by using the `.` after the name of the library:\n",
    "`math.cos()` would give you the cosine function. Certain libraries also have attributes which can be accessed in the same way, such as `math.pi`. Note that this is not a function, so it does not need the parentheses after it."
   ]
  },
  {
   "cell_type": "code",
   "execution_count": null,
   "metadata": {
    "colab": {
     "base_uri": "https://localhost:8080/"
    },
    "executionInfo": {
     "elapsed": 172,
     "status": "ok",
     "timestamp": 1723848702794,
     "user": {
      "displayName": "T S",
      "userId": "01569976147042665237"
     },
     "user_tz": -480
    },
    "id": "VUxKPC2W_pzU",
    "outputId": "2937e65c-fb65-499c-d582-896419385c0f"
   },
   "outputs": [],
   "source": [
    "import math\n",
    "c = math.cos(math.pi) # we use the dot to access the cosine function\n",
    "print(c)"
   ]
  },
  {
   "cell_type": "markdown",
   "metadata": {
    "id": "gHZu6eMo6bEk"
   },
   "source": [
    "We can also import only certain functions of a library. In that case we do not need to use the `math.cos()` anymore, we can call the function directly."
   ]
  },
  {
   "cell_type": "code",
   "execution_count": null,
   "metadata": {
    "colab": {
     "base_uri": "https://localhost:8080/"
    },
    "executionInfo": {
     "elapsed": 2,
     "status": "ok",
     "timestamp": 1723103562881,
     "user": {
      "displayName": "T S",
      "userId": "01569976147042665237"
     },
     "user_tz": -480
    },
    "id": "HkgxHVYBvrut",
    "outputId": "549c510b-d35c-4f01-b26b-2d6649b55aeb"
   },
   "outputs": [],
   "source": [
    "from math import cos\n",
    "c = cos(math.pi)\n",
    "print(c)"
   ]
  },
  {
   "cell_type": "markdown",
   "metadata": {
    "id": "XfaS6BJMwhZU"
   },
   "source": [
    "Finally, we can also import a library with an alias that will be used throughout the code. This is useful for libraries with longer names."
   ]
  },
  {
   "cell_type": "code",
   "execution_count": null,
   "metadata": {},
   "outputs": [],
   "source": [
    "import matplotlib.pyplot as plt\n",
    "fig, ax = plt.subplots()  \n",
    "plt.show()                "
   ]
  },
  {
   "cell_type": "markdown",
   "metadata": {
    "id": "3ZayDi_MxKb0"
   },
   "source": [
    "## External libraries\n",
    "\n",
    "These libraries, created and shared by the global Python community, cater to diverse needs such as data analysis, web development, machine learning, and more. For instance, the Pandas library simplifies data manipulation and analysis through its powerful data structures, the Matplotlib library enables high-quality data visualization and numpy for numerical calculations. These libraries expand Python's capabilities dramatically, allowing developers to leverage pre-built solutions and focus more on problem-solving rather than reinventing the wheel.\n",
    "\n",
    "In this workshop, we`ll be using mostly external libraries and applying them to geology related problems. The main libraries we'll use are:\n",
    "- [numpy](https://numpy.org/)\n",
    "- [scipy](https://scipy.org/)\n",
    "- [matplotlib](https://matplotlib.org/)\n",
    "- [pandas](https://pandas.pydata.org/)\n",
    "- [geopandas](https://geopandas.org/en/stable/)\n",
    "- [seaborn](https://seaborn.pydata.org/)\n",
    "- [pyrolite](https://pyrolite.readthedocs.io/en/main/) (developed by Morgan Williams of CSIRO)\n",
    "- [PyGMT](https://www.pygmt.org/latest/index.html) (maintained by a group of geophysicists in various places)\n",
    "\n",
    "For example the `numpy` library extends (a lot) the functionality of the `math` library. One use case is that `math` operates on single objects, whereas `numpy` operates on arrays (a type of group of objects) directly, which saves us from using loops all the time. This is great, because loops are very inefficient in terms of speed. It might not be vital for short tasks, but it scales very quickly."
   ]
  },
  {
   "cell_type": "markdown",
   "metadata": {},
   "source": [
    "## Numpy\n",
    "This is your go-to for almost all numerical applications in Python. Numpy is a fast, highly optimized library for working with arrays of numbers.\n",
    "\n",
    "Let's compare working with math vs working with numpy.\n"
   ]
  },
  {
   "cell_type": "code",
   "execution_count": null,
   "metadata": {
    "colab": {
     "base_uri": "https://localhost:8080/"
    },
    "executionInfo": {
     "elapsed": 180,
     "status": "ok",
     "timestamp": 1723845290037,
     "user": {
      "displayName": "T S",
      "userId": "01569976147042665237"
     },
     "user_tz": -480
    },
    "id": "6GZX8d2k7Lx4",
    "outputId": "b5e87cc1-e36d-4af6-af69-844aadf68524"
   },
   "outputs": [],
   "source": [
    "# with math\n",
    "import math\n",
    "\n",
    "number_range = range(0,20,1) # built-in function to define a range of numbers: range(start number, number to stop before, increment)\n",
    "results = [] # create list to store results\n",
    "for i in number_range:\n",
    "  results.append(math.sqrt(i))\n",
    "print(results)\n"
   ]
  },
  {
   "cell_type": "code",
   "execution_count": null,
   "metadata": {
    "colab": {
     "base_uri": "https://localhost:8080/"
    },
    "executionInfo": {
     "elapsed": 160,
     "status": "ok",
     "timestamp": 1723845309740,
     "user": {
      "displayName": "T S",
      "userId": "01569976147042665237"
     },
     "user_tz": -480
    },
    "id": "6_30bUC3xJFW",
    "outputId": "82047b7a-f115-4940-cf52-fec52ab37126"
   },
   "outputs": [],
   "source": [
    "# with numpy\n",
    "import numpy as np # common alias for numpy\n",
    "\n",
    "results = np.sqrt(number_range) # we can operate directly on the range object\n",
    "results # the object is returned as an array data type, which is the type on which numpy operates"
   ]
  },
  {
   "cell_type": "code",
   "execution_count": null,
   "metadata": {
    "colab": {
     "base_uri": "https://localhost:8080/"
    },
    "executionInfo": {
     "elapsed": 2,
     "status": "ok",
     "timestamp": 1723845497804,
     "user": {
      "displayName": "T S",
      "userId": "01569976147042665237"
     },
     "user_tz": -480
    },
    "id": "0OGLVYq-0f7f",
    "outputId": "3d58b23a-172a-4f1e-c052-e5bc802b5322"
   },
   "outputs": [],
   "source": [
    "# We can access items in the array by using indexes (positional number in the list).\n",
    "# Keep in mind that Python starts counting from 0.\n",
    "arr = np.arange(0,100,5) # start, stop, step\n",
    "print(arr[2]) # returns the third item in the array"
   ]
  },
  {
   "cell_type": "code",
   "execution_count": null,
   "metadata": {
    "colab": {
     "base_uri": "https://localhost:8080/"
    },
    "executionInfo": {
     "elapsed": 152,
     "status": "ok",
     "timestamp": 1723845460717,
     "user": {
      "displayName": "T S",
      "userId": "01569976147042665237"
     },
     "user_tz": -480
    },
    "id": "JaqPRPuf09WM",
    "outputId": "a4318720-a2a8-4ead-cf87-66616e223551"
   },
   "outputs": [],
   "source": [
    "print(arr[-1]) # -1 is a shortcut for last item in the array. We can count backwards from -1"
   ]
  },
  {
   "cell_type": "code",
   "execution_count": null,
   "metadata": {
    "colab": {
     "base_uri": "https://localhost:8080/"
    },
    "executionInfo": {
     "elapsed": 150,
     "status": "ok",
     "timestamp": 1723845495989,
     "user": {
      "displayName": "T S",
      "userId": "01569976147042665237"
     },
     "user_tz": -480
    },
    "id": "i9ILgIJv1ONX",
    "outputId": "dbf03e85-046e-4542-a128-a9be126bb4c4"
   },
   "outputs": [],
   "source": [
    "# we can also index with slices\n",
    "# [start:stop] where stop is not inclusive\n",
    "print(arr[0:5]) # first five items of the array"
   ]
  },
  {
   "cell_type": "markdown",
   "metadata": {
    "id": "ASamCBYa27e3"
   },
   "source": [
    "## Matplotlib"
   ]
  },
  {
   "cell_type": "markdown",
   "metadata": {},
   "source": [
    "Matplotlib is a powerful plotting library. We will use it a lot to graph data and show images."
   ]
  },
  {
   "cell_type": "code",
   "execution_count": null,
   "metadata": {},
   "outputs": [],
   "source": [
    "import matplotlib.pyplot as plt\n",
    "\n",
    "# What is being plotted\n",
    "\n",
    "x = np.arange(0, 2*math.pi+1, math.pi/18)\n",
    "\n",
    "y1 = np.sin(x)**2\n",
    "y2 = 2*np.cos(x)\n",
    "\n",
    "plt.figure(figsize=(6, 4))  # create a figure, you can adjust the numbers (10, 6) to your desired width and height\n",
    "\n",
    "# actually plotting\n",
    "plt.plot(x, # what's on the x-axis\n",
    "         y1, # what's on the y-axis\n",
    "         color=\"blue\", # colour of the line\n",
    "         ls=\"--\", # linestyle\n",
    "         label=\"sine**2\" # label for the legend\n",
    ")\n",
    "\n",
    "plt.plot(x,\n",
    "         y2,\n",
    "         color=\"red\",\n",
    "         ls=\":\",\n",
    "         label=\"2*cosine\"\n",
    "  )\n",
    "\n",
    "plt.grid() # place a grid on our plot\n",
    "plt.legend(title=\"Legend\") # place a legend\n",
    "plt.title(\"Example Plot\") # give a title to your plot\n",
    "plt.xlabel(\"x-axis\") # give label to your x axis\n",
    "plt.ylabel(\"y-axis\") # give label to your y axis\n",
    "\n",
    "# Changing the ticks on the x-axis to be a function of pi\n",
    "plt.xticks(np.arange(0,2*math.pi+1,math.pi/2),\n",
    "           labels=[\"0\",r\"$\\pi$/2\",r\"$\\pi$\",r\"3$\\pi$/2\",r\"2$\\pi$\"]); # $$ is just to render the letter pi\n",
    "\n"
   ]
  },
  {
   "cell_type": "markdown",
   "metadata": {},
   "source": [
    "We can also create a figure with multiple plots in it.\n",
    "\n",
    "    Figure (fig): A Figure in Matplotlib represents the whole figure or window in the GUI environment. It's the top-level container that holds everything on a canvas. When you create a new figure, you're creating a new blank canvas where you can plot your data.\n",
    "\n",
    "    Axes (ax): An Axes in Matplotlib represents a subplot, which is an individual plot inside a figure. A figure can have multiple subplots arranged in rows and columns. The Axes object is what you work with to create plots and set plot properties.\n",
    "\n",
    "When you use plt.subplots(), it creates a new Figure and a single Axes. The fig variable holds the Figure object, and the ax variable holds the Axes object. You can create multiple subplots using plt.subplots(nrows, ncols) to create an array of Axes objects within a single Figure.\n"
   ]
  },
  {
   "cell_type": "code",
   "execution_count": null,
   "metadata": {},
   "outputs": [],
   "source": [
    "fig, axes = plt.subplots(1,2,figsize=(10,4), sharey=True) # a figure with two plots in two different columns sharing the y-axis\n",
    "\n",
    "axes[0].plot(x,y1,color=\"blue\",ls=\"--\")\n",
    "axes[1].plot(x,y2,color=\"red\",ls=\":\")\n",
    "\n",
    "for ax in axes.flatten():\n",
    "  ax.grid()\n",
    "  # when using the ax objects the syntax might be slightly different, but the rationale is the same\n",
    "  ax.set_xticks(np.arange(0,2*math.pi+1,math.pi/2))\n",
    "  ax.set_xticklabels([\"0\",\"\",\"\",\"\",\"\"])\n",
    "\n",
    "fig.suptitle(\"Figure with multiple plots\");\n",
    "     "
   ]
  },
  {
   "cell_type": "markdown",
   "metadata": {},
   "source": [
    "<font color=\"green\"><b>TRY IT YOURSELF:</b> Plot 2 curves on the same plot:\n",
    "<ol style=\"color: green\";\">\n",
    "<li>An exponential function. HINT: use np.exp(x)</li>\n",
    " <li>A 2nd order polynomial. HINT: use **2.</li>\n",
    " <li>Plot each graph over the range 0<= x <5.</li>\n",
    "</ol>  "
   ]
  },
  {
   "cell_type": "code",
   "execution_count": null,
   "metadata": {},
   "outputs": [],
   "source": [
    "#Define x values over the range 0 to 5\n",
    "x = np.arange(......)\n",
    "\n",
    "#Calculate the y for the exponential function and plot x vs y.\n",
    "y1 = \n",
    "\n",
    "#Calculate the y for the second order polynomial and plot x vs y.\n",
    "y2 = \n",
    "\n",
    "#create a subplot with two graphs in it.\n",
    "fig, axes = plt.subplots(1,2,figsize=(10,4), sharey=True)\n",
    "axes[0].plot(...)\n",
    "axes[1].plot(...)\n",
    "     \n"
   ]
  },
  {
   "cell_type": "code",
   "execution_count": null,
   "metadata": {
    "jupyter": {
     "source_hidden": true
    }
   },
   "outputs": [],
   "source": [
    "# Expand to see how it's done\n",
    "\n",
    "#Define x values over the range 0 to 5\n",
    "x = np.arange(0,5) #arange is inclusive of the start number, but exclusive of the end number\n",
    "\n",
    "#Calculate the y for the exponential function and plot x vs y.\n",
    "y1 = np.exp(x)\n",
    "\n",
    "#Calculate the y for the second order polynomial and plot x vs y.\n",
    "y2 = x**2\n",
    "\n",
    "#create a subplot with two graphs in it.\n",
    "fig, axes = plt.subplots(1,2,figsize=(10,4), sharey=True)\n",
    "axes[0].plot(x, y1, c='blue')\n",
    "axes[1].plot (x, y2, c='red')\n",
    "axes[0].set_xlabel('X-values')\n",
    "axes[1].set_xlabel('X-values')\n",
    "axes[0].set_ylabel('Y-values')\n",
    "     \n"
   ]
  },
  {
   "cell_type": "markdown",
   "metadata": {},
   "source": [
    "## One final example to bring it all togther"
   ]
  },
  {
   "cell_type": "markdown",
   "metadata": {},
   "source": [
    "Here we create a function that does the following, when given a folder location:\n",
    "- Create subfolders for images and csv files inside the folder location provided.\n",
    "- Identifies images in the folder and moves them to the new image subfolder.\n",
    "- Identifies csv files in the folder and moves them to the new csv subfolder.\n",
    "- Ignores any other files in the folder."
   ]
  },
  {
   "attachments": {},
   "cell_type": "markdown",
   "metadata": {},
   "source": [
    "![Example_explanation.jpg](https://raw.githubusercontent.com/TarynScharf/PythonWorkshop/refs/heads/main/SEG/NotebookImages/Notebook1_final_example_explanation.jpg)"
   ]
  },
  {
   "cell_type": "code",
   "execution_count": null,
   "metadata": {},
   "outputs": [],
   "source": [
    "#Import the os library \n",
    "import os\n",
    "\n",
    "folder_path = 'Drillhole_files'\n",
    "\n",
    "def folder_clean_up(folder_path):\n",
    "    \n",
    "    #create two new folders, one for excel and one for image files\n",
    "    excel_data_folder = os.path.join(folder_path, 'drillhole_data')\n",
    "    image_data_folder = os.path.join(folder_path, 'drillhole_images')\n",
    "    \n",
    "    #To not overwrite a folder, first we must check if it already exists. We only create the new folder if it DOESN'T already exist\n",
    "    if not os.path.exists(excel_data_folder):\n",
    "            os.makedirs(excel_data_folder)\n",
    "        \n",
    "    if not os.path.exists(image_data_folder):\n",
    "            os.makedirs(image_data_folder)\n",
    "    \n",
    "    #Get a list of all items in the folder using the os library\n",
    "    folder_contents = os.listdir(folder_path)\n",
    "    \n",
    "    #Use a For-loop to iterate through every item in the list\n",
    "    for item in folder_contents:\n",
    "    \n",
    "        #Use an if-statement to check whether the item is a folder. If it is, ignore the item.\n",
    "        if os.path.isdir(os.path.join(folder_path,item)):\n",
    "            continue\n",
    "            \n",
    "        #If it's not a folder, get the file extension. \n",
    "        file_extension = os.path.splitext(item)[-1]\n",
    "    \n",
    "        if file_extension == '.xlsx':\n",
    "            old_file_path = os.path.join(folder_path, item)\n",
    "            new_file_path = os.path.join(excel_data_folder, item)\n",
    "            os.replace(old_file_path, new_file_path)\n",
    "            \n",
    "        elif file_extension == '.jpg':\n",
    "            old_file_path = os.path.join(folder_path, item)\n",
    "            new_file_path = os.path.join(image_data_folder, item)\n",
    "            os.replace(old_file_path, new_file_path)"
   ]
  },
  {
   "cell_type": "code",
   "execution_count": null,
   "metadata": {},
   "outputs": [],
   "source": [
    "my_folder = \"Dillhole_files\"\n",
    "folder_clean_up(my_folder)"
   ]
  },
  {
   "cell_type": "markdown",
   "metadata": {},
   "source": [
    "## Understanding errors"
   ]
  },
  {
   "cell_type": "markdown",
   "metadata": {},
   "source": [
    "Let's run each of these cells and fix the errors that pop up."
   ]
  },
  {
   "cell_type": "code",
   "execution_count": null,
   "metadata": {},
   "outputs": [],
   "source": [
    "if not os.path.isfile(os.path.join(folder_path,item):"
   ]
  },
  {
   "cell_type": "code",
   "execution_count": null,
   "metadata": {},
   "outputs": [],
   "source": [
    "my_list = list(range(2,7))\n",
    "print(f'my list contains {len(my_list)} items: {my_list}')\n",
    "my_list_item = my_list[6]"
   ]
  },
  {
   "cell_type": "code",
   "execution_count": null,
   "metadata": {},
   "outputs": [],
   "source": [
    "grade_value = 10.5\n",
    "print (grades_value)"
   ]
  },
  {
   "cell_type": "code",
   "execution_count": null,
   "metadata": {},
   "outputs": [],
   "source": [
    "for i in range(5):\n",
    "print(i+5)"
   ]
  },
  {
   "cell_type": "code",
   "execution_count": null,
   "metadata": {},
   "outputs": [],
   "source": [
    "9/0"
   ]
  },
  {
   "cell_type": "code",
   "execution_count": null,
   "metadata": {},
   "outputs": [],
   "source": [
    "Antrim_drillhole_names = 'ant1'\n",
    "Antrim_drillhole_names.append('ant2')"
   ]
  },
  {
   "cell_type": "code",
   "execution_count": null,
   "metadata": {},
   "outputs": [],
   "source": [
    "x = 9\n",
    "y = 'eight'\n",
    "\n",
    "print(x+y)"
   ]
  },
  {
   "cell_type": "code",
   "execution_count": null,
   "metadata": {},
   "outputs": [],
   "source": [
    "print(9 * 'eight')"
   ]
  },
  {
   "cell_type": "code",
   "execution_count": null,
   "metadata": {},
   "outputs": [],
   "source": [
    "Antrim_collar_coordinates = {\n",
    "    'ANT001': [572022, 7978167],\n",
    "    'ANT002': [564818,7995173]\n",
    "    }\n",
    "\n",
    "print(Antrim_collar_coordinates['ANT003'])"
   ]
  },
  {
   "cell_type": "markdown",
   "metadata": {},
   "source": [
    "# FAQ"
   ]
  },
  {
   "cell_type": "markdown",
   "metadata": {},
   "source": [
    "### Am I supposed to remember all this syntax?\n",
    "No. You're a geoscientist not a programmer! You should have awareness of **what is possible**. You can always look up syntax online. If you're trying to do something you've never done before, simply google it. There will be a lot of online help to guide you through your question.\n",
    "\n",
    "### Where do I find help if I'm trying to code on my own?\n",
    "- Online community forums e.g. Stack exchange (highly recommended - if  you have a question, it's probably been asked on stack exchange already)\n",
    "- Free learning websites e.g. Geeksforgeeks - great if you want a quick, clean example of  how to use a particular command.\n",
    "- Python modules  have documentation and tutorials online. There are important resources when you need to understand the specifics of any command you are running.\n",
    "- Many Python courses are available online. Often, they will be paid courses, but some allow you to 'audit' the course for free.\n",
    "### Why learn python if I can ask ChatGPT, Gemini etc.?\n",
    "Generative AI can be extremely useful when coding. E.g.\n",
    "- It can help you create data processing pipelines from plain-text prompts, especially when you're not sure exactly how to do it.\n",
    "- It can help with debugging, especially when you don't understand what's going wrong.\n",
    "- It can provide you the syntax for every-day commands when you can't remember them.\n",
    "\n",
    "However, despite appearing intelligent, **it is only a machine**. There are two important reasons to be python-literate:\n",
    "- Generative AI often makes mistakes and if you are not Python-literate, these can be hard to spot. **Generative AI is powerful but we strongly recommend developing Python-literacy so you can guard against errors.**  Just because the code works,  doesn't mean it's doing what you want!  However, if your company allows, it's a valuable tool to save you time and help you learn. Remember not to put **sensitive information** into the model, as inputs are used for training the model further. \n",
    "- The more specialised your needs, the less likely ChatGPT will be able to help. If you're python-literate, you can build on the feedback from sources like ChatGPT and StackExchange to meet your own unique needs.\n"
   ]
  },
  {
   "cell_type": "code",
   "execution_count": null,
   "metadata": {},
   "outputs": [],
   "source": []
  }
 ],
 "metadata": {
  "colab": {
   "provenance": []
  },
  "kernelspec": {
   "display_name": "Python 3 (ipykernel)",
   "language": "python",
   "name": "python3"
  },
  "language_info": {
   "codemirror_mode": {
    "name": "ipython",
    "version": 3
   },
   "file_extension": ".py",
   "mimetype": "text/x-python",
   "name": "python",
   "nbconvert_exporter": "python",
   "pygments_lexer": "ipython3",
   "version": "3.13.5"
  }
 },
 "nbformat": 4,
 "nbformat_minor": 4
}
