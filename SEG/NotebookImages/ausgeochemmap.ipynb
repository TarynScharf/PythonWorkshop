{
 "cells": [
  {
   "cell_type": "code",
   "execution_count": null,
   "id": "47e7ef2f-20ff-4b18-8933-c55b43a395b0",
   "metadata": {},
   "outputs": [],
   "source": [
    "import matplotlib.pyplot as plt\n",
    "import cartopy.crs as ccrs\n",
    "import cartopy.feature as cfeature\n",
    "\n",
    "\n",
    "named_colours = [\n",
    "    \"silver\", \"lightseagreen\", \"mediumorchid\", \"pink\", \"orange\", \n",
    "]\n",
    "\n",
    "unique_rocktypes = df_classified[\"sample_material\"].unique()\n",
    "color_map = dict(zip(unique_rocktypes, named_colours))\n",
    "\n",
    "# --- set up the map projection ---\n",
    "fig, ax = plt.subplots(\n",
    "    figsize=(4, 7),\n",
    "    subplot_kw={\"projection\": ccrs.PlateCarree()}\n",
    ")\n",
    "\n",
    "\n",
    "ax.set_extent([112.5, 125.5, -37.5, -17.5])  # lon_min, lon_max, lat_min, lat_max (Australia box)\n",
    "ax.add_feature(cfeature.COASTLINE)\n",
    "ax.add_feature(cfeature.BORDERS, linestyle=\":\")\n",
    "ax.add_feature(cfeature.LAND, facecolor=\"white\")\n",
    "ax.add_feature(cfeature.OCEAN, facecolor=\"lightblue\")\n",
    "ax.add_feature(cfeature.LAKES, edgecolor=\"black\")\n",
    "ax.add_feature(cfeature.RIVERS)\n",
    "\n",
    "\n",
    "for rock, colour in color_map.items():\n",
    "    data = df_classified[df_classified['sample_material']==rock]\n",
    "    ax.scatter(\n",
    "        data[\"longitude\"], \n",
    "        data[\"latitude\"],\n",
    "        c = colour,\n",
    "        label=rock,\n",
    "        s=70,\n",
    "        marker = 'o',\n",
    "        transform=ccrs.PlateCarree(),\n",
    "        alpha=0.7, edgecolor=\"k\"\n",
    "    )\n",
    "gl = ax.gridlines(draw_labels=True, linestyle=\"--\", alpha=0.5)\n",
    "gl.top_labels = False    # turn off top labels\n",
    "gl.right_labels = False  # turn off right labels\n",
    "\n",
    "ax.legend(title=\"Sample Material\", bbox_to_anchor=(1.05, 1), loc=\"upper left\")\n",
    "\n",
    "plt.savefig('ausgeochemsamples.png', dpi=150, bbox_inches='tight')\n",
    "\n"
   ]
  }
 ],
 "metadata": {
  "kernelspec": {
   "display_name": "Python 3 (ipykernel)",
   "language": "python",
   "name": "python3"
  },
  "language_info": {
   "codemirror_mode": {
    "name": "ipython",
    "version": 3
   },
   "file_extension": ".py",
   "mimetype": "text/x-python",
   "name": "python",
   "nbconvert_exporter": "python",
   "pygments_lexer": "ipython3",
   "version": "3.13.5"
  }
 },
 "nbformat": 4,
 "nbformat_minor": 5
}
